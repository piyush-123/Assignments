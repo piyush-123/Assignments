{
 "cells": [
  {
   "cell_type": "markdown",
   "id": "182e7afc",
   "metadata": {},
   "source": [
    "Q1.What exactly is []?"
   ]
  },
  {
   "cell_type": "markdown",
   "id": "61d5c1de",
   "metadata": {},
   "source": [
    "Answer-\n",
    "\n",
    "[] -  \n",
    "\n",
    "it is used to create a list in python. It contain collection of data of different datatypes separated by comma.\n",
    "Various data can be accessed using index position and various operations can be performed.   \n",
    "eg. [1,2,3,4,'hi',5.6,(3,4,6),[56,89],{'k1':7}]"
   ]
  },
  {
   "cell_type": "markdown",
   "id": "d4e33b6a",
   "metadata": {},
   "source": [
    "Q2.In a list of values stored in a variable called spam, how would you assign the value &#39;hello&#39; as the\n",
    "third value? (Assume [2, 4, 6, 8, 10] are in spam.)"
   ]
  },
  {
   "cell_type": "code",
   "execution_count": 1,
   "id": "d310e52e",
   "metadata": {},
   "outputs": [
    {
     "data": {
      "text/plain": [
       "[2, 4, 'hello', 8, 10]"
      ]
     },
     "execution_count": 1,
     "metadata": {},
     "output_type": "execute_result"
    }
   ],
   "source": [
    "#Answer-\n",
    "\n",
    "spam = [2,4,6,8,10]\n",
    "#assign the value 'hello' as the third value.\n",
    "#Here since the index start from 0 , so to assign the hello as third value it needs to be assigned to 2nd index\n",
    "spam[2] = 'hello'\n",
    "spam"
   ]
  },
  {
   "cell_type": "code",
   "execution_count": 2,
   "id": "7431496e",
   "metadata": {},
   "outputs": [],
   "source": [
    "#Let's pretend the spam includes the list ['a','b','c','d'] for the next three queries.\n",
    "\n",
    "spam = ['a','b','c','d']"
   ]
  },
  {
   "cell_type": "code",
   "execution_count": 3,
   "id": "94ed0276",
   "metadata": {},
   "outputs": [],
   "source": [
    "#Q3.What is the value of spam[int(int('3' * 2) / 11)]?"
   ]
  },
  {
   "cell_type": "markdown",
   "id": "dfe5cdc6",
   "metadata": {},
   "source": [
    "Answer -\n",
    "\n",
    "spam[int(int('33')/11)]   \n",
    "spam[int(33/11)]   \n",
    "spam[3]  \n",
    "'d'   "
   ]
  },
  {
   "cell_type": "markdown",
   "id": "9d169703",
   "metadata": {},
   "source": [
    "Q4. What is the value of spam[-1]?"
   ]
  },
  {
   "cell_type": "markdown",
   "id": "b3fdd8b9",
   "metadata": {},
   "source": [
    "Answer -\n",
    "'d'\n"
   ]
  },
  {
   "cell_type": "markdown",
   "id": "587b25af",
   "metadata": {},
   "source": [
    "Q5 - What is the value of spam[:2]?"
   ]
  },
  {
   "cell_type": "markdown",
   "id": "b789d360",
   "metadata": {},
   "source": [
    "Answer-\n",
    "#slicing the list starting from index 0 to 1 ( 1 less than last index in slice)  \n",
    "'a','b'"
   ]
  },
  {
   "cell_type": "code",
   "execution_count": 9,
   "id": "5b506092",
   "metadata": {},
   "outputs": [
    {
     "data": {
      "text/plain": [
       "'d'"
      ]
     },
     "execution_count": 9,
     "metadata": {},
     "output_type": "execute_result"
    }
   ],
   "source": [
    "spam[-1]"
   ]
  },
  {
   "cell_type": "code",
   "execution_count": 10,
   "id": "aeef4597",
   "metadata": {},
   "outputs": [],
   "source": [
    "#Let's pretend bacon has the list [3.14, 'cat',11,'cat' True] for the next three questions."
   ]
  },
  {
   "cell_type": "code",
   "execution_count": 11,
   "id": "f9e1d433",
   "metadata": {},
   "outputs": [],
   "source": [
    "bacon = [3.14,'cat',11,'cat',True]"
   ]
  },
  {
   "cell_type": "code",
   "execution_count": 12,
   "id": "c78eab7e",
   "metadata": {},
   "outputs": [],
   "source": [
    "#Q6. What is the value of bacon.index('cat')?"
   ]
  },
  {
   "cell_type": "markdown",
   "id": "43becf14",
   "metadata": {},
   "source": [
    "Answer- \n",
    "\n",
    "index function returns the index of element in list of its first occurence  \n",
    "1"
   ]
  },
  {
   "cell_type": "code",
   "execution_count": 15,
   "id": "b5be163e",
   "metadata": {},
   "outputs": [],
   "source": [
    "#Q7.How does bacon.append(99) change the look of the list value in bacon?\n"
   ]
  },
  {
   "cell_type": "code",
   "execution_count": 16,
   "id": "ea6f72e6",
   "metadata": {},
   "outputs": [],
   "source": [
    "#Answer-\n",
    "\n",
    "#append function is used to add an element to the end of a list\n",
    "#so here bacon.append(99) will add elemnt 99 to end of list as shown below\n",
    "\n",
    "bacon.append(99)"
   ]
  },
  {
   "cell_type": "code",
   "execution_count": 17,
   "id": "df5332b2",
   "metadata": {},
   "outputs": [
    {
     "data": {
      "text/plain": [
       "[3.14, 'cat', 11, 'cat', True, 99]"
      ]
     },
     "execution_count": 17,
     "metadata": {},
     "output_type": "execute_result"
    }
   ],
   "source": [
    "bacon"
   ]
  },
  {
   "cell_type": "markdown",
   "id": "20f77176",
   "metadata": {},
   "source": [
    "Q8. How does bacon.remove('cat') change the look of the list in bacon?"
   ]
  },
  {
   "cell_type": "code",
   "execution_count": 18,
   "id": "a1458dc7",
   "metadata": {},
   "outputs": [],
   "source": [
    "#Answer-\n",
    "\n",
    "#remove function is used to remove the first element occurence from the list.\n",
    "#So here bacon.remove('cat') will remove first occurence of 'cat' from list as shown below\n",
    "\n",
    "bacon.remove('cat')"
   ]
  },
  {
   "cell_type": "code",
   "execution_count": 20,
   "id": "0fc451d1",
   "metadata": {},
   "outputs": [
    {
     "data": {
      "text/plain": [
       "[3.14, 11, 'cat', True, 99]"
      ]
     },
     "execution_count": 20,
     "metadata": {},
     "output_type": "execute_result"
    }
   ],
   "source": [
    "bacon"
   ]
  },
  {
   "cell_type": "markdown",
   "id": "087f7a58",
   "metadata": {},
   "source": [
    "Q9. What are the list concatenation and list replication operators?"
   ]
  },
  {
   "cell_type": "markdown",
   "id": "287704f0",
   "metadata": {},
   "source": [
    "Answer -\n",
    "\n",
    "List concatenation is done using '+' operator. Here we can combine different lists in 1 list.  \n",
    "Replication is done using '*' operator where in we can replicate a list multiple times  \n",
    "\n",
    "\n",
    "\n"
   ]
  },
  {
   "cell_type": "code",
   "execution_count": 22,
   "id": "b77a3bc1",
   "metadata": {},
   "outputs": [
    {
     "name": "stdout",
     "output_type": "stream",
     "text": [
      "[1, 2, 3, 4, 5, 6]\n",
      "[1, 2, 3, 1, 2, 3, 1, 2, 3]\n"
     ]
    }
   ],
   "source": [
    "a = [1,2,3]\n",
    "b = [4,5,6]\n",
    "\n",
    "c = a + b\n",
    "\n",
    "d = a * 3\n",
    "print(c)\n",
    "print(d)"
   ]
  },
  {
   "cell_type": "markdown",
   "id": "241529cc",
   "metadata": {},
   "source": [
    "Q10. What is difference between the list methods append() and insert()?"
   ]
  },
  {
   "cell_type": "markdown",
   "id": "fb99fa1c",
   "metadata": {},
   "source": [
    "Answer-\n",
    "\n",
    "append() - this method is used to add an element to a list at the end.   \n",
    "insert() - this method is used to add an elent at specific index location in a list."
   ]
  },
  {
   "cell_type": "markdown",
   "id": "b293ba00",
   "metadata": {},
   "source": [
    "Q11. What are the two methods for removing items from a list?"
   ]
  },
  {
   "cell_type": "markdown",
   "id": "17ee56b7",
   "metadata": {},
   "source": [
    "Answer-\n",
    "\n",
    "1) remove method is used to remove an first occurence of an element from the list.  \n",
    "2) pop method is used to remove the element in list of specified index.By default it removes last element from the list "
   ]
  },
  {
   "cell_type": "markdown",
   "id": "6d9de144",
   "metadata": {},
   "source": [
    "Q12. Describe how list values and string values are identical."
   ]
  },
  {
   "cell_type": "markdown",
   "id": "44eaea81",
   "metadata": {},
   "source": [
    "Answer - \n",
    "\n",
    "list values and strings are accessible using index values. \n",
    "\n",
    "e.g. l = [1,2,3,4,5]   \n",
    "str1 = \"hello\"\n",
    "\n",
    "So here we can access the first element of list using index 0. Similarly, to access the first character of string using the index as 0\n",
    "\n",
    "l[0] = 1\n",
    "\n",
    "str1[0] = 'h'\n",
    "\n",
    "similarly we can find the length of list and string using len() method.\n",
    "\n",
    "\n",
    "\n",
    "\n",
    " "
   ]
  },
  {
   "cell_type": "markdown",
   "id": "93337adc",
   "metadata": {},
   "source": [
    "Q13 What's the difference between tuples and lists?"
   ]
  },
  {
   "cell_type": "markdown",
   "id": "12e02254",
   "metadata": {},
   "source": [
    "Answer -\n",
    "\n",
    "tuple is used to create a collection of elements using () brackets. Tuples are immutable so once it is created it cannot be changed\n",
    "\n",
    "List is also used to create a collection of elements using [] brackets. Lists are mutable and can be modified to change\n",
    "the elements.\n",
    "\n",
    "Also tuples occupy less memory than list while storing the same number and type of elements inside them.\n",
    "\n"
   ]
  },
  {
   "cell_type": "markdown",
   "id": "be1b5928",
   "metadata": {},
   "source": [
    "Q14 How do you type a tuple value that only contains the integer 42?"
   ]
  },
  {
   "cell_type": "markdown",
   "id": "b69d6a8b",
   "metadata": {},
   "source": [
    "Answer-\n",
    "\n",
    "we can define tuple as below - \n",
    "\n",
    "a = (42,).\n",
    "\n",
    "It is shown below"
   ]
  },
  {
   "cell_type": "code",
   "execution_count": 28,
   "id": "dec16510",
   "metadata": {},
   "outputs": [],
   "source": [
    "a = (42,)"
   ]
  },
  {
   "cell_type": "code",
   "execution_count": 29,
   "id": "0e87755a",
   "metadata": {},
   "outputs": [
    {
     "data": {
      "text/plain": [
       "tuple"
      ]
     },
     "execution_count": 29,
     "metadata": {},
     "output_type": "execute_result"
    }
   ],
   "source": [
    "type(a)"
   ]
  },
  {
   "cell_type": "markdown",
   "id": "93bbef6a",
   "metadata": {},
   "source": [
    "Q15 How do you get a list value's tuple form? How do you get a tuple value's list form?"
   ]
  },
  {
   "cell_type": "markdown",
   "id": "a33ff66f",
   "metadata": {},
   "source": [
    "Answer-\n",
    "\n",
    "we can type case the list to tuples and tuples to list.\n",
    "\n",
    "e.g. a tuple is created as a = (1,2,3,4,5). its list form can be obtained as list(a)  \n",
    "similary a list is created as l = [3,4,5,6,7],its tuple form can be obtained as tuple(l)\n",
    "\n"
   ]
  },
  {
   "cell_type": "code",
   "execution_count": 30,
   "id": "c834f555",
   "metadata": {},
   "outputs": [
    {
     "data": {
      "text/plain": [
       "[1, 2, 3, 4, 5]"
      ]
     },
     "execution_count": 30,
     "metadata": {},
     "output_type": "execute_result"
    }
   ],
   "source": [
    "a = (1,2,3,4,5)\n",
    "list(a)"
   ]
  },
  {
   "cell_type": "code",
   "execution_count": 31,
   "id": "aba7cf3d",
   "metadata": {},
   "outputs": [
    {
     "data": {
      "text/plain": [
       "(3, 4, 5, 6, 7)"
      ]
     },
     "execution_count": 31,
     "metadata": {},
     "output_type": "execute_result"
    }
   ],
   "source": [
    "l = [3,4,5,6,7]\n",
    "tuple(l)"
   ]
  },
  {
   "cell_type": "markdown",
   "id": "b0b894de",
   "metadata": {},
   "source": [
    "Q16. Variables that \"contain\" list values are not necessarily lists themselves. Instead, what do they\n",
    "contain?"
   ]
  },
  {
   "cell_type": "markdown",
   "id": "1af37dec",
   "metadata": {},
   "source": [
    "Answer - \n",
    "\n",
    "Python stores the reference when the data type is mutable.  \n",
    "So,Variables contain the reference of lists instead of having the lists themselves.  \n",
    "\n",
    "e.g l = [9,0,8,7,78]  \n",
    "so here l has the reference of the list."
   ]
  },
  {
   "cell_type": "markdown",
   "id": "36e673e6",
   "metadata": {},
   "source": [
    "Q17. How do you distinguish between copy.copy() and copy.deepcopy()?"
   ]
  },
  {
   "cell_type": "markdown",
   "id": "de73d024",
   "metadata": {},
   "source": [
    "Answer -\n",
    "\n",
    "copy() function is used to create a copy of the list by copying the reference of the list. So it creates a new\n",
    "reference of list by using the copy function. Changes made in copied list does get reflected in copied list\n",
    "\n",
    "deepcopy() function is used to create the duplicate copy of the list . So here both lists have their own refrence.\n",
    "Changes made in copied list does not get reflected in original list.\n",
    "\n",
    "Below are the example shown-"
   ]
  },
  {
   "cell_type": "code",
   "execution_count": 47,
   "id": "435f624e",
   "metadata": {},
   "outputs": [
    {
     "name": "stdout",
     "output_type": "stream",
     "text": [
      "The original elements before copying\n",
      "2 3 [4, 5] 99 \n",
      "The new list  elements after copying\n",
      "2 3 [7, 5] 99 "
     ]
    }
   ],
   "source": [
    "import copy\n",
    "a= [2,3,[4,5],99]\n",
    "\n",
    "print (\"The original elements before copying\")\n",
    "for i in range(len(a)):\n",
    "    print (a[i],end=\" \")\n",
    "print()\n",
    "\n",
    "b = copy.copy(a)\n",
    "\n",
    "a[2][0] = 7\n",
    "\n",
    "print (\"The new list  elements after copying\")\n",
    "for i in range(len(b)):\n",
    "    print (b[i],end=\" \")\n",
    "\n",
    "\n",
    "\n",
    "\n"
   ]
  },
  {
   "cell_type": "code",
   "execution_count": 45,
   "id": "97d9639c",
   "metadata": {},
   "outputs": [
    {
     "name": "stdout",
     "output_type": "stream",
     "text": [
      "The original elements before deep copying\n",
      "1 2 [3, 5] 4 \n",
      "The new list of elements after deep copying \n",
      "345 2 [3, 5] 4 \n",
      "The original elements after deep copying\n",
      "1 2 [3, 5] 4 "
     ]
    }
   ],
   "source": [
    "import copy\n",
    "a = [1, 2, [3,5], 4]\n",
    "  \n",
    "b = copy.deepcopy(a)\n",
    "  \n",
    "print (\"The original elements before deep copying\")\n",
    "for i in range(len(a)):\n",
    "    print (a[i],end=\" \")\n",
    "  \n",
    "print()\n",
    "\n",
    "b[0] = 345\n",
    "\n",
    "print (\"The new list of elements after deep copying \")\n",
    "for i in range(0,len(b)):\n",
    "    print (b[i],end=\" \")\n",
    "  \n",
    "print()\n",
    "\n",
    "print (\"The original elements after deep copying\")\n",
    "for i in range(0,len(a)):\n",
    "    print (a[i],end=\" \")"
   ]
  },
  {
   "cell_type": "code",
   "execution_count": null,
   "id": "d991a212",
   "metadata": {},
   "outputs": [],
   "source": []
  }
 ],
 "metadata": {
  "kernelspec": {
   "display_name": "Python 3 (ipykernel)",
   "language": "python",
   "name": "python3"
  },
  "language_info": {
   "codemirror_mode": {
    "name": "ipython",
    "version": 3
   },
   "file_extension": ".py",
   "mimetype": "text/x-python",
   "name": "python",
   "nbconvert_exporter": "python",
   "pygments_lexer": "ipython3",
   "version": "3.9.7"
  }
 },
 "nbformat": 4,
 "nbformat_minor": 5
}
