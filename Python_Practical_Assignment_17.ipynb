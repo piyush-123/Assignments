{
 "cells": [
  {
   "cell_type": "markdown",
   "id": "fadf944d",
   "metadata": {},
   "source": [
    "Question1. Create a function that takes three arguments a, b, c and returns the sum of the   \n",
    "numbers that are evenly divided by c from the range a, b inclusive.  \n",
    "Examples  \n",
    "evenly_divisible(1, 10, 20) ➞ 0  \n",
    "No number between 1 and 10 can be evenly divided by 20.  \n",
    "evenly_divisible(1, 10, 2) ➞ 30  \n",
    "2 + 4 + 6 + 8 + 10 = 30  \n",
    "evenly_divisible(1, 10, 3) ➞ 18  \n",
    "3 + 6 + 9 = 18  "
   ]
  },
  {
   "cell_type": "code",
   "execution_count": 1,
   "id": "15e19c22",
   "metadata": {},
   "outputs": [],
   "source": [
    "def func1(a,b,c):\n",
    "    sum = 0\n",
    "    for i in range(a,b+1):\n",
    "        if i % c == 0:\n",
    "            sum = sum + i\n",
    "    return sum"
   ]
  },
  {
   "cell_type": "code",
   "execution_count": 2,
   "id": "9aa938c8",
   "metadata": {},
   "outputs": [
    {
     "name": "stdout",
     "output_type": "stream",
     "text": [
      "18\n"
     ]
    }
   ],
   "source": [
    "print(func1(1,10,3))"
   ]
  },
  {
   "cell_type": "markdown",
   "id": "5755f410",
   "metadata": {},
   "source": [
    "Question2. Create a function that returns True if a given inequality expression is correct and  \n",
    "False otherwise.  \n",
    "Examples  \n",
    "correct_signs(\"3 < 7 < 11\") ➞ True  \n",
    "correct_signs(\"13 >  44 > 33 > 1\") ➞ False  \n",
    "correct_signs(\"1 < 2 > 6 < 9 > 3\") ➞ True  "
   ]
  },
  {
   "cell_type": "code",
   "execution_count": 3,
   "id": "711933ed",
   "metadata": {},
   "outputs": [],
   "source": [
    "def correct_signs(input_str):\n",
    "    op1 = \"\"\n",
    "    temp1 = \"\"\n",
    "    temp2 = \"\"\n",
    "    first = True\n",
    "    for i in input_str:\n",
    "        if i != \"<\" and  i != \">\":\n",
    "            if op1 == \"\":\n",
    "                if first:\n",
    "                    temp1 = i+temp1\n",
    "            else:\n",
    "                temp2 = i+temp2\n",
    "        elif i == '<' or i == '>':\n",
    "            if op1 == \"\":\n",
    "                op1 = i\n",
    "            else:\n",
    "                value1 = int(temp1)\n",
    "                value2 = int(temp2)\n",
    "                if op1 == '<':\n",
    "                    if value1 > value2:\n",
    "                        return False\n",
    "                    else:\n",
    "                        temp1 = temp2\n",
    "                        temp2 = \"\"\n",
    "                        op1 = \"\"\n",
    "                        first = False\n",
    "                elif op1 == '>':\n",
    "                    if value1 < value2:\n",
    "                        return False\n",
    "                    else:\n",
    "                        temp1 = temp2\n",
    "                        temp2 = \"\"\n",
    "                        op1 = \"\"\n",
    "                        first = False\n",
    "        \n",
    "    return True    "
   ]
  },
  {
   "cell_type": "code",
   "execution_count": 4,
   "id": "bb6818a5",
   "metadata": {},
   "outputs": [
    {
     "name": "stdout",
     "output_type": "stream",
     "text": [
      "True\n"
     ]
    }
   ],
   "source": [
    "print(correct_signs(\"1<2>6<9>3\") )"
   ]
  },
  {
   "cell_type": "markdown",
   "id": "2845adb1",
   "metadata": {},
   "source": [
    "Question3. Create a function that replaces all the vowels in a string with a specified character. \n",
    "Examples  \n",
    "replace_vowels(\"the aardvark\", \"#\";) ➞\"th# ##rdv#rk\";  \n",
    "replace_vowels(\"minnie mouse\";, \"?\") ➞ \"m?nn?? m??s?\"  \n",
    "replace_vowels(\"shakespeare\", \"*\") ➞ \"sh * k*sp**r*\";  "
   ]
  },
  {
   "cell_type": "code",
   "execution_count": 5,
   "id": "cb473d75",
   "metadata": {},
   "outputs": [],
   "source": [
    "def replace_vowels(inp_str,c):\n",
    "    opt = \"\"\n",
    "    for i in inp_str:\n",
    "        if i in ['a','e','i','o','u']:\n",
    "            opt = opt + i.replace(i,c)\n",
    "        else:\n",
    "            opt = opt + i\n",
    "            \n",
    "    return opt\n",
    "            "
   ]
  },
  {
   "cell_type": "code",
   "execution_count": 6,
   "id": "07d10eb9",
   "metadata": {},
   "outputs": [
    {
     "name": "stdout",
     "output_type": "stream",
     "text": [
      "sh*k*sp**r*\n"
     ]
    }
   ],
   "source": [
    "print(replace_vowels(\"shakespeare\", \"*\"))"
   ]
  },
  {
   "cell_type": "markdown",
   "id": "7c704d31",
   "metadata": {},
   "source": [
    "Question4. Write a function that calculates the factorial of a number recursively.  \n",
    "Examples  \n",
    "factorial(5) ➞ 120  \n",
    "factorial(3) ➞ 6   \n",
    "factorial(1) ➞ 1  \n",
    "factorial(0) ➞ 1  "
   ]
  },
  {
   "cell_type": "code",
   "execution_count": 7,
   "id": "89773233",
   "metadata": {},
   "outputs": [],
   "source": [
    "def fact(number):\n",
    "    result = 1\n",
    "    while number > 0:\n",
    "        result = result * number\n",
    "        number = number - 1\n",
    "    return result"
   ]
  },
  {
   "cell_type": "code",
   "execution_count": 8,
   "id": "3c9e0b4e",
   "metadata": {},
   "outputs": [
    {
     "name": "stdout",
     "output_type": "stream",
     "text": [
      "1\n"
     ]
    }
   ],
   "source": [
    "print(fact(0))"
   ]
  },
  {
   "cell_type": "markdown",
   "id": "de365a72",
   "metadata": {},
   "source": [
    "Question 5  \n",
    "Hamming distance is the number of characters that differ between two strings.     \n",
    "To illustrate:     \n",
    "String1: \"abcbba\"   \n",
    "String2: \"abcbda\"   \n",
    "Hamming Distance: 1 - \"b\" vs. \"d\" is the only difference.   \n",
    "Create a function that computes the hamming distance between two strings.    \n",
    "Examples   \n",
    "hamming_distance(\"abcde\", \"bcdef\") ➞ 5   \n",
    "hamming_distance(\"abcde\", \"abcde\") ➞ 0  \n",
    "hamming_distance(\"strong\",\"strung\") ➞ 1   "
   ]
  },
  {
   "cell_type": "code",
   "execution_count": 9,
   "id": "8b882035",
   "metadata": {},
   "outputs": [],
   "source": [
    "def hamming_distance(str1,str2):\n",
    "    dist = 0\n",
    "    for i in range(len(str1)):\n",
    "        if str1[i] != str2[i]:\n",
    "            dist = dist+1\n",
    "    return dist"
   ]
  },
  {
   "cell_type": "code",
   "execution_count": 10,
   "id": "311a4517",
   "metadata": {},
   "outputs": [
    {
     "name": "stdout",
     "output_type": "stream",
     "text": [
      "1\n"
     ]
    }
   ],
   "source": [
    "print(hamming_distance(\"strong\",\"strung\"))"
   ]
  }
 ],
 "metadata": {
  "kernelspec": {
   "display_name": "Python 3 (ipykernel)",
   "language": "python",
   "name": "python3"
  },
  "language_info": {
   "codemirror_mode": {
    "name": "ipython",
    "version": 3
   },
   "file_extension": ".py",
   "mimetype": "text/x-python",
   "name": "python",
   "nbconvert_exporter": "python",
   "pygments_lexer": "ipython3",
   "version": "3.10.4"
  }
 },
 "nbformat": 4,
 "nbformat_minor": 5
}
