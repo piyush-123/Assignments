{
 "cells": [
  {
   "cell_type": "markdown",
   "id": "9a798410",
   "metadata": {},
   "source": [
    "### Assignment 1"
   ]
  },
  {
   "cell_type": "markdown",
   "id": "622e44b0",
   "metadata": {},
   "source": [
    "Q1. In the below elements which of them are values or an expression? eg:- values can be\n",
    "integer or string and expressions will be mathematical operators.\n",
    "\n",
    "(*)    \n",
    "'hello'    \n",
    "-87.8    \n",
    "(-)    \n",
    "(/)    \n",
    "(+)    \n",
    "6  "
   ]
  },
  {
   "cell_type": "markdown",
   "id": "39dbeafa",
   "metadata": {},
   "source": [
    "Answer - \n",
    "\n",
    "(*)                 - Expression   \n",
    "'hello'           - Value    \n",
    "-87.8             - Value    \n",
    "(-)                 - Expression   \n",
    "/                 - Expression   \n",
    "(+)                 - Expression   \n",
    "6                 - Value   "
   ]
  },
  {
   "cell_type": "markdown",
   "id": "d30aefe4",
   "metadata": {},
   "source": [
    "Q2 - What is the difference between string and variable?"
   ]
  },
  {
   "cell_type": "markdown",
   "id": "be385c2d",
   "metadata": {},
   "source": [
    "Answer-\n",
    "\n",
    "String  is used to create a text. It is the value contained in quotes either single or double quotes.\n",
    "String is immutable object. There are various operations can be done on tring like to change the case,\n",
    "split the string, to check if string contains numeric data, to get the length of string.\n",
    "\n",
    "Variable - It is a container which can store a value. Value in variable can be changed in\n",
    "the logic. It is used to build logics with various conditions,loops etc so that value can be modified\n",
    "as per the need.\n"
   ]
  },
  {
   "cell_type": "markdown",
   "id": "4d31296a",
   "metadata": {},
   "source": [
    "Q3 - Describe three different data types."
   ]
  },
  {
   "cell_type": "markdown",
   "id": "6ff68565",
   "metadata": {},
   "source": [
    "Answer-\n",
    "\n",
    "1) Int - It is used  for whole number without any fractions. Various mathematical operations can be done on these like addition,substraction,division,multiplication.  \n",
    "2) Float - It is used for decimal numbers.Various mathematical operations can be done on these like addition,substraction,division,multiplication.  \n",
    "3) String - It is used for text data. Various operations like concatenation,split,case changes etc can be done.  \n",
    "4) Boolean - It is used for storing decisions like True or False.  \n",
    "5) List - It is used to contain different values of differnt types like int,float,string.it is represented by square [] brackets.   "
   ]
  },
  {
   "cell_type": "markdown",
   "id": "7dbf2dc4",
   "metadata": {},
   "source": [
    "Q4 - What is an expression made up of? What do all expressions do?"
   ]
  },
  {
   "cell_type": "markdown",
   "id": "a0a2712e",
   "metadata": {},
   "source": [
    "Answer - Expression is made up of literals/variables and operators. It is used to perform some \n",
    "action on the given variables/literals based on the operators.e.g to add 2 numbers, we can write\n",
    "an expression a+b . Here a and b are variables and + is an operator. Similarly, diiferent \n",
    "kind of operations can be done using expressions. These are the basic instructions which computer\n",
    "can process."
   ]
  },
  {
   "cell_type": "markdown",
   "id": "4575cd04",
   "metadata": {},
   "source": [
    "Q5 - This assignment statements, like spam = 10. What is the difference between an\n",
    "expression and a statement?"
   ]
  },
  {
   "cell_type": "markdown",
   "id": "05b663c8",
   "metadata": {},
   "source": [
    "Answer -  Expression is used to perform certain action based on operator and variables and produces\n",
    "the results. Statement  does not do any calculations. Here spam = 10 is just a statement where spam \n",
    "will be 10. it does not evaluate any thing."
   ]
  },
  {
   "cell_type": "markdown",
   "id": "df70a7dd",
   "metadata": {},
   "source": [
    "Q6 - After running the following code, what does the variable bacon contain?\n",
    "bacon = 22\n",
    "bacon + 1"
   ]
  },
  {
   "cell_type": "markdown",
   "id": "1caf35a6",
   "metadata": {},
   "source": [
    "Answer  - Bacon will still be 22 as we are not assigning back bacon +1 to bacon so it wont affect the original\n",
    "value"
   ]
  },
  {
   "cell_type": "markdown",
   "id": "c83f72d3",
   "metadata": {},
   "source": [
    "Q7. What should the values of the following two terms be?  \n",
    "'spam' + 'spamspam'   \n",
    "'spam' * 3"
   ]
  },
  {
   "cell_type": "markdown",
   "id": "a72dff07",
   "metadata": {},
   "source": [
    "Answer - \n",
    "spamspampam  \n",
    "spamspamspam  "
   ]
  },
  {
   "cell_type": "markdown",
   "id": "9da9c421",
   "metadata": {},
   "source": [
    "Q8 - Why is eggs a valid variable name while 100 is invalid?"
   ]
  },
  {
   "cell_type": "markdown",
   "id": "e5fcdd2a",
   "metadata": {},
   "source": [
    "Answer -  As per the python standar, variable name can consist of alphabets,numbers  and underscore.\n",
    "and it should begin with either aplhabets or underscore.\n",
    "So eggs is valid name as it begin with alphabet e while 100 is invalid as it begins with number\n"
   ]
  },
  {
   "cell_type": "markdown",
   "id": "c7a45f0b",
   "metadata": {},
   "source": [
    "Q9. What three functions can be used to get the integer, floating-point number, or string\n",
    "version of a value?"
   ]
  },
  {
   "cell_type": "markdown",
   "id": "47e92faf",
   "metadata": {},
   "source": [
    "Answer -  \n",
    "int() - this is used to convert the value to integer  \n",
    "float() - this is used to convert the value to float  \n",
    "str() - this is used to convert the value to string.    "
   ]
  },
  {
   "cell_type": "markdown",
   "id": "94ae75e8",
   "metadata": {},
   "source": [
    "Q10. Why does this expression cause an error? How can you fix it?\n",
    "'I have eaten' + 99 + 'burritos.'"
   ]
  },
  {
   "cell_type": "markdown",
   "id": "6fa4708c",
   "metadata": {},
   "source": [
    "Answer -   \n",
    "Here we are trying to concatenate the string literals. But in between we got 99 as integer so we cannot concatenate \n",
    "integer and string.  \n",
    " \n",
    "SO, to resole the error we need to add quotes around 99 as shown below  \n",
    "'I have eaten' + '99' + 'burritos.'  \n",
    "Now it will work \n"
   ]
  }
 ],
 "metadata": {
  "kernelspec": {
   "display_name": "Python 3 (ipykernel)",
   "language": "python",
   "name": "python3"
  },
  "language_info": {
   "codemirror_mode": {
    "name": "ipython",
    "version": 3
   },
   "file_extension": ".py",
   "mimetype": "text/x-python",
   "name": "python",
   "nbconvert_exporter": "python",
   "pygments_lexer": "ipython3",
   "version": "3.9.7"
  }
 },
 "nbformat": 4,
 "nbformat_minor": 5
}
