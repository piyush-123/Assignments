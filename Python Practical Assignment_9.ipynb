{
 "cells": [
  {
   "cell_type": "code",
   "execution_count": 1,
   "id": "46a3ad73",
   "metadata": {},
   "outputs": [
    {
     "name": "stdout",
     "output_type": "stream",
     "text": [
      "1758 is not Disarium Number \n",
      "\n"
     ]
    }
   ],
   "source": [
    "#Q1 Write a Python program to check if the given number is a Disarium Number?\n",
    "\n",
    "#Disarium Number - A number is disarium number if sum of digits with power of its position is equal to original number\n",
    "\n",
    "\n",
    "num = 1758\n",
    "temp = num\n",
    "inputd = num\n",
    "\n",
    "lenn = 0\n",
    "i = 1\n",
    "rem = 0\n",
    "\n",
    "while num > 0:\n",
    "    rem  = num % (10 ** i)\n",
    "    num = num - rem\n",
    "    i = i+1\n",
    "\n",
    "lenn = i - 1\n",
    "sum = 0\n",
    "j = 1\n",
    "\n",
    "while temp > 0:\n",
    "    rem = temp % 10\n",
    "    sum = sum + (rem ** lenn)\n",
    "    lenn = lenn - 1\n",
    "    temp = temp // 10\n",
    "    \n",
    "\n",
    "if inputd == sum:\n",
    "    print(f\"{inputd} is Disarium Number \\n\")\n",
    "else:\n",
    "    print(f\"{inputd} is not Disarium Number \\n\")\n",
    "    \n",
    "    \n",
    "    \n",
    "    \n",
    "    \n"
   ]
  },
  {
   "cell_type": "code",
   "execution_count": 2,
   "id": "079050d4",
   "metadata": {},
   "outputs": [
    {
     "name": "stdout",
     "output_type": "stream",
     "text": [
      "Disarium numbers between 1 and 100 are \n",
      " \n",
      "1\n",
      "2\n",
      "3\n",
      "4\n",
      "5\n",
      "6\n",
      "7\n",
      "8\n",
      "9\n",
      "89\n"
     ]
    }
   ],
   "source": [
    "#Q2. Write a Python program to print all disarium numbers between 1 to 100?\n",
    "\n",
    "print(\"Disarium numbers between 1 and 100 are \\n \")\n",
    "for num in range(1,100):\n",
    "    temp = num\n",
    "    inputd = num\n",
    "\n",
    "    lenn = 0\n",
    "    i = 1\n",
    "    rem = 0\n",
    "\n",
    "    while num > 0:\n",
    "        rem  = num % (10 ** i)\n",
    "        num = num - rem\n",
    "        i = i+1\n",
    "\n",
    "    lenn = i - 1\n",
    "    sum = 0\n",
    "    j = 1\n",
    "\n",
    "    while temp > 0:\n",
    "        rem = temp % 10\n",
    "        sum = sum + (rem ** lenn)\n",
    "        lenn = lenn - 1\n",
    "        temp = temp // 10\n",
    "\n",
    "\n",
    "    if inputd == sum:\n",
    "        print(f\"{inputd}\")\n",
    "\n"
   ]
  },
  {
   "cell_type": "code",
   "execution_count": 3,
   "id": "4d9ed5af",
   "metadata": {},
   "outputs": [
    {
     "name": "stdout",
     "output_type": "stream",
     "text": [
      "789 is not a Happy Number\n"
     ]
    }
   ],
   "source": [
    "#Q3. Write a Python program to check if the given number is Happy Number?\n",
    "\n",
    "#Happy Number - A number is happy number if the number is replaced with the sum of square of digits with power of 2  until it becomes 1\n",
    "# and if the same number appear more than 1 then it is not happy number.\n",
    "\n",
    "num = 789\n",
    "temp = num\n",
    "i = 1\n",
    "rem = 0\n",
    "sum = 0\n",
    "visited = []\n",
    "while True:\n",
    "    while temp > 0:\n",
    "        rem = temp % 10\n",
    "        sum = sum + (rem ** 2)\n",
    "        temp = temp // 10\n",
    "    if sum == 1:\n",
    "        happy = True\n",
    "        break\n",
    "    elif sum in visited:        \n",
    "        happy = False\n",
    "        break\n",
    "    else:\n",
    "        visited.append(sum)\n",
    "        temp = sum\n",
    "        sum = 0\n",
    "\n",
    "if happy:\n",
    "    print(f\"{num} is a Happy Number\")\n",
    "else:\n",
    "    print(f\"{num} is not a Happy Number\")    \n",
    "        \n",
    "    \n",
    "        \n"
   ]
  },
  {
   "cell_type": "code",
   "execution_count": 4,
   "id": "d10055c0",
   "metadata": {},
   "outputs": [
    {
     "name": "stdout",
     "output_type": "stream",
     "text": [
      "Happy Numbers between 1 and 100 are :  \n",
      "\n",
      "1\n",
      "7\n",
      "10\n",
      "13\n",
      "19\n",
      "23\n",
      "28\n",
      "31\n",
      "32\n",
      "44\n",
      "49\n",
      "68\n",
      "70\n",
      "79\n",
      "82\n",
      "86\n",
      "91\n",
      "94\n",
      "97\n",
      "100\n"
     ]
    }
   ],
   "source": [
    "#Q4 Write a Python program to print all happy numbers between 1 and 100?\n",
    "print(\"Happy Numbers between 1 and 100 are :  \\n\")\n",
    "for num in range(1,101):\n",
    "\n",
    "    temp = num\n",
    "    i = 1\n",
    "    rem = 0\n",
    "    sum = 0\n",
    "    visited = []\n",
    "    while True:\n",
    "        while temp > 0:\n",
    "            rem = temp % 10\n",
    "            sum = sum + (rem ** 2)\n",
    "            temp = temp // 10\n",
    "        if sum == 1:\n",
    "            happy = True\n",
    "            break\n",
    "        elif sum in visited:        \n",
    "            happy = False\n",
    "            break\n",
    "        else:\n",
    "            visited.append(sum)\n",
    "            temp = sum\n",
    "            sum = 0\n",
    "\n",
    "    if happy:\n",
    "        print(num)"
   ]
  },
  {
   "cell_type": "code",
   "execution_count": 5,
   "id": "c20d46f7",
   "metadata": {},
   "outputs": [
    {
     "name": "stdout",
     "output_type": "stream",
     "text": [
      "98 is a not harshad number\n"
     ]
    }
   ],
   "source": [
    "#Q5 Write a Python program to determine whether the given number is a Harshad Number?\n",
    "\n",
    "# HArshad Number - If a number is divisible by sum of its digits , it is a harshad Number\n",
    "\n",
    "num = 98\n",
    "temp = num\n",
    "sum = 0\n",
    "while num > 0:\n",
    "    rem = num % 10\n",
    "    sum = sum + rem\n",
    "    num = num // 10\n",
    "\n",
    "\n",
    "\n",
    "div = temp % sum\n",
    "\n",
    "if div == 0:\n",
    "    print(f\"{temp} is a harshad number\")\n",
    "else:\n",
    "    print(f\"{temp} is a not harshad number\")\n",
    "\n"
   ]
  },
  {
   "cell_type": "code",
   "execution_count": 6,
   "id": "e462de71",
   "metadata": {},
   "outputs": [
    {
     "name": "stdout",
     "output_type": "stream",
     "text": [
      "Pronic Numbers between 1 and 100 are :  \n",
      "\n",
      "2\n",
      "6\n",
      "12\n",
      "20\n",
      "30\n",
      "42\n",
      "56\n",
      "72\n",
      "90\n"
     ]
    }
   ],
   "source": [
    "#Q6 Write a Python program to print all pronic numbers between 1 and 100?\n",
    "#pronic number is product of two consecutive numbers\n",
    "\n",
    "print(\"Pronic Numbers between 1 and 100 are :  \\n\")\n",
    "\n",
    "for i in range(1,100):\n",
    "    j = 0\n",
    "    while j <= i:\n",
    "        num = j * (j+1)\n",
    "        if num == i:\n",
    "            print(i)\n",
    "            break\n",
    "        else:\n",
    "            j = j+1\n",
    "        "
   ]
  }
 ],
 "metadata": {
  "kernelspec": {
   "display_name": "Python 3 (ipykernel)",
   "language": "python",
   "name": "python3"
  },
  "language_info": {
   "codemirror_mode": {
    "name": "ipython",
    "version": 3
   },
   "file_extension": ".py",
   "mimetype": "text/x-python",
   "name": "python",
   "nbconvert_exporter": "python",
   "pygments_lexer": "ipython3",
   "version": "3.9.7"
  }
 },
 "nbformat": 4,
 "nbformat_minor": 5
}
