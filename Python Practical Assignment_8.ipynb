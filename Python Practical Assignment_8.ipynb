{
 "cells": [
  {
   "cell_type": "code",
   "execution_count": 1,
   "id": "5978649e",
   "metadata": {},
   "outputs": [
    {
     "name": "stdout",
     "output_type": "stream",
     "text": [
      "Addition of matrix  \n",
      " [[1 2 3]\n",
      " [4 5 6]\n",
      " [7 8 9]] \n",
      " and \n",
      " [[10 11 12]\n",
      " [13 14 15]\n",
      " [16 17 18]] \n",
      "  is \n",
      " [[11 13 15]\n",
      " [17 19 21]\n",
      " [23 25 27]]\n"
     ]
    }
   ],
   "source": [
    "#Q1 Write a Python Program to Add Two Matrices?\n",
    "\n",
    "import numpy\n",
    "\n",
    "a1 = numpy.array([[1,2,3],[4,5,6],[7,8,9]])\n",
    "a2 = numpy.array([[10,11,12],[13,14,15],[16,17,18]])\n",
    "\n",
    "temp1 = a1.ravel()\n",
    "temp2 = a2.ravel()\n",
    "temp3 = []\n",
    "for i in range(len(temp1)):\n",
    "    temp3.append(temp1[i] + temp2[i])\n",
    "\n",
    "temp3 = numpy.array(temp3).reshape(3,3)\n",
    "\n",
    "print(f\"Addition of matrix  \\n {a1} \\n and \\n {a2} \\n  is \\n {temp3}\")\n",
    "    \n",
    "    "
   ]
  },
  {
   "cell_type": "code",
   "execution_count": 2,
   "id": "67cfcee0",
   "metadata": {},
   "outputs": [
    {
     "name": "stdout",
     "output_type": "stream",
     "text": [
      "Multiplication of matrix is \n",
      " \n",
      " [[1 2]\n",
      " [4 5]\n",
      " [7 8]] \n",
      " and \n",
      " [[10 11 12]\n",
      " [13 14 15]] \n",
      "  is \n",
      " [[ 36.  39.  42.]\n",
      " [105. 114. 123.]\n",
      " [174. 189. 204.]]\n"
     ]
    }
   ],
   "source": [
    "#Question 2 Write a Python Program to Multiply Two Matrices?\n",
    "\n",
    "a1 = numpy.array([[1,2],[4,5],[7,8]])\n",
    "a2 = numpy.array([[10,11,12],[13,14,15]])\n",
    "a3 = numpy.zeros((a1.shape[0],a2.shape[1]))\n",
    "\n",
    "sum = 0\n",
    "n = 0\n",
    "for i in range(a1.shape[0]):\n",
    "    for j in range(a2.shape[1]):\n",
    "        for k in range(a2.shape[0]):\n",
    "            sum = sum + (a1[i][k] * a2[k][j] )\n",
    "        a3[i][j] = sum\n",
    "        sum = 0\n",
    "\n",
    "\n",
    "print(f\"Multiplication of matrix is \\n \\n {a1} \\n and \\n {a2} \\n  is \\n {a3}\")\n",
    "\n",
    "\n",
    "\n",
    "        \n",
    "        \n",
    "        \n",
    "        \n",
    "        \n",
    "    \n",
    "\n",
    "\n"
   ]
  },
  {
   "cell_type": "code",
   "execution_count": 3,
   "id": "bd3f53e9",
   "metadata": {},
   "outputs": [
    {
     "name": "stdout",
     "output_type": "stream",
     "text": [
      "Input matrix is \n",
      " \n",
      " [[1. 2. 3.]\n",
      " [4. 5. 6.]\n",
      " [7. 8. 9.]]\n",
      "Transpose of matrix is \n",
      " \n",
      "[[1. 4. 7.]\n",
      " [2. 5. 8.]\n",
      " [3. 6. 9.]]\n"
     ]
    }
   ],
   "source": [
    "#Question3 - Write a Python Program to Transpose a Matrix?\n",
    "\n",
    "a = numpy.array([[1.,2.,3.],[4.,5.,6.],[7.,8.,9.]])\n",
    "\n",
    "b = numpy.zeros((a.shape[0],a.shape[1]))\n",
    "print(f\"Input matrix is \\n \\n {a}\")\n",
    "\n",
    "print(\"Transpose of matrix is \\n \")\n",
    "\n",
    "for i in range(a.shape[0]):\n",
    "    b[:,i] = a[i,:]\n",
    "    \n",
    "print(b)\n",
    "\n",
    "\n",
    "\n"
   ]
  },
  {
   "cell_type": "code",
   "execution_count": 4,
   "id": "c55ef2d0",
   "metadata": {},
   "outputs": [
    {
     "name": "stdout",
     "output_type": "stream",
     "text": [
      "Input World is : helloworld\n",
      "Output word in Sorted Aphabetical Order is :dehllloorw\n"
     ]
    }
   ],
   "source": [
    "#Question4 - Write a Python Program to Sort Words in Alphabetic Order?\n",
    "\n",
    "test = \"helloworld\"\n",
    "result = ''.join(sorted(test))\n",
    "print(f\"Input World is : {test}\")\n",
    "print(f\"Output word in Sorted Aphabetical Order is :{result}\")\n"
   ]
  },
  {
   "cell_type": "code",
   "execution_count": 5,
   "id": "79382e43",
   "metadata": {},
   "outputs": [
    {
     "name": "stdout",
     "output_type": "stream",
     "text": [
      "Input String with punctuation is \n",
      " I'm learning Python. It's easy & simple to understand \n",
      " \n",
      "Output String without punctuation is \n",
      " Im learning Python Its easy  simple to understand \n",
      " \n"
     ]
    }
   ],
   "source": [
    "#Question5 - Write a Python Program to Remove Punctuation From a String?\n",
    "\n",
    "teststring = \"I'm learning Python. It's easy & simple to understand\"\n",
    "\n",
    "punct = '''!@#$%^&*()-[]{};:'\"\\,<>./?_~'''\n",
    "optstring = \"\"\n",
    "for i in teststring:\n",
    "    if i not in punct:\n",
    "        optstring = optstring + i\n",
    "        \n",
    "print(f\"Input String with punctuation is \\n {teststring} \\n \")\n",
    "print(f\"Output String without punctuation is \\n {optstring} \\n \")\n"
   ]
  }
 ],
 "metadata": {
  "kernelspec": {
   "display_name": "Python 3 (ipykernel)",
   "language": "python",
   "name": "python3"
  },
  "language_info": {
   "codemirror_mode": {
    "name": "ipython",
    "version": 3
   },
   "file_extension": ".py",
   "mimetype": "text/x-python",
   "name": "python",
   "nbconvert_exporter": "python",
   "pygments_lexer": "ipython3",
   "version": "3.9.7"
  }
 },
 "nbformat": 4,
 "nbformat_minor": 5
}
