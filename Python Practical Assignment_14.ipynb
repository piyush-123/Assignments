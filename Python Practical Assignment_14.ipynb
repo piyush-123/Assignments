{
 "cells": [
  {
   "cell_type": "markdown",
   "id": "81f94221",
   "metadata": {},
   "source": [
    "Question 1:\n",
    "Define a class with a generator which can iterate the numbers, which are divisible by\n",
    "7, between a given range 0 and n."
   ]
  },
  {
   "cell_type": "code",
   "execution_count": 1,
   "id": "efb763fa",
   "metadata": {},
   "outputs": [
    {
     "name": "stdout",
     "output_type": "stream",
     "text": [
      "0 7 14 21 28 35 42 49 56 63 70 77 84 91 98 "
     ]
    }
   ],
   "source": [
    "class test1:\n",
    "    \n",
    "    def __init__(self,n):\n",
    "        self.n = n\n",
    "    \n",
    "    def generate(self):\n",
    "        for i in range(self.n):\n",
    "            if i % 7 == 0:\n",
    "                yield i\n",
    "                \n",
    "t = test1(100)\n",
    "output = t.generate()\n",
    "\n",
    "for i in output:\n",
    "    print(i,end= ' ')"
   ]
  },
  {
   "cell_type": "markdown",
   "id": "d09ac53d",
   "metadata": {},
   "source": [
    "Question 2:\n",
    "Write a program to compute the frequency of the words from the input. The output \n",
    "should output after sorting the key alphanumerically.   \n",
    "Suppose the following input is supplied to the program:   \n",
    "New to Python or choosing between Python 2 and Python 3? Read Python 2 or  \n",
    "Python 3.   \n",
    "Then, the output should be:    \n",
    "2:2  \n",
    "3.:1  \n",
    "3?:1  \n",
    "New:1  \n",
    "Python:5  \n",
    "Read:1  \n",
    "and:1  \n",
    "between:1  \n",
    "choosing:1  \n",
    "or:2  \n",
    "to:1  "
   ]
  },
  {
   "cell_type": "code",
   "execution_count": 2,
   "id": "a8f59672",
   "metadata": {},
   "outputs": [
    {
     "name": "stdout",
     "output_type": "stream",
     "text": [
      "Enter the string : New to Python or choosing between Python 2 and Python 3? Read Python 2 or Python 3\n",
      "2 : 2\n",
      "3 : 1\n",
      "3? : 1\n",
      "New : 1\n",
      "Python : 5\n",
      "Read : 1\n",
      "and : 1\n",
      "between : 1\n",
      "choosing : 1\n",
      "or : 2\n",
      "to : 1\n"
     ]
    }
   ],
   "source": [
    "input_rec = input('Enter the string : ')\n",
    "input_list = input_rec.split(' ')\n",
    "input_list_unique = sorted(list(set(input_list)))\n",
    "for i in  input_list_unique:\n",
    "    print(i,':',input_list.count(i))\n"
   ]
  },
  {
   "cell_type": "markdown",
   "id": "1a4088f7",
   "metadata": {},
   "source": [
    "Question3 Define a class Person and its two child classes: Male and Female. \n",
    "All classes have a method \"getGender\" which can print \"Male\" for Male class and \"Female\" for Female\n",
    "class."
   ]
  },
  {
   "cell_type": "code",
   "execution_count": 3,
   "id": "0afaf30b",
   "metadata": {},
   "outputs": [],
   "source": [
    "class Person:\n",
    "    def __init__(self):\n",
    "        pass\n",
    "    def getGender(self):\n",
    "        pass\n",
    "    \n",
    "class Male(Person):\n",
    "    def __init__(self):\n",
    "        pass\n",
    "    def getGender(self):\n",
    "        return 'Male'\n",
    "\n",
    "class Female(Person):\n",
    "    def __init__(self):\n",
    "        pass\n",
    "    def getGender(self):\n",
    "        return 'Female'\n"
   ]
  },
  {
   "cell_type": "code",
   "execution_count": 4,
   "id": "f9001f8f",
   "metadata": {},
   "outputs": [
    {
     "name": "stdout",
     "output_type": "stream",
     "text": [
      "Male\n",
      "Female\n"
     ]
    }
   ],
   "source": [
    "m = Male()\n",
    "print(m.getGender())\n",
    "f = Female()\n",
    "print(f.getGender())\n"
   ]
  },
  {
   "cell_type": "markdown",
   "id": "8b0a66a1",
   "metadata": {},
   "source": [
    "Question 4:Please write a program to generate all sentences where subject is in [\"I\",\"You\"] and\n",
    "verb is in [\"Play\",\"Love\"] and the object is in [\"Hockey\",\"Football\"]."
   ]
  },
  {
   "cell_type": "code",
   "execution_count": 5,
   "id": "8e5dc141",
   "metadata": {},
   "outputs": [
    {
     "name": "stdout",
     "output_type": "stream",
     "text": [
      "I Play Hockey\n",
      "I Play Fooyball\n",
      "I Love Hockey\n",
      "I Love Fooyball\n",
      "You Play Hockey\n",
      "You Play Fooyball\n",
      "You Love Hockey\n",
      "You Love Fooyball\n"
     ]
    }
   ],
   "source": [
    "sub = ['I','You']\n",
    "verb = ['Play','Love']\n",
    "obj = ['Hockey','Fooyball']\n",
    "\n",
    "for i in sub:\n",
    "    for j in verb:\n",
    "        for k in obj:\n",
    "            print(i+ ' ' + j + ' ' + k)"
   ]
  },
  {
   "cell_type": "markdown",
   "id": "50014603",
   "metadata": {},
   "source": [
    "Question 5: \n",
    "Please write a program to compress and decompress the string \"hello world!hello\n",
    "world!hello world!hello world!\"."
   ]
  },
  {
   "cell_type": "code",
   "execution_count": 6,
   "id": "200ece47",
   "metadata": {},
   "outputs": [
    {
     "name": "stdout",
     "output_type": "stream",
     "text": [
      "b'x\\x9c\\xcbH\\xcd\\xc9\\xc9W(\\xcf/\\xcaIQ\\xcc \\x82\\r\\x00\\xbd[\\x11\\xf5'\n",
      "b'hello world!hello world!hello world!hello world!'\n"
     ]
    }
   ],
   "source": [
    "import zlib\n",
    "input_st = b'hello world!hello world!hello world!hello world!'\n",
    "compress_string = zlib.compress(input_st)\n",
    "print(compress_string)\n",
    "decompress_string = zlib.decompress(compress_string)\n",
    "print(decompress_string)"
   ]
  },
  {
   "cell_type": "markdown",
   "id": "f09e1eac",
   "metadata": {},
   "source": [
    "Question 6: \n",
    "Please write a binary search function which searches an item in a sorted list. The\n",
    "function should return the index of element to be searched in the list."
   ]
  },
  {
   "cell_type": "code",
   "execution_count": 7,
   "id": "5e38c4c3",
   "metadata": {},
   "outputs": [
    {
     "data": {
      "text/plain": [
       "[1, 4, 5, 6, 7, 8, 90, 99, 1234]"
      ]
     },
     "execution_count": 7,
     "metadata": {},
     "output_type": "execute_result"
    }
   ],
   "source": [
    "inp_list = [1,4,5,6,7,8,90,99,1234]\n",
    "inp_list"
   ]
  },
  {
   "cell_type": "code",
   "execution_count": 8,
   "id": "df62102c",
   "metadata": {},
   "outputs": [
    {
     "data": {
      "text/plain": [
       "9"
      ]
     },
     "execution_count": 8,
     "metadata": {},
     "output_type": "execute_result"
    }
   ],
   "source": [
    "len(inp_list)"
   ]
  },
  {
   "cell_type": "code",
   "execution_count": 9,
   "id": "02754a9b",
   "metadata": {},
   "outputs": [
    {
     "name": "stdout",
     "output_type": "stream",
     "text": [
      "You is present at location : 6\n"
     ]
    }
   ],
   "source": [
    "def binary_search(l,i):\n",
    "    low = 0\n",
    "    high = len(l) - 1\n",
    "    mid  = 0\n",
    "    \n",
    "    while low <= high:\n",
    "        mid = (low+high) // 2\n",
    "        if l[mid] < i:\n",
    "            low = mid+1\n",
    "        elif l[mid] > i:\n",
    "            high = mid - 1\n",
    "        else:\n",
    "            return mid\n",
    "    return -1\n",
    "\n",
    "opt = binary_search(inp_list,90)\n",
    "if opt > -1:\n",
    "    print(f\"{i} is present at location : {opt}\")\n",
    "else:\n",
    "    print(f\"{i} is not present in list : {inp_list}\")"
   ]
  }
 ],
 "metadata": {
  "kernelspec": {
   "display_name": "Python 3 (ipykernel)",
   "language": "python",
   "name": "python3"
  },
  "language_info": {
   "codemirror_mode": {
    "name": "ipython",
    "version": 3
   },
   "file_extension": ".py",
   "mimetype": "text/x-python",
   "name": "python",
   "nbconvert_exporter": "python",
   "pygments_lexer": "ipython3",
   "version": "3.10.4"
  }
 },
 "nbformat": 4,
 "nbformat_minor": 5
}
