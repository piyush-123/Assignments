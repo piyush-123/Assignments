{
 "cells": [
  {
   "cell_type": "markdown",
   "id": "094e60c7",
   "metadata": {},
   "source": [
    "#Q1-\n",
    "\n",
    "Write a program that calculates and prints the value according to the given formula:\n",
    "Q = Square root of [(2 * C * D)/H]\n",
    "Following are the fixed values of C and H:  \n",
    "C is 50. H is 30.  \n",
    "D is the variable whose values should be input to your program in a comma-separated  \n",
    "sequence.  \n",
    "Example  \n",
    "Let us assume the following comma separated input sequence is given to the program:  \n",
    "100,150,180  \n",
    "The output of the program should be:  \n",
    "18,22,24\n",
    "  "
   ]
  },
  {
   "cell_type": "code",
   "execution_count": 1,
   "id": "c5f5660c",
   "metadata": {},
   "outputs": [
    {
     "name": "stdout",
     "output_type": "stream",
     "text": [
      "Enter the sequence of input numbers with comma seperation100,150,180\n",
      "18 22 24 "
     ]
    }
   ],
   "source": [
    "import math\n",
    "C = 50\n",
    "H = 30\n",
    "D = input(\"Enter the sequence of input numbers with comma seperation\")\n",
    "try:\n",
    "    D = D.split(',')\n",
    "\n",
    "    for i in D:\n",
    "        Q = int(round(math.sqrt((2*C*int(i)) / H),0))\n",
    "        print(Q,end=' ')\n",
    "except Exception as e:\n",
    "        print(\"==\")\n",
    "        print(e)\n"
   ]
  },
  {
   "cell_type": "markdown",
   "id": "2dde9378",
   "metadata": {},
   "source": [
    "Question 2: \n",
    "Write a program which takes 2 digits, X,Y as input and generates a 2-dimensional array. The  \n",
    "element value in the i-th row and j-th column of the array should be i*j.  \n",
    "Note: i=0,1.., X-1; j=0,1,¡Y-1.  \n",
    "Example  \n",
    "Suppose the following inputs are given to the program:  \n",
    "3,5  \n",
    "Then, the output of the program should be:  \n",
    "[[0, 0, 0, 0, 0], [0, 1, 2, 3, 4], [0, 2, 4, 6, 8]]  "
   ]
  },
  {
   "cell_type": "code",
   "execution_count": 2,
   "id": "d1fd2466",
   "metadata": {},
   "outputs": [
    {
     "name": "stdout",
     "output_type": "stream",
     "text": [
      "Enter the value of X : 3\n",
      "Enter the value of Y : 5\n",
      "output is \n",
      " [[0, 0, 0, 0, 0], [0, 1, 2, 3, 4], [0, 2, 4, 6, 8]]\n"
     ]
    }
   ],
   "source": [
    "try:\n",
    "    X = int(input(\"Enter the value of X : \"))\n",
    "    Y = int(input(\"Enter the value of Y : \"))\n",
    "\n",
    "    l2=[[0 for j in range(Y)]for i in range(X)]\n",
    "\n",
    "    for i in range(X):\n",
    "        for j in range(Y):\n",
    "           l2[i][j] = i*j \n",
    "    print(\"output is \\n\",l2)\n",
    "except Exception as e:\n",
    "    print(e)\n",
    "\n"
   ]
  },
  {
   "cell_type": "markdown",
   "id": "2a8b1aaf",
   "metadata": {},
   "source": [
    "Question 3:  \n",
    "Write a program that accepts a comma separated sequence of words as input and prints the   \n",
    "words in a comma-separated sequence after sorting them alphabetically.   \n",
    "Suppose the following input is supplied to the program:   \n",
    "without,hello,bag,world   \n",
    "Then, the output should be:   \n",
    "bag,hello,without,world   "
   ]
  },
  {
   "cell_type": "code",
   "execution_count": 3,
   "id": "c2fbeb19",
   "metadata": {},
   "outputs": [
    {
     "name": "stdout",
     "output_type": "stream",
     "text": [
      "Enter comma seperated sequence of words : without,hello,bag,world\n",
      "Output is : \n",
      " bag,hello,without,world\n"
     ]
    }
   ],
   "source": [
    "input_string = input(\"Enter comma seperated sequence of words : \")\n",
    "output_list = ','.join(sorted(input_string.split(',')))\n",
    "print(\"Output is : \\n\",output_list)"
   ]
  },
  {
   "cell_type": "markdown",
   "id": "1ad7d43b",
   "metadata": {},
   "source": [
    "Question 4:     \n",
    "Write a program that accepts a sequence of whitespace separated words as input and prints  \n",
    "the words after removing all duplicate words and sorting them alphanumerically.  \n",
    "Suppose the following input is supplied to the program:  \n",
    "hello world and practice makes perfect and hello world again  \n",
    "Then, the output should be:  \n",
    "again and hello makes perfect practice world  "
   ]
  },
  {
   "cell_type": "code",
   "execution_count": 4,
   "id": "ecf62892",
   "metadata": {},
   "outputs": [
    {
     "name": "stdout",
     "output_type": "stream",
     "text": [
      "Enter white space seperated sequence of words : hello world and practice makes perfect and hello world again\n",
      "Output is : \n",
      " again and hello makes perfect practice world\n"
     ]
    }
   ],
   "source": [
    "input_string = input(\"Enter white space seperated sequence of words : \")\n",
    "output_list = ' '.join(sorted(list(set(input_string.split(' ')))))\n",
    "print(\"Output is : \\n\",output_list)"
   ]
  },
  {
   "cell_type": "markdown",
   "id": "0d5ea683",
   "metadata": {},
   "source": [
    "Question 5:  \n",
    "Write a program that accepts a sentence and calculate the number of letters and digits.  \n",
    "Suppose the following input is supplied to the program:  \n",
    "hello world! 123  \n",
    "Then, the output should be:  \n",
    "LETTERS 10  \n",
    "     \n",
    "DIGITS 3  "
   ]
  },
  {
   "cell_type": "code",
   "execution_count": 5,
   "id": "6db13b43",
   "metadata": {},
   "outputs": [
    {
     "name": "stdout",
     "output_type": "stream",
     "text": [
      "Enter the sentence : hello world! 123\n",
      "LETTERS   10\n",
      "DIGITS    3\n"
     ]
    }
   ],
   "source": [
    "letters = 0\n",
    "digits = 0\n",
    "input_string = input(\"Enter the sentence : \")\n",
    "list1 = input_string.split(' ')\n",
    "for i in list1:\n",
    "    for j in i:\n",
    "        if j.isalpha():\n",
    "            letters = letters +1\n",
    "        if j.isdigit():\n",
    "            digits = digits + 1\n",
    "            \n",
    "print(\"LETTERS  \",letters)\n",
    "print(\"DIGITS   \",digits)"
   ]
  },
  {
   "cell_type": "markdown",
   "id": "dcf970e3",
   "metadata": {},
   "source": [
    "Question 6: \n",
    "A website requires the users to input username and password to register. Write a program to\n",
    "check the validity of password input by users. \n",
    "Following are the criteria for checking the password: \n",
    "1. At least 1 letter between [a-z]  \n",
    "2. At least 1 number between [0-9]  \n",
    "1. At least 1 letter between [A-Z]  \n",
    "3. At least 1 character from [$#@]  \n",
    "4. Minimum length of transaction password: 6  \n",
    "5. Maximum length of transaction password: 12  \n",
    "Your program should accept a sequence of comma separated passwords and will check them  \n",
    "according to the above criteria. Passwords that match the criteria are to be printed, each  \n",
    "separated by a comma.  \n",
    "Example  \n",
    "If the following passwords are given as input to the program:  \n",
    "ABd1234@1,a F1#,2w3E*,2We3345  \n",
    "Then, the output of the program should be:  \n",
    "ABd1234@1  "
   ]
  },
  {
   "cell_type": "code",
   "execution_count": 6,
   "id": "b0f14ab8",
   "metadata": {},
   "outputs": [
    {
     "name": "stdout",
     "output_type": "stream",
     "text": [
      "Enter the sequence of comma separated passwords: ABd1234@1,a F1#,2w3E*,2We3345\n",
      "ABd1234@1\n"
     ]
    }
   ],
   "source": [
    "import string\n",
    "password_input = input(\"Enter the sequence of comma separated passwords: \")\n",
    "pwd_list = password_input.split(',')\n",
    "spc = 0\n",
    "numb = 0\n",
    "lwc = 0\n",
    "upc = 0\n",
    "\n",
    "for i in pwd_list:\n",
    "    if len(i) >= 6 and len(i) <= 12:\n",
    "        for j in i:\n",
    "            if j in ['$','#','@'] :\n",
    "                spc = spc + 1\n",
    "            elif j in ['0','1','2','3','4','5','6','7','8','9'] :\n",
    "                numb = numb + 1\n",
    "            elif j in string.ascii_lowercase :\n",
    "                lwc = lwc+1\n",
    "            elif j in string.ascii_uppercase :\n",
    "                upc = upc + 1\n",
    "        if len(i) == spc+numb+lwc+upc:\n",
    "            print(i)    \n",
    "        "
   ]
  }
 ],
 "metadata": {
  "kernelspec": {
   "display_name": "Python 3 (ipykernel)",
   "language": "python",
   "name": "python3"
  },
  "language_info": {
   "codemirror_mode": {
    "name": "ipython",
    "version": 3
   },
   "file_extension": ".py",
   "mimetype": "text/x-python",
   "name": "python",
   "nbconvert_exporter": "python",
   "pygments_lexer": "ipython3",
   "version": "3.9.7"
  }
 },
 "nbformat": 4,
 "nbformat_minor": 5
}
