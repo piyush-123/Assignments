{
 "cells": [
  {
   "cell_type": "code",
   "execution_count": 1,
   "id": "731d81ba",
   "metadata": {},
   "outputs": [
    {
     "name": "stdout",
     "output_type": "stream",
     "text": [
      "Words greater than length 3 are : \n",
      "hello\n",
      "program\n",
      "Python\n",
      "read\n",
      "write\n"
     ]
    }
   ],
   "source": [
    "#Q1 - Write a Python program to find words which are greater than given length k?\n",
    "\n",
    "l = ['hello','hi','program','Python','read','write']\n",
    "\n",
    "k = 3\n",
    "print(f\"Words greater than length {k} are : \")\n",
    "\n",
    "for i in l:\n",
    "    if len(i) > k:\n",
    "        print(i)"
   ]
  },
  {
   "cell_type": "code",
   "execution_count": 2,
   "id": "b9137bc7",
   "metadata": {},
   "outputs": [
    {
     "name": "stdout",
     "output_type": "stream",
     "text": [
      "Original word is Learning\n",
      "Word after removing 5th character is Learing\n"
     ]
    }
   ],
   "source": [
    "#Q2 - Write a Python program for removing i-th character from a string?\n",
    "s = \"Learning\"\n",
    "new_s = \"\"\n",
    "i = 5\n",
    "\n",
    "print(f\"Original word is {s}\")\n",
    "for k in range(len(s)):\n",
    "    if k != i-1:\n",
    "        new_s = new_s + s[k]\n",
    "\n",
    "print(f\"Word after removing {i}th character is {new_s}\")\n"
   ]
  },
  {
   "cell_type": "code",
   "execution_count": 3,
   "id": "02e75e41",
   "metadata": {},
   "outputs": [
    {
     "name": "stdout",
     "output_type": "stream",
     "text": [
      "Original String is %s \n",
      " Learning Python is a good thing\n",
      "Splitting the string now : \n",
      "['Learning', 'Python', 'is', 'a', 'good', 'thing']\n",
      "Joining the string back now:\n",
      "Learning Python is a good thing\n"
     ]
    }
   ],
   "source": [
    "#Q3 - Write a Python program to split and join a string?\n",
    "\n",
    "string = \"Learning Python is a good thing\"\n",
    "print(\"Original String is %s \\n\",string)\n",
    "print(\"Splitting the string now : \")\n",
    "l = string.split(' ')\n",
    "print(l)\n",
    "print(\"Joining the string back now:\")\n",
    "new_string = ' '.join(l)\n",
    "print(new_string)"
   ]
  },
  {
   "cell_type": "code",
   "execution_count": 4,
   "id": "62c9086d",
   "metadata": {},
   "outputs": [
    {
     "name": "stdout",
     "output_type": "stream",
     "text": [
      "0001101010107 is not a binary string\n"
     ]
    }
   ],
   "source": [
    "#Q4 - Write a Python to check if a given string is binary string or not?\n",
    "\n",
    "string = '0001101010107'\n",
    "binary = True\n",
    "for i in string:\n",
    "    if i not in ['0','1']:\n",
    "        binary = False\n",
    "\n",
    "if binary:\n",
    "    print(string, \"is binary string\")\n",
    "else:\n",
    "    print(string,\"is not a binary string\")\n",
    "\n"
   ]
  },
  {
   "cell_type": "code",
   "execution_count": 5,
   "id": "55905ca2",
   "metadata": {},
   "outputs": [
    {
     "name": "stdout",
     "output_type": "stream",
     "text": [
      "First string is : \n",
      " I am learning Python\n",
      "Secomd string is : \n",
      " I am not learning Java\n",
      "Uncommon words from two strings are : \n",
      "Python\n",
      "not\n",
      "Java\n"
     ]
    }
   ],
   "source": [
    "#Q5 - Write a Python program to find uncommon words from two Strings?\n",
    "\n",
    "string1 = \"I am learning Python\"\n",
    "string2 = \"I am not learning Java\"\n",
    "result = []\n",
    "string_set1 = set(string1.split())\n",
    "string_set2 = set(string2.split())\n",
    "print(\"First string is : \\n\" , string1)\n",
    "print(\"Secomd string is : \\n\" , string2)\n",
    "print(\"Uncommon words from two strings are : \")\n",
    "for i in string_set1:\n",
    "    if i not in string_set2:\n",
    "        print(i)\n",
    "\n",
    "for i in string_set2:\n",
    "    if i not in string_set1:\n",
    "        print(i)\n",
    "     \n",
    "\n"
   ]
  },
  {
   "cell_type": "code",
   "execution_count": 6,
   "id": "67aceac9",
   "metadata": {},
   "outputs": [
    {
     "name": "stdout",
     "output_type": "stream",
     "text": [
      "String is-->  I am learning characters\n",
      "Duplicate Characters in string are : \n",
      "  a e r n c "
     ]
    }
   ],
   "source": [
    "#Q6 - Write a Python to find all duplicate characters in string?\n",
    "\n",
    "string = \"I am learning characters\"\n",
    "word_count = {}\n",
    "for i in range(len(list(string))):\n",
    "    word_count[string[i]] = word_count.get(string[i],0) + 1\n",
    "print(\"String is--> \",string)\n",
    "print(\"Duplicate Characters in string are : \")\n",
    "for key,values in word_count.items():\n",
    "    if values > 1:\n",
    "        print(key,end =' ')\n"
   ]
  },
  {
   "cell_type": "code",
   "execution_count": 7,
   "id": "2592e9c0",
   "metadata": {},
   "outputs": [
    {
     "name": "stdout",
     "output_type": "stream",
     "text": [
      "String is -->  it's easy to learn.Just Keep pr@ctis!ng^^(($))\n",
      "string contains special characters\n"
     ]
    }
   ],
   "source": [
    "#Q7 - Write a Python Program to check if a string contains any special character?\n",
    "\n",
    "special_chars = '''!@#$%^&*()_+{}[]:\";'<>,.'\"'''\n",
    "string = \"it's easy to learn.Just Keep pr@ctis!ng^^(($))\"\n",
    "\n",
    "result = [i for i in string if i in special_chars]\n",
    "print(\"String is --> \", string)\n",
    "if len(result) > 0:\n",
    "    print(\"string contains special characters\")\n",
    "else:\n",
    "    print(\"string does not contain special characters\")"
   ]
  }
 ],
 "metadata": {
  "kernelspec": {
   "display_name": "Python 3 (ipykernel)",
   "language": "python",
   "name": "python3"
  },
  "language_info": {
   "codemirror_mode": {
    "name": "ipython",
    "version": 3
   },
   "file_extension": ".py",
   "mimetype": "text/x-python",
   "name": "python",
   "nbconvert_exporter": "python",
   "pygments_lexer": "ipython3",
   "version": "3.9.7"
  }
 },
 "nbformat": 4,
 "nbformat_minor": 5
}
