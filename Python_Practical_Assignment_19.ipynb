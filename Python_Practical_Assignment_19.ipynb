{
 "cells": [
  {
   "cell_type": "markdown",
   "id": "31549d76",
   "metadata": {},
   "source": [
    "Question1  \n",
    "Create a function that takes a string and returns a string in which each character is repeated  \n",
    "once.    \n",
    "Examples     \n",
    "double_char(\"String\") ➞ \"SSttrriinngg\"  \n",
    "double_char(\"Hello World\") ➞ \"HHeelllloo WWoorrlldd!!\"  \n",
    "double_char(\"1234!_ \") ➞ \"11223344!!__ \"    "
   ]
  },
  {
   "cell_type": "code",
   "execution_count": 1,
   "id": "e3a5d670",
   "metadata": {},
   "outputs": [],
   "source": [
    "def double_char(input_string):\n",
    "    opt_string = \"\"\n",
    "    for i in input_string:\n",
    "        opt_string = opt_string + i *2\n",
    "    return opt_string"
   ]
  },
  {
   "cell_type": "code",
   "execution_count": 2,
   "id": "698e939e",
   "metadata": {},
   "outputs": [
    {
     "name": "stdout",
     "output_type": "stream",
     "text": [
      "SSttrriinngg\n",
      "HHeelllloo  WWoorrlldd!!\n",
      "11223344!!__  \n"
     ]
    }
   ],
   "source": [
    "print(double_char(\"String\"))\n",
    "print(double_char(\"Hello World!\"))\n",
    "print(double_char(\"1234!_ \"))"
   ]
  },
  {
   "cell_type": "markdown",
   "id": "f357942c",
   "metadata": {},
   "source": [
    "Question2  \n",
    "Create a function that reverses a boolean value and returns the string \"boolean expected\"    \n",
    "if another variable type is given.  \n",
    "Examples  \n",
    "reverse(True) ➞ False  \n",
    "reverse(False) ➞ True   \n",
    "reverse(0) ➞ \"boolean expected\"\n",
    "reverse(None) ➞ \"boolean expected\"  "
   ]
  },
  {
   "cell_type": "code",
   "execution_count": 3,
   "id": "220cd625",
   "metadata": {},
   "outputs": [],
   "source": [
    "def revers(i):\n",
    "    if type(i) == bool:\n",
    "        return not i\n",
    "    else:\n",
    "        return \"boolean expected\"\n",
    " \n",
    "\n"
   ]
  },
  {
   "cell_type": "code",
   "execution_count": 4,
   "id": "2ff57945",
   "metadata": {},
   "outputs": [
    {
     "name": "stdout",
     "output_type": "stream",
     "text": [
      "False\n",
      "True\n",
      "boolean expected\n",
      "boolean expected\n"
     ]
    }
   ],
   "source": [
    "print(revers(True))\n",
    "print(revers(False))\n",
    "print(revers(0))\n",
    "print(revers(None))"
   ]
  },
  {
   "cell_type": "markdown",
   "id": "eddf1f78",
   "metadata": {},
   "source": [
    "Question3  \n",
    "Create a function that returns the thickness (in meters) of a piece of paper after folding it n  \n",
    "number of times. The paper starts off with a thickness of 0.5mm.  \n",
    "Examples  \n",
    "num_layers(1) ➞ \"0.001m\"\n",
    "Paper folded once is 1mm (equal to 0.001m)  \n",
    "num_layers(4) ➞ \"0.008m\";\n",
    "Paper folded 4 times is 8mm (equal to 0.008m)  \n",
    "num_layers(21) ➞ \"1048.576m\"  \n",
    "Paper folded 21 times is 1048576mm (equal to 1048.576m)   "
   ]
  },
  {
   "cell_type": "code",
   "execution_count": 5,
   "id": "982ffdb4",
   "metadata": {},
   "outputs": [],
   "source": [
    "def num_layers(i):\n",
    "    opt = 0.5 \n",
    "    for i in range(i):\n",
    "        opt = opt * 2\n",
    "        \n",
    "    opt = opt /1000\n",
    "    return opt\n",
    "    \n",
    "    "
   ]
  },
  {
   "cell_type": "code",
   "execution_count": 6,
   "id": "6d6a8a30",
   "metadata": {},
   "outputs": [
    {
     "name": "stdout",
     "output_type": "stream",
     "text": [
      "0.001\n",
      "0.008\n",
      "1048.576\n"
     ]
    }
   ],
   "source": [
    "print(num_layers(1))\n",
    "print(num_layers(4))\n",
    "print(num_layers(21))"
   ]
  },
  {
   "cell_type": "markdown",
   "id": "69619559",
   "metadata": {},
   "source": [
    "Quesion 4   \n",
    "Create a function that takes a single string as argument and returns an ordered list containing  \n",
    "the indices of all capital letters in the string.  \n",
    "Examples  \n",
    "index_of_caps(\"eDaBiT\") ➞ [1, 3, 5]   \n",
    "index_of_caps(\"eQuINoX\") ➞ [1, 3, 4, 6]   \n",
    "index_of_caps(\"determine\") ➞ []  \n",
    "index_of_caps(\"STRIKE\") ➞ [0, 1, 2, 3, 4, 5]  \n",
    "index_of_caps(\"sUn\") ➞ [1]   "
   ]
  },
  {
   "cell_type": "code",
   "execution_count": 7,
   "id": "3bbf5c0e",
   "metadata": {},
   "outputs": [],
   "source": [
    "def index_of_caps(inp_string):\n",
    "    l = []\n",
    "    for i in range(len(inp_string)):\n",
    "        if inp_string[i].isupper():\n",
    "            l.append(i)\n",
    "    return l"
   ]
  },
  {
   "cell_type": "code",
   "execution_count": 8,
   "id": "89c7f16e",
   "metadata": {},
   "outputs": [
    {
     "name": "stdout",
     "output_type": "stream",
     "text": [
      "[1, 3, 5]\n",
      "[1, 3, 4, 6]\n",
      "[]\n",
      "[0, 1, 2, 3, 4, 5]\n",
      "[1]\n"
     ]
    }
   ],
   "source": [
    "print(index_of_caps(\"eDaBiT\") )\n",
    "print(index_of_caps(\"eQuINoX\") )\n",
    "print(index_of_caps(\"determine\")  )\n",
    "print(index_of_caps(\"STRIKE\") )\n",
    "print(index_of_caps(\"sUn\") )"
   ]
  },
  {
   "cell_type": "markdown",
   "id": "b5b50c95",
   "metadata": {},
   "source": [
    "Question5   \n",
    "Using list comprehensions, create a function that finds all even numbers from 1 to the given  \n",
    "number.  \n",
    "Examples  \n",
    "find_even_nums(8) ➞ [2, 4, 6, 8]  \n",
    "find_even_nums(4) ➞ [2, 4]  \n",
    "find_even_nums(2) ➞ [2]  "
   ]
  },
  {
   "cell_type": "code",
   "execution_count": 9,
   "id": "c4a17f5d",
   "metadata": {},
   "outputs": [],
   "source": [
    "def find_even_nums(i):\n",
    "    opt = [j for j in range(1,i+1) if j % 2 == 0]\n",
    "    return opt"
   ]
  },
  {
   "cell_type": "code",
   "execution_count": 10,
   "id": "df321fde",
   "metadata": {},
   "outputs": [
    {
     "name": "stdout",
     "output_type": "stream",
     "text": [
      "[2, 4, 6, 8]\n",
      "[2, 4]\n",
      "[2]\n"
     ]
    }
   ],
   "source": [
    "print(find_even_nums(8))\n",
    "print(find_even_nums(4))\n",
    "print(find_even_nums(2))"
   ]
  }
 ],
 "metadata": {
  "kernelspec": {
   "display_name": "Python 3 (ipykernel)",
   "language": "python",
   "name": "python3"
  },
  "language_info": {
   "codemirror_mode": {
    "name": "ipython",
    "version": 3
   },
   "file_extension": ".py",
   "mimetype": "text/x-python",
   "name": "python",
   "nbconvert_exporter": "python",
   "pygments_lexer": "ipython3",
   "version": "3.10.4"
  }
 },
 "nbformat": 4,
 "nbformat_minor": 5
}
