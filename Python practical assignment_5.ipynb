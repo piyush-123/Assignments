{
 "cells": [
  {
   "cell_type": "markdown",
   "id": "12f89556",
   "metadata": {},
   "source": [
    "Q1.Write a Python Program to Find LCM?"
   ]
  },
  {
   "cell_type": "code",
   "execution_count": 1,
   "id": "e86a3d34",
   "metadata": {},
   "outputs": [
    {
     "name": "stdout",
     "output_type": "stream",
     "text": [
      "60\n"
     ]
    }
   ],
   "source": [
    "#LCM is lowest common multiple of 2 numbers.a number which is divisible by both numbers\n",
    "\n",
    "a = 15\n",
    "b = 20\n",
    "\n",
    "if a > b:\n",
    "    num = a\n",
    "else:\n",
    "    num = b\n",
    "    \n",
    "while(True):\n",
    "    if num%a == 0 and num%b == 0:\n",
    "        lcm = num\n",
    "        break\n",
    "    num = num+1\n",
    "\n",
    "print(lcm)"
   ]
  },
  {
   "cell_type": "markdown",
   "id": "c961f0bd",
   "metadata": {},
   "source": [
    "Q2.Write a Python Program to Find HCF?"
   ]
  },
  {
   "cell_type": "code",
   "execution_count": 2,
   "id": "c882a5ea",
   "metadata": {},
   "outputs": [
    {
     "name": "stdout",
     "output_type": "stream",
     "text": [
      "10\n"
     ]
    }
   ],
   "source": [
    "#hcf is the highest common factor which can divide both numbers.\n",
    "\n",
    "a = 20\n",
    "b = 10\n",
    "\n",
    "if a > b:\n",
    "    num = b\n",
    "else:\n",
    "    num = a\n",
    "\n",
    "for i in range(1,num+1):\n",
    "    if ((a%i == 0) and (b%i == 0)):\n",
    "        hcf = i\n",
    "        \n",
    "print(i)"
   ]
  },
  {
   "cell_type": "markdown",
   "id": "f6cbc94e",
   "metadata": {},
   "source": [
    "Q3.Write a Python Program to Convert Decimal to Binary, Octal and Hexadecimal?"
   ]
  },
  {
   "cell_type": "code",
   "execution_count": 3,
   "id": "6188c173",
   "metadata": {},
   "outputs": [
    {
     "name": "stdout",
     "output_type": "stream",
     "text": [
      "Decimal number is 10\n",
      "Binary number is 0b1010\n",
      "Octal number is 0o12\n",
      "Hexadecimal number is 0xa\n"
     ]
    }
   ],
   "source": [
    "dec = 10\n",
    "\n",
    "print(f\"Decimal number is {dec}\")\n",
    "print(f\"Binary number is {bin(dec)}\")\n",
    "print(f\"Octal number is {oct(dec)}\")\n",
    "print(f\"Hexadecimal number is {hex(dec)}\")"
   ]
  },
  {
   "cell_type": "markdown",
   "id": "1bbaf998",
   "metadata": {},
   "source": [
    "Q4. Write a Python Program To Find ASCII value of a character?"
   ]
  },
  {
   "cell_type": "code",
   "execution_count": 4,
   "id": "91790a98",
   "metadata": {},
   "outputs": [
    {
     "name": "stdout",
     "output_type": "stream",
     "text": [
      "Ascii value of # is 35\n"
     ]
    }
   ],
   "source": [
    "char = '#'\n",
    "\n",
    "print(f\"Ascii value of {char} is {ord(char)}\")\n"
   ]
  },
  {
   "cell_type": "markdown",
   "id": "40e71c97",
   "metadata": {},
   "source": [
    "Q5.Write a Python Program to Make a Simple Calculator with 4 basic mathematical operations?"
   ]
  },
  {
   "cell_type": "code",
   "execution_count": 5,
   "id": "10f371f6",
   "metadata": {},
   "outputs": [
    {
     "name": "stdout",
     "output_type": "stream",
     "text": [
      "Enter 1st number2\n",
      "Enter 2nd number3\n",
      "Enter the operator*\n",
      "result is 6\n"
     ]
    }
   ],
   "source": [
    "a = int(input(\"Enter 1st number\"))\n",
    "b = int(input(\"Enter 2nd number\"))\n",
    "opr = input(\"Enter the operator\")\n",
    "\n",
    "result = 0\n",
    "\n",
    "if opr not in ['+','-','/','*']:\n",
    "    print(\"invalid operator\")\n",
    "elif opr == '+':\n",
    "    result = a+b\n",
    "elif opr == '-':\n",
    "    result = a - b\n",
    "elif opr == '/':\n",
    "    if b == 0:\n",
    "        result = \"cannot divide by zero\"\n",
    "    else:\n",
    "        result = a/b\n",
    "else:\n",
    "    result = a * b\n",
    "    \n",
    "print(f\"result is {result}\")\n"
   ]
  }
 ],
 "metadata": {
  "kernelspec": {
   "display_name": "Python 3 (ipykernel)",
   "language": "python",
   "name": "python3"
  },
  "language_info": {
   "codemirror_mode": {
    "name": "ipython",
    "version": 3
   },
   "file_extension": ".py",
   "mimetype": "text/x-python",
   "name": "python",
   "nbconvert_exporter": "python",
   "pygments_lexer": "ipython3",
   "version": "3.9.7"
  }
 },
 "nbformat": 4,
 "nbformat_minor": 5
}
