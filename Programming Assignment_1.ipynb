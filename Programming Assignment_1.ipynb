{
 "cells": [
  {
   "cell_type": "code",
   "execution_count": 1,
   "id": "91ae8def",
   "metadata": {},
   "outputs": [
    {
     "name": "stdout",
     "output_type": "stream",
     "text": [
      "\"Hello Python \"\n"
     ]
    }
   ],
   "source": [
    "#1. Write a Python program to print \"Hello Python\"?\n",
    "\n",
    "print(\"\\\"Hello Python \\\"\")"
   ]
  },
  {
   "cell_type": "code",
   "execution_count": 2,
   "id": "365a89b1",
   "metadata": {},
   "outputs": [
    {
     "name": "stdout",
     "output_type": "stream",
     "text": [
      "adding result of 2 numbers is : 9\n",
      "division result of 2 numbers is : 0.8\n"
     ]
    }
   ],
   "source": [
    "#2 Write a Python program to do arithmetical operations addition and division.?\n",
    "\n",
    "a = 4\n",
    "b = 5\n",
    "\n",
    "c = a + b\n",
    "d = a / b\n",
    "\n",
    "print(\"adding result of 2 numbers is :\",c)\n",
    "print(\"division result of 2 numbers is :\",d)"
   ]
  },
  {
   "cell_type": "code",
   "execution_count": 3,
   "id": "9e860b2e",
   "metadata": {},
   "outputs": [
    {
     "name": "stdout",
     "output_type": "stream",
     "text": [
      "Area of a triangle is : 30.0\n"
     ]
    }
   ],
   "source": [
    "#3 Write a Python program to find the area of a triangle?\n",
    "\n",
    "base = 6\n",
    "height = 10\n",
    "\n",
    "area = (0.5 * base * height)\n",
    "\n",
    "print('Area of a triangle is :',area)"
   ]
  },
  {
   "cell_type": "code",
   "execution_count": 4,
   "id": "5c38db5c",
   "metadata": {},
   "outputs": [
    {
     "name": "stdout",
     "output_type": "stream",
     "text": [
      "before swap values are :\n",
      "a is  4\n",
      "b is  5\n",
      "After swap values are :\n",
      "a is  5\n",
      "b is  4\n"
     ]
    }
   ],
   "source": [
    "#4 Write a Python program to swap two variables?\n",
    "\n",
    "a = 4\n",
    "b = 5\n",
    "\n",
    "print(\"before swap values are :\")\n",
    "print(\"a is \",a)\n",
    "print(\"b is \", b)\n",
    "\n",
    "a,b = b,a\n",
    "\n",
    "print(\"After swap values are :\")\n",
    "print(\"a is \",a)\n",
    "print(\"b is \", b)\n",
    "\n"
   ]
  },
  {
   "cell_type": "code",
   "execution_count": 5,
   "id": "d275cfb6",
   "metadata": {},
   "outputs": [
    {
     "name": "stdout",
     "output_type": "stream",
     "text": [
      "2\n"
     ]
    }
   ],
   "source": [
    "#5 Write a Python program to generate a random number?\n",
    "\n",
    "import random\n",
    "\n",
    "print(random.randint(1,5))"
   ]
  }
 ],
 "metadata": {
  "kernelspec": {
   "display_name": "Python 3 (ipykernel)",
   "language": "python",
   "name": "python3"
  },
  "language_info": {
   "codemirror_mode": {
    "name": "ipython",
    "version": 3
   },
   "file_extension": ".py",
   "mimetype": "text/x-python",
   "name": "python",
   "nbconvert_exporter": "python",
   "pygments_lexer": "ipython3",
   "version": "3.9.7"
  }
 },
 "nbformat": 4,
 "nbformat_minor": 5
}
