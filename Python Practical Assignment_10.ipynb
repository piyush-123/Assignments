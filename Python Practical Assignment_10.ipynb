{
 "cells": [
  {
   "cell_type": "code",
   "execution_count": 1,
   "id": "3dfbaaeb",
   "metadata": {},
   "outputs": [
    {
     "name": "stdout",
     "output_type": "stream",
     "text": [
      "sum of elements in list [3, 4, 5, 6, 7, 8, 9, 1, 2, 3, 4, 99] is 151\n"
     ]
    }
   ],
   "source": [
    "#Q1 Write a Python program to find sum of elements in list?\n",
    "\n",
    "l = [3,4,5,6,7,8,9,1,2,3,4,99]\n",
    "sum = 0\n",
    "for i in l:\n",
    "    sum = sum + i\n",
    "\n",
    "print(f\"sum of elements in list {l} is {sum}\")"
   ]
  },
  {
   "cell_type": "code",
   "execution_count": 2,
   "id": "8806c774",
   "metadata": {},
   "outputs": [
    {
     "name": "stdout",
     "output_type": "stream",
     "text": [
      "Multiplication of elements in list [3, 4, 5, 6, 7, 8, 9, 1, 2, 3, 4, 99] is 431101440\n"
     ]
    }
   ],
   "source": [
    "#Q2 Write a Python program to Multiply all numbers in the list?\n",
    "l = [3,4,5,6,7,8,9,1,2,3,4,99]\n",
    "mul = 1\n",
    "for i in l:\n",
    "    mul = mul * i\n",
    "\n",
    "print(f\"Multiplication of elements in list {l} is {mul}\")"
   ]
  },
  {
   "cell_type": "code",
   "execution_count": 3,
   "id": "36ee982d",
   "metadata": {},
   "outputs": [
    {
     "name": "stdout",
     "output_type": "stream",
     "text": [
      "Smallest number in list [3, 4, 5, 6, 7, 8, 9, 1, 2, 3, 4, 99] is 1\n"
     ]
    }
   ],
   "source": [
    "#Q3 - Write a Python program to find smallest number in a list?\n",
    "l = [3,4,5,6,7,8,9,1,2,3,4,99]\n",
    "\n",
    "\n",
    "print(f\"Smallest number in list {l} is {min(l)}\")"
   ]
  },
  {
   "cell_type": "code",
   "execution_count": 4,
   "id": "2ba63ad1",
   "metadata": {},
   "outputs": [
    {
     "name": "stdout",
     "output_type": "stream",
     "text": [
      "Largest number in list [3, 4, 5, 6, 7, 8, 9, 1, 2, 3, 4, 99] is 99\n"
     ]
    }
   ],
   "source": [
    "#Q4 - Write a Python program to find largest number in a list?\n",
    "\n",
    "l = [3,4,5,6,7,8,9,1,2,3,4,99]\n",
    "\n",
    "\n",
    "print(f\"Largest number in list {l} is {max(l)}\")\n"
   ]
  },
  {
   "cell_type": "code",
   "execution_count": 5,
   "id": "4f78b19f",
   "metadata": {},
   "outputs": [
    {
     "name": "stdout",
     "output_type": "stream",
     "text": [
      "Second Largest number in list [3, 4, 5, 6, 7, 8, 9, 1, 2, 3, 4, 99] is 9\n"
     ]
    }
   ],
   "source": [
    "#Q5 - Write a Python program to find second largest number in a list?\n",
    "\n",
    "\n",
    "l = [3,4,5,6,7,8,9,1,2,3,4,99]\n",
    "\n",
    "maxe = max(l)\n",
    "num = min(l) - 1\n",
    "for i in l:\n",
    "    if i != maxe and i > num:\n",
    "        num = i\n",
    "\n",
    "\n",
    "print(f\"Second Largest number in list {l} is {num}\")\n",
    "\n"
   ]
  },
  {
   "cell_type": "code",
   "execution_count": 6,
   "id": "eb8a3f1b",
   "metadata": {},
   "outputs": [
    {
     "name": "stdout",
     "output_type": "stream",
     "text": [
      "3 Largest number in list [3, 4, 5, 6, 7, 8, 9, 1, 2, 3, 4, 99] is [99, 9, 8]\n"
     ]
    }
   ],
   "source": [
    "#Q6 - Write a Python program to find N largest elements from a list?\n",
    "\n",
    "l = [3,4,5,6,7,8,9,1,2,3,4,99]\n",
    "N = 3\n",
    "Nlrg = []\n",
    "num = min(l) - 1\n",
    "temp = N\n",
    "\n",
    "while N > 0:\n",
    "    for i in l:\n",
    "        if i not in Nlrg and i > num:\n",
    "            num = i\n",
    "    Nlrg.append(num)\n",
    "    num = min(l) - 1\n",
    "    N = N-1\n",
    "    \n",
    "\n",
    "print(f\"{temp} Largest number in list {l} is {Nlrg}\")\n"
   ]
  },
  {
   "cell_type": "code",
   "execution_count": 7,
   "id": "2f82b2f6",
   "metadata": {},
   "outputs": [
    {
     "name": "stdout",
     "output_type": "stream",
     "text": [
      "Even numbers in list [3, 4, 5, 6, 7, 8, 9, 1, 2, 3, 4, 99] is [4, 6, 8, 2, 4]\n"
     ]
    }
   ],
   "source": [
    "#Q7 - Write a Python program to print even numbers in a list?\n",
    "l = [3,4,5,6,7,8,9,1,2,3,4,99]\n",
    "\n",
    "l1 = [i for i in l if i %2 == 0]\n",
    "\n",
    "print(f\"Even numbers in list {l} is {l1}\")\n"
   ]
  },
  {
   "cell_type": "code",
   "execution_count": 8,
   "id": "cb819a63",
   "metadata": {},
   "outputs": [
    {
     "name": "stdout",
     "output_type": "stream",
     "text": [
      "Odd numbers in list [3, 4, 5, 6, 7, 8, 9, 1, 2, 3, 4, 99] is [3, 5, 7, 9, 1, 3, 99]\n"
     ]
    }
   ],
   "source": [
    "#Q8 - Write a Python program to print odd numbers in a List?\n",
    "\n",
    "l = [3,4,5,6,7,8,9,1,2,3,4,99]\n",
    "\n",
    "l1 = [i for i in l if i %2 != 0]\n",
    "\n",
    "print(f\"Odd numbers in list {l} is {l1}\")\n"
   ]
  },
  {
   "cell_type": "code",
   "execution_count": 9,
   "id": "74117df9",
   "metadata": {},
   "outputs": [
    {
     "name": "stdout",
     "output_type": "stream",
     "text": [
      "New list after removing enmpty list is [3, 4, 5, 6, 7, 8, 9, 1, 2, 3, 4, 99]\n"
     ]
    }
   ],
   "source": [
    "#Q9 - Write a Python program to Remove empty List from List?\n",
    "\n",
    "l = [3,4,5,6,7,8,9,[],1,2,3,4,99,[]]\n",
    "l1 = []\n",
    "for i in l:\n",
    "    if type(i) == list:\n",
    "        if len(i) == 0:\n",
    "            continue\n",
    "        else:\n",
    "            l1.append(i)\n",
    "    else:\n",
    "        l1.append(i)\n",
    "\n",
    "print(f\"New list after removing enmpty list is {l1}\")\n",
    "\n",
    "\n",
    "\n"
   ]
  },
  {
   "cell_type": "code",
   "execution_count": 10,
   "id": "d073541b",
   "metadata": {},
   "outputs": [
    {
     "name": "stdout",
     "output_type": "stream",
     "text": [
      "Copied list is [3, 4, 5, 6, 7, 8, 9, [], 1, 2, 3, 4, 99, []]\n"
     ]
    }
   ],
   "source": [
    "#Q10 - Write a Python program to Cloning or Copying a list?\n",
    "l = [3,4,5,6,7,8,9,[],1,2,3,4,99,[]]\n",
    "l1 = l.copy()\n",
    "\n",
    "print(f\"Copied list is {l1}\")\n",
    "    \n",
    "\n"
   ]
  },
  {
   "cell_type": "code",
   "execution_count": 11,
   "id": "872299ca",
   "metadata": {},
   "outputs": [
    {
     "name": "stdout",
     "output_type": "stream",
     "text": [
      "3 occures 3 times\n",
      "4 occures 2 times\n",
      "5 occures 1 times\n",
      "6 occures 1 times\n",
      "8 occures 1 times\n",
      "9 occures 1 times\n",
      "1 occures 1 times\n",
      "2 occures 1 times\n",
      "99 occures 1 times\n"
     ]
    }
   ],
   "source": [
    "#Q11- Write a Python program to Count occurrences of an element in a list?\n",
    "l = [3,4,5,6,3,8,9,1,2,3,4,99]\n",
    "l1 = []\n",
    "for i in l:\n",
    "    if i not in l1:\n",
    "        print(f\"{i} occures {l.count(i)} times\")\n",
    "    l1.append(i)   \n",
    "    \n"
   ]
  }
 ],
 "metadata": {
  "kernelspec": {
   "display_name": "Python 3 (ipykernel)",
   "language": "python",
   "name": "python3"
  },
  "language_info": {
   "codemirror_mode": {
    "name": "ipython",
    "version": 3
   },
   "file_extension": ".py",
   "mimetype": "text/x-python",
   "name": "python",
   "nbconvert_exporter": "python",
   "pygments_lexer": "ipython3",
   "version": "3.9.7"
  }
 },
 "nbformat": 4,
 "nbformat_minor": 5
}
