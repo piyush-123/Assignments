{
 "cells": [
  {
   "cell_type": "markdown",
   "id": "b7cd097b",
   "metadata": {},
   "source": [
    "Question1  \n",
    "Create a function that takes a list of strings and integers, and filters out the list so that it  \n",
    "returns a list of integers only.  \n",
    "Examples    \n",
    "filter_list([1, 2, 3, \"a\", \"b\", 4]) ➞ [1, 2, 3, 4]  \n",
    "filter_list([\"A\", 0, \"Edabit\", 1729, \"Python\", \"1729\"]) ➞ [0, 1729]  \n",
    "filter_list([\"Nothing\",\"here\"]) ➞ []   "
   ]
  },
  {
   "cell_type": "code",
   "execution_count": 1,
   "id": "f91d2bf7",
   "metadata": {},
   "outputs": [],
   "source": [
    "def filter_list(l):\n",
    "    l1 = []\n",
    "    for i in l:\n",
    "        if type(i) == int:\n",
    "            l1.append(i)\n",
    "    return l1\n",
    "    "
   ]
  },
  {
   "cell_type": "code",
   "execution_count": 2,
   "id": "dd59a000",
   "metadata": {},
   "outputs": [
    {
     "name": "stdout",
     "output_type": "stream",
     "text": [
      "[1, 2, 3, 4]\n",
      "[0, 1729]\n",
      "[]\n"
     ]
    }
   ],
   "source": [
    "print(filter_list([1, 2, 3, \"a\", \"b\", 4]))\n",
    "print(filter_list([\"A\", 0, \"Edabit\", 1729, \"Python\", \"1729\"]))\n",
    "print(filter_list([\"Nothing\",\"here\"]))"
   ]
  },
  {
   "cell_type": "markdown",
   "id": "671367f1",
   "metadata": {},
   "source": [
    "Question2  \n",
    "Given a list of numbers, create a function which returns the list but with each element's  \n",
    "index in the list added to itself. This means you add 0 to the number at index 0, add 1 to the  \n",
    "number at index 1, etc...  \n",
    "Examples  \n",
    "add_indexes([0, 0, 0, 0, 0]) ➞ [0, 1, 2, 3, 4]  \n",
    "add_indexes([1, 2, 3, 4, 5]) ➞ [1, 3, 5, 7, 9]  \n",
    "add_indexes([5, 4, 3, 2, 1]) ➞ [5, 5, 5, 5, 5]  "
   ]
  },
  {
   "cell_type": "code",
   "execution_count": 3,
   "id": "5e4acafd",
   "metadata": {},
   "outputs": [],
   "source": [
    "def add_indexes(l):\n",
    "    l1 = []\n",
    "    for i in range(len(l)):\n",
    "        l1.append(i+l[i])\n",
    "    return l1"
   ]
  },
  {
   "cell_type": "code",
   "execution_count": 4,
   "id": "054279cc",
   "metadata": {},
   "outputs": [
    {
     "name": "stdout",
     "output_type": "stream",
     "text": [
      "[0, 1, 2, 3, 4]\n",
      "[1, 3, 5, 7, 9]\n",
      "[5, 5, 5, 5, 5]\n"
     ]
    }
   ],
   "source": [
    "print(add_indexes([0, 0, 0, 0, 0]))\n",
    "print(add_indexes([1, 2, 3, 4, 5]))\n",
    "print(add_indexes([5, 4, 3, 2, 1]) )"
   ]
  },
  {
   "cell_type": "markdown",
   "id": "980a1552",
   "metadata": {},
   "source": [
    "Question3  \n",
    "Create a function that takes the height and radius of a cone as arguments and returns the  \n",
    "volume of the cone rounded to the nearest hundredth.  "
   ]
  },
  {
   "cell_type": "code",
   "execution_count": 5,
   "id": "73a46260",
   "metadata": {},
   "outputs": [],
   "source": [
    "def cone_volume(h,r):\n",
    "    vol = round((((22* (r**2) * h))/(3*7)),2)\n",
    "    return vol"
   ]
  },
  {
   "cell_type": "code",
   "execution_count": 6,
   "id": "9c8617f9",
   "metadata": {},
   "outputs": [
    {
     "name": "stdout",
     "output_type": "stream",
     "text": [
      "12.57\n",
      "565.71\n",
      "0.0\n"
     ]
    }
   ],
   "source": [
    "print(cone_volume(3, 2))\n",
    "print(cone_volume(15, 6))\n",
    "print(cone_volume(18, 0))"
   ]
  },
  {
   "cell_type": "markdown",
   "id": "6ce197a7",
   "metadata": {},
   "source": [
    "Question4  \n",
    "This Triangular Number Sequence is generated from a pattern of dots that form a triangle.  \n",
    "The first 5 numbers of the sequence, or dots, are:  \n",
    "1, 3, 6, 10, 15   \n",
    "This means that the first triangle has just one dot, the second one has three dots, the third one  \n",
    "has 6 dots and so on.   \n",
    "Write a function that gives the number of dots with its corresponding triangle number of the   \n",
    "sequence.  \n",
    "Examples  \n",
    "triangle(1) ➞ 1  \n",
    "triangle(6) ➞ 21  \n",
    "triangle(215) ➞ 23220  "
   ]
  },
  {
   "cell_type": "code",
   "execution_count": 7,
   "id": "0d1dd348",
   "metadata": {},
   "outputs": [],
   "source": [
    "def triangle(i):\n",
    "    opt = 0\n",
    "    for i in range(1,i+1):\n",
    "        opt = opt + i\n",
    "    return opt"
   ]
  },
  {
   "cell_type": "code",
   "execution_count": 8,
   "id": "ec2d7735",
   "metadata": {},
   "outputs": [
    {
     "name": "stdout",
     "output_type": "stream",
     "text": [
      "1\n",
      "21\n",
      "23220\n"
     ]
    }
   ],
   "source": [
    "print(triangle(1))\n",
    "print(triangle(6))\n",
    "print(triangle(215))"
   ]
  },
  {
   "cell_type": "markdown",
   "id": "5ac9dc64",
   "metadata": {},
   "source": [
    "Question5  \n",
    "Create a function that takes a list of numbers between 1 and 10 (excluding one number) and  \n",
    "returns the missing number.  \n",
    "Examples  \n",
    "missing_num([1, 2, 3, 4, 6, 7, 8, 9, 10]) ➞ 5  \n",
    "missing_num([7, 2, 3, 6, 5, 9, 1, 4, 8]) ➞ 10  \n",
    "missing_num([10, 5, 1, 2, 4, 6, 8, 3, 9]) ➞ 7  "
   ]
  },
  {
   "cell_type": "code",
   "execution_count": 9,
   "id": "0c598192",
   "metadata": {},
   "outputs": [],
   "source": [
    "def missing_num(l):\n",
    "    for i in range(1,11):\n",
    "        if i not in l:\n",
    "            return i\n",
    "    "
   ]
  },
  {
   "cell_type": "code",
   "execution_count": 10,
   "id": "9dd3793d",
   "metadata": {},
   "outputs": [
    {
     "name": "stdout",
     "output_type": "stream",
     "text": [
      "5\n",
      "10\n",
      "7\n"
     ]
    }
   ],
   "source": [
    "print(missing_num([1, 2, 3, 4, 6, 7, 8, 9, 10]) )\n",
    "print(missing_num([7, 2, 3, 6, 5, 9, 1, 4, 8])  )\n",
    "print(missing_num([10, 5, 1, 2, 4, 6, 8, 3, 9]) )"
   ]
  }
 ],
 "metadata": {
  "kernelspec": {
   "display_name": "Python 3 (ipykernel)",
   "language": "python",
   "name": "python3"
  },
  "language_info": {
   "codemirror_mode": {
    "name": "ipython",
    "version": 3
   },
   "file_extension": ".py",
   "mimetype": "text/x-python",
   "name": "python",
   "nbconvert_exporter": "python",
   "pygments_lexer": "ipython3",
   "version": "3.10.4"
  }
 },
 "nbformat": 4,
 "nbformat_minor": 5
}
