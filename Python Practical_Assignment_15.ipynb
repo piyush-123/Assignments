{
 "cells": [
  {
   "cell_type": "markdown",
   "id": "32940ab1",
   "metadata": {},
   "source": [
    "Question 1:   \n",
    "Please write a program using generator to print the numbers which can be divisible by 5 and \n",
    "7 between 0 and n in comma separated form while n is input by console.  \n",
    "Example:  \n",
    "If the following n is given as input to the program:  \n",
    "100  \n",
    "Then, the output of the program should be:  \n",
    "0,35,70  "
   ]
  },
  {
   "cell_type": "code",
   "execution_count": 1,
   "id": "6d2b5498",
   "metadata": {},
   "outputs": [],
   "source": [
    "def generator_num(n):\n",
    "    for i in range(0,n+1):\n",
    "        if i % 5 == 0 and i %7 == 0:\n",
    "            yield i"
   ]
  },
  {
   "cell_type": "code",
   "execution_count": 2,
   "id": "f820ae22",
   "metadata": {},
   "outputs": [
    {
     "name": "stdout",
     "output_type": "stream",
     "text": [
      "0,35,70\n"
     ]
    }
   ],
   "source": [
    "opt = generator_num(100)\n",
    "l=[]\n",
    "for i in opt:\n",
    "    l.append(str(i))\n",
    "\n",
    "print(','.join(l))"
   ]
  },
  {
   "cell_type": "markdown",
   "id": "47fbe17c",
   "metadata": {},
   "source": [
    "Question 2:  \n",
    "Please write a program using generator to print the even numbers between 0 and n in comma  \n",
    "separated form while n is input by console.  \n",
    "Example:  \n",
    "If the following n is given as input to the program:  \n",
    "10  \n",
    "Then, the output of the program should be:  \n",
    "0,2,4,6,8,10  "
   ]
  },
  {
   "cell_type": "code",
   "execution_count": 3,
   "id": "bb8677f1",
   "metadata": {},
   "outputs": [],
   "source": [
    "def generator_num1(n):\n",
    "    for i in range(0,n+1):\n",
    "        if i % 2 == 0:\n",
    "            yield i"
   ]
  },
  {
   "cell_type": "code",
   "execution_count": 4,
   "id": "4924c548",
   "metadata": {},
   "outputs": [
    {
     "name": "stdout",
     "output_type": "stream",
     "text": [
      "0,2,4,6,8,10\n"
     ]
    }
   ],
   "source": [
    "opt = generator_num1(10)\n",
    "l=[]\n",
    "for i in opt:\n",
    "    l.append(str(i))\n",
    "\n",
    "print(','.join(l))"
   ]
  },
  {
   "cell_type": "markdown",
   "id": "56c78aca",
   "metadata": {},
   "source": [
    "Question 3:  \n",
    "The Fibonacci Sequence is computed based on the following formula:  \n",
    "f(n)=0 if n=0   \n",
    "f(n)=1 if n=1    \n",
    "f(n)=f(n-1)+f(n-2) if n>1    \n",
    "Please write a program using list comprehension to print the Fibonacci Sequence in comma   \n",
    "separated form with a given n input by console.  \n",
    "Example:  \n",
    "If the following n is given as input to the program:  \n",
    "7  \n",
    "  \n",
    "Then, the output of the program should be:  \n",
    "0,1,1,2,3,5,8,13  "
   ]
  },
  {
   "cell_type": "code",
   "execution_count": 5,
   "id": "cb2162be",
   "metadata": {},
   "outputs": [
    {
     "name": "stdout",
     "output_type": "stream",
     "text": [
      "Enter the number: 7\n",
      "[0, 1, 1, 2, 3, 5, 8, 13, 21]\n"
     ]
    }
   ],
   "source": [
    "n= int(input('Enter the number: '))\n",
    "\n",
    "opt_list = [0,1]  \n",
    "[opt_list.append(opt_list[-2]+opt_list[-1]) for n in range(n)]\n",
    "print(opt_list)  "
   ]
  },
  {
   "cell_type": "markdown",
   "id": "09da3ef2",
   "metadata": {},
   "source": [
    "Question 4 :    \n",
    "Assuming that we have some email addresses in the \"username@companyname.com\" format,  \n",
    "please write program to print the user name of a given email address. Both user names and \n",
    "company names are composed of letters only.   \n",
    "Example:  \n",
    "If the following email address is given as input to the program:  \n",
    "john@google.com   \n",
    "Then, the output of the program should be:  \n",
    "john  "
   ]
  },
  {
   "cell_type": "code",
   "execution_count": 6,
   "id": "534a5292",
   "metadata": {},
   "outputs": [
    {
     "name": "stdout",
     "output_type": "stream",
     "text": [
      "Please Enter the Email address : john@google.com\n",
      "john\n"
     ]
    }
   ],
   "source": [
    "input_email = input(\"Please Enter the Email address : \")\n",
    "list1 = input_email.split('.')\n",
    "list2 = list1[0].split('@')\n",
    "\n",
    "print(list2[0])"
   ]
  },
  {
   "cell_type": "markdown",
   "id": "981cc022",
   "metadata": {},
   "source": [
    "Question 5:  \n",
    "Define a class named Shape and its subclass Square.   \n",
    "The Square class has an init function which takes a length as argument.   \n",
    "Both classes have a area function which can print the area  \n",
    "of the shape where Shape's area is 0 by default.  "
   ]
  },
  {
   "cell_type": "code",
   "execution_count": 7,
   "id": "9cac9ddf",
   "metadata": {},
   "outputs": [
    {
     "name": "stdout",
     "output_type": "stream",
     "text": [
      "Default area is : 0\n",
      "Area of the Square is :  25\n"
     ]
    }
   ],
   "source": [
    "class Shape:\n",
    "    \n",
    "    def area(self):\n",
    "        return 0\n",
    "class Square(Shape):\n",
    "    \n",
    "    def __init__(self,length):\n",
    "        self.length = length\n",
    "    def area(self):\n",
    "        return self.length ** 2\n",
    "    \n",
    "shape  = Shape()\n",
    "print(\"Default area is :\" , shape.area())\n",
    "\n",
    "square = Square(5)\n",
    "print(\"Area of the Square is : \",square.area())"
   ]
  }
 ],
 "metadata": {
  "kernelspec": {
   "display_name": "Python 3 (ipykernel)",
   "language": "python",
   "name": "python3"
  },
  "language_info": {
   "codemirror_mode": {
    "name": "ipython",
    "version": 3
   },
   "file_extension": ".py",
   "mimetype": "text/x-python",
   "name": "python",
   "nbconvert_exporter": "python",
   "pygments_lexer": "ipython3",
   "version": "3.10.4"
  }
 },
 "nbformat": 4,
 "nbformat_minor": 5
}
