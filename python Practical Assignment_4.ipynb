{
 "cells": [
  {
   "cell_type": "markdown",
   "id": "63c52e74",
   "metadata": {},
   "source": [
    "Q1. Write a Python Program to Find the Factorial of a Number?"
   ]
  },
  {
   "cell_type": "code",
   "execution_count": 1,
   "id": "76c6c7fb",
   "metadata": {},
   "outputs": [
    {
     "name": "stdout",
     "output_type": "stream",
     "text": [
      "Factorial of 10 is 3628800\n"
     ]
    }
   ],
   "source": [
    "num = 10\n",
    "a = num\n",
    "fact = 1\n",
    "\n",
    "while(a >= 1):\n",
    "    \n",
    "    fact = fact*a\n",
    "    a = a - 1 \n",
    "\n",
    "print(f\"Factorial of {num} is {fact}\")"
   ]
  },
  {
   "cell_type": "markdown",
   "id": "5defcf93",
   "metadata": {},
   "source": [
    "Q2.Write a Python Program to Display the multiplication Table?"
   ]
  },
  {
   "cell_type": "code",
   "execution_count": 2,
   "id": "3f749887",
   "metadata": {},
   "outputs": [
    {
     "name": "stdout",
     "output_type": "stream",
     "text": [
      "16 * 1 is 16 \n",
      "16 * 2 is 32 \n",
      "16 * 3 is 48 \n",
      "16 * 4 is 64 \n",
      "16 * 5 is 80 \n",
      "16 * 6 is 96 \n",
      "16 * 7 is 112 \n",
      "16 * 8 is 128 \n",
      "16 * 9 is 144 \n",
      "16 * 10 is 160 \n"
     ]
    }
   ],
   "source": [
    "num = 16\n",
    "\n",
    "i = 1\n",
    "while i <= 10:\n",
    "    a = num * i\n",
    "    print(f\"{num} * {i} is {a} \")\n",
    "    i = i+1"
   ]
  },
  {
   "cell_type": "markdown",
   "id": "f2ce9e41",
   "metadata": {},
   "source": [
    "Q3. Write a Python Program to Print the Fibonacci sequence?"
   ]
  },
  {
   "cell_type": "code",
   "execution_count": 3,
   "id": "815ced9e",
   "metadata": {},
   "outputs": [
    {
     "name": "stdout",
     "output_type": "stream",
     "text": [
      "0 1 1 2 3 5 8 13 21 34 "
     ]
    }
   ],
   "source": [
    "len = 10\n",
    "a = [0 for j in range(len)]\n",
    "for i in range(len):\n",
    "    if i < 2:\n",
    "        a[i] = i\n",
    "    else:\n",
    "        a[i] = a[i-2] + a[i-1]\n",
    "\n",
    "for i in range(len):\n",
    "    print(a[i],end = \" \")"
   ]
  },
  {
   "cell_type": "markdown",
   "id": "746730bf",
   "metadata": {},
   "source": [
    "Q4. Write a Python Program to Check Armstrong Number?"
   ]
  },
  {
   "cell_type": "code",
   "execution_count": 4,
   "id": "e6375a80",
   "metadata": {},
   "outputs": [
    {
     "name": "stdout",
     "output_type": "stream",
     "text": [
      "1004 is not armstrong number\n"
     ]
    }
   ],
   "source": [
    "num = 1004\n",
    "temp = num\n",
    "temp1 = num\n",
    "i = 1\n",
    "len1 = 0\n",
    "while(num>0):\n",
    "    a = (num) % (10 **i)\n",
    "    i = i+1\n",
    "    len1 = len1+1\n",
    "    num = num -a\n",
    "\n",
    "sum = 0\n",
    "\n",
    "while(temp>0):\n",
    "    t = temp %10\n",
    "    sum = sum + t**len1\n",
    "    temp = temp // 10\n",
    "    \n",
    "if temp1 == sum:\n",
    "    print(f\"{temp1} is armstrong number\")\n",
    "else:\n",
    "    print(f\"{temp1} is not armstrong number\")\n",
    "\n",
    "\n",
    "\n",
    "\n",
    "\n",
    "\n",
    "    \n",
    "    \n",
    "\n"
   ]
  },
  {
   "cell_type": "markdown",
   "id": "f3b33efc",
   "metadata": {},
   "source": [
    "Q4. Write a Python Program to Find Armstrong Number in an Interval?"
   ]
  },
  {
   "cell_type": "code",
   "execution_count": 5,
   "id": "1519bb36",
   "metadata": {},
   "outputs": [
    {
     "name": "stdout",
     "output_type": "stream",
     "text": [
      "Armstrong numbers between 1 and 1000 are - \n",
      "1\n",
      "2\n",
      "3\n",
      "4\n",
      "5\n",
      "6\n",
      "7\n",
      "8\n",
      "9\n",
      "153\n",
      "370\n",
      "371\n",
      "407\n"
     ]
    }
   ],
   "source": [
    "print(\"Armstrong numbers between 1 and 1000 are - \")\n",
    "for num in range(1,1000):\n",
    "    temp = num\n",
    "    temp1 = num\n",
    "    i = 1\n",
    "    len1 = 0\n",
    "    while(num>0):\n",
    "        a = (num) % (10 **i)\n",
    "        i = i+1\n",
    "        len1 = len1+1\n",
    "        num = num -a\n",
    "\n",
    "    sum = 0\n",
    "\n",
    "    while(temp>0):\n",
    "        t = temp %10\n",
    "        sum = sum + t**len1\n",
    "        temp = temp // 10\n",
    "\n",
    "    if temp1 == sum:\n",
    "        print(temp1 )"
   ]
  },
  {
   "cell_type": "markdown",
   "id": "295fc113",
   "metadata": {},
   "source": [
    "Q5. Write a Python Program to Find the Sum of Natural Numbers?"
   ]
  },
  {
   "cell_type": "code",
   "execution_count": 6,
   "id": "cd439cff",
   "metadata": {},
   "outputs": [
    {
     "name": "stdout",
     "output_type": "stream",
     "text": [
      "sum of natural numbers  136\n"
     ]
    }
   ],
   "source": [
    "num = 16\n",
    "\n",
    "sum = 0\n",
    "\n",
    "while(num > 0):\n",
    "    sum =sum+num\n",
    "    num = num - 1\n",
    "\n",
    "print(\"sum of natural numbers \",sum)"
   ]
  }
 ],
 "metadata": {
  "kernelspec": {
   "display_name": "Python 3 (ipykernel)",
   "language": "python",
   "name": "python3"
  },
  "language_info": {
   "codemirror_mode": {
    "name": "ipython",
    "version": 3
   },
   "file_extension": ".py",
   "mimetype": "text/x-python",
   "name": "python",
   "nbconvert_exporter": "python",
   "pygments_lexer": "ipython3",
   "version": "3.9.7"
  }
 },
 "nbformat": 4,
 "nbformat_minor": 5
}
