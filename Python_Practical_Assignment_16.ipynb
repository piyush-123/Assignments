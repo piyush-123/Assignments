{
 "cells": [
  {
   "cell_type": "markdown",
   "id": "f2449ed3",
   "metadata": {},
   "source": [
    "Question1. Write a function that stutters a word as if someone is struggling to read it. The  \n",
    "first two letters are repeated twice with an ellipsis ... and space after each, and then the  \n",
    "word is pronounced with a question mark ?.   \n",
    "Examples  \n",
    "stutter(\"incredible\") ➞ \"in... in... incredible?\"    \n",
    "stutter(\"enthusiastic\") ➞ \"en... en... enthusiastic?\"   \n",
    "stutter(\"outstanding\") ➞ \"ou... ou... outstanding?\"   \n",
    "  \n",
    "Hint :- Assume all input is in lower case and at least two characters long."
   ]
  },
  {
   "cell_type": "code",
   "execution_count": 1,
   "id": "7b22fdfc",
   "metadata": {},
   "outputs": [],
   "source": [
    "def stutter(input_string):\n",
    "    output_string = \"\"\n",
    "    if len(input_string) < 2:\n",
    "        return \"invalid string\"\n",
    "    else:\n",
    "        output_string = (input_string[0:2] + \"... \") * 2 + input_string + \"?\"\n",
    "        return output_string"
   ]
  },
  {
   "cell_type": "code",
   "execution_count": 2,
   "id": "cebc4d08",
   "metadata": {},
   "outputs": [
    {
     "name": "stdout",
     "output_type": "stream",
     "text": [
      "in... in... incredible?\n",
      "en... en... enthusiastic?\n",
      "ou... ou... outstanding?\n"
     ]
    }
   ],
   "source": [
    "print(stutter(\"incredible\"))\n",
    "print(stutter(\"enthusiastic\"))\n",
    "print(stutter(\"outstanding\"))\n"
   ]
  },
  {
   "cell_type": "markdown",
   "id": "3e1d7e08",
   "metadata": {},
   "source": [
    "Question 2.Create a function that takes an angle in radians and returns the corresponding  \n",
    "angle in degrees rounded to one decimal place.  \n",
    "Examples  \n",
    "radians_to_degrees(1) ➞ 57.3  \n",
    "radians_to_degrees(20) ➞ 1145.9  \n",
    "radians_to_degrees(50) ➞ 2864.8  "
   ]
  },
  {
   "cell_type": "code",
   "execution_count": 3,
   "id": "38ac46c5",
   "metadata": {},
   "outputs": [
    {
     "name": "stdout",
     "output_type": "stream",
     "text": [
      "Enter the Degree:20\n",
      "1145.5\n"
     ]
    }
   ],
   "source": [
    "# 1 radian = 180/Pi degrees\n",
    "input_degree= int(input(\"Enter the Degree:\" ))\n",
    "\n",
    "radian_opt = round(((180 * 7 / 22) * input_degree),1)\n",
    "\n",
    "print(radian_opt)"
   ]
  },
  {
   "cell_type": "markdown",
   "id": "276d8fac",
   "metadata": {},
   "source": [
    "Question 3. In this challenge, establish if a given integer num is a Curzon number. If 1 plus  \n",
    "2 elevated to num is exactly divisible by 1 plus 2 multiplied by num, then num is a Curzon  \n",
    "number.  \n",
    "Given a non-negative integer num, implement a function that returns True if num is a Curzon  \n",
    "number, or False otherwise.\n",
    "Examples  \n",
    "is_curzon(5) ➞ True  \n",
    "2 ** 5 + 1 = 33  \n",
    "2 * 5 + 1 = 11  \n",
    "33 is a multiple of 11  \n",
    "is_curzon(10) ➞ False  \n",
    "2 ** 10 + 1 = 1025  \n",
    "2 * 10 + 1 = 21    \n",
    "1025 is not a multiple of 21  \n",
    "is_curzon(14) ➞ True \n",
    "2 ** 14 + 1 = 16385  \n",
    "2 * 14 + 1 = 29  \n",
    "16385 is a multiple of 29  "
   ]
  },
  {
   "cell_type": "code",
   "execution_count": 4,
   "id": "91e019f7",
   "metadata": {},
   "outputs": [
    {
     "name": "stdout",
     "output_type": "stream",
     "text": [
      "Enter the number to be tested: 14\n",
      "True\n"
     ]
    }
   ],
   "source": [
    "input_num  = int(input(\"Enter the number to be tested: \"))\n",
    "\n",
    "result_1 = 2 ** input_num + 1 \n",
    "result_2 = 2 * input_num + 1\n",
    "\n",
    "if result_1 % result_2 == 0:\n",
    "    print(\"True\")\n",
    "else:\n",
    "    print(\"False\")"
   ]
  },
  {
   "cell_type": "markdown",
   "id": "ac37c62a",
   "metadata": {},
   "source": [
    "Question 4.Given the side length x find the area of a hexagon."
   ]
  },
  {
   "cell_type": "code",
   "execution_count": 5,
   "id": "2876d4e4",
   "metadata": {},
   "outputs": [
    {
     "name": "stdout",
     "output_type": "stream",
     "text": [
      "Enter the length: 5\n",
      "Area is :  65.0\n"
     ]
    }
   ],
   "source": [
    "import math\n",
    "input_len = int(input(\"Enter the length: \"))\n",
    "\n",
    "#area = 3*root(3)/2 * length**2\n",
    "\n",
    "area = round((((3 * math.sqrt(3))/  2) * (input_len ** 2)),1)\n",
    "\n",
    "print(\"Area is : \", area)"
   ]
  },
  {
   "cell_type": "markdown",
   "id": "feb469d4",
   "metadata": {},
   "source": [
    "Question 5. Create a function that returns a base-2 (binary) representation of a base-10\n",
    "(decimal) string number. To convert is simple: ((2) means base-2 and (10) means base-10)\n",
    "010101001(2) = 1 + 8 + 32 + 128.\n",
    "Going from right to left, the value of the most right bit is 1, now from that every bit to the left\n",
    "will be x2 the value, value of an 8 bit binary numbers are (256, 128, 64, 32, 16, 8, 4, 2, 1).\n",
    "Examples\n",
    "binary(1) ➞ &quot;1&quot;\n",
    "1*1 = 1\n",
    "binary(5) ➞ &quot;101&quot;\n",
    "1*1 + 1*4 = 5\n",
    "binary(10) ➞ &quot;1010&quot;\n",
    "1*2 + 1*8 = 10"
   ]
  },
  {
   "cell_type": "code",
   "execution_count": 6,
   "id": "3ce84f47",
   "metadata": {},
   "outputs": [
    {
     "name": "stdout",
     "output_type": "stream",
     "text": [
      "Enter the number : 10\n",
      "1010\n"
     ]
    }
   ],
   "source": [
    "input_number = int(input(\"Enter the number : \"))\n",
    "\n",
    "output_str = \"\"\n",
    "res = input_number % 2\n",
    "new_num = input_number // 2\n",
    "output_str = str(res)\n",
    "while(new_num > 0):\n",
    "    res = new_num % 2\n",
    "    output_str = output_str + str(res)\n",
    "    new_num = new_num // 2\n",
    "\n",
    "final_result = output_str[::-1]\n",
    "print(final_result)"
   ]
  }
 ],
 "metadata": {
  "kernelspec": {
   "display_name": "Python 3 (ipykernel)",
   "language": "python",
   "name": "python3"
  },
  "language_info": {
   "codemirror_mode": {
    "name": "ipython",
    "version": 3
   },
   "file_extension": ".py",
   "mimetype": "text/x-python",
   "name": "python",
   "nbconvert_exporter": "python",
   "pygments_lexer": "ipython3",
   "version": "3.10.4"
  }
 },
 "nbformat": 4,
 "nbformat_minor": 5
}
