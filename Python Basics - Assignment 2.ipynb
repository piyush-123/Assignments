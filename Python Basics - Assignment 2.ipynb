{
 "cells": [
  {
   "cell_type": "raw",
   "id": "2d5f56cd",
   "metadata": {},
   "source": [
    "Q1 What are the two values of the Boolean data type? How do you write them?"
   ]
  },
  {
   "cell_type": "raw",
   "id": "0d1ad34a",
   "metadata": {},
   "source": [
    "Answer - Two values for Booloan data types are true and false.\n",
    "Those have to witten  with first letter as capital - i.e. True and False\n"
   ]
  },
  {
   "cell_type": "raw",
   "id": "49270f61",
   "metadata": {},
   "source": [
    "Q2 - What are the three different types of Boolean operators?"
   ]
  },
  {
   "cell_type": "raw",
   "id": "937a6aee",
   "metadata": {},
   "source": [
    "Boolean operators are used to check to check multiple conditions at once. Three types are\n",
    "1) AND - The expression is true if all the conditions surrounding AND are true \n",
    "2) OR - The expression is true if any of the condition surrounding OR is true\n",
    "3) NOT - It is used to negate the result. NOT True becomes False.\n"
   ]
  },
  {
   "cell_type": "raw",
   "id": "99a1b34e",
   "metadata": {},
   "source": [
    "Q3 - Make a list of each Boolean operator's truth tables (i.e. every possible combination of Boolean\n",
    "values for the operator and what it evaluate )."
   ]
  },
  {
   "cell_type": "raw",
   "id": "36f6f369",
   "metadata": {},
   "source": [
    "Answer -\n",
    "\n",
    "1) AND operator-\n",
    "\n",
    "condition1   condition2  condition3   results\n",
    "    0             0         0         False\n",
    "    0             0         1         False\n",
    "    0             1         0         False\n",
    "    0             1         1         False\n",
    "    1             0         0         False\n",
    "    1             0         1         False\n",
    "    1             1         0         False\n",
    "    1             1         1         True\n",
    "    \n",
    "2) OR operator-\n",
    "\n",
    "condition1   condition2  condition3   results\n",
    "    0             0         0         False\n",
    "    0             0         1         True\n",
    "    0             1         0         True\n",
    "    0             1         1         True\n",
    "    1             0         0         True\n",
    "    1             0         1         True\n",
    "    1             1         0         True\n",
    "    1             1         1         True\n",
    "\n",
    "3) NOT operator-\n",
    "\n",
    "condition1   result\n",
    "    True     False\n",
    "    False    True\n",
    "    \n",
    " Note: - Here 0 in the condition means False and 1 in the condition means True"
   ]
  },
  {
   "cell_type": "raw",
   "id": "25f2e2b9",
   "metadata": {},
   "source": [
    "Q4 What are the values of the following expressions?\n",
    "(5 > 4) and (3 == 5)\n",
    "not (5 > 4)\n",
    "(5 > 4) or (3 == 5)\n",
    "not ((5 > 4) or (3 == 5))\n",
    "(True and True) and (True == False)\n",
    "(not False) or (not True)"
   ]
  },
  {
   "cell_type": "raw",
   "id": "c4f99101",
   "metadata": {},
   "source": [
    "Answer-\n",
    "(5 > 4) and (3 == 5)             -    False\n",
    "not (5 > 4)                      -    False\n",
    "(5 > 4) or (3 == 5)              -    True\n",
    "not ((5 > 4) or (3 == 5))        -    False\n",
    "(True and True) and (True == False)  -  False\n",
    "(not False) or (not True)              - True\n",
    "\n"
   ]
  },
  {
   "cell_type": "raw",
   "id": "40da38b6",
   "metadata": {},
   "source": [
    "Q5 - What are the six comparison operators?"
   ]
  },
  {
   "cell_type": "raw",
   "id": "ee648642",
   "metadata": {},
   "source": [
    "Answer - Below are the comparision operators-\n",
    "\n",
    ">         - greater than\n",
    ">=        - greater than or equal to\n",
    "<         - less than\n",
    "<=        - less than or equal to\n",
    "==        - equal to\n",
    "!=        - not equal to "
   ]
  },
  {
   "cell_type": "raw",
   "id": "bef49b3f",
   "metadata": {},
   "source": [
    "Q6 - How do you tell the difference between the equal to and assignment operators?Describe a\n",
    "condition and when you would use one."
   ]
  },
  {
   "cell_type": "raw",
   "id": "0999582b",
   "metadata": {},
   "source": [
    "Answer -\n",
    "Equal to operator is used to check if two variables,or two conditions are equal.\n",
    "Assignment operator is used to assign the value to a variable.\n",
    "\n",
    "e.g. if we want to check if 2 variables(a,b) have same value we can use a == b,it will return True if the\n",
    "values of a and b are same and false if values of a and b are different.\n",
    "\n",
    "But if we want to assign the value of variable b to variable a , we can use a = b\n",
    "\n"
   ]
  },
  {
   "cell_type": "raw",
   "id": "69f4da5b",
   "metadata": {},
   "source": [
    "Q7. Identify the three blocks in this code:\n",
    "spam = 0\n",
    "if spam == 10:\n",
    "print('eggs')\n",
    "if spam > 5:\n",
    "print('bacon')\n",
    "else:\n",
    "print('ham')\n",
    "print('spam')\n",
    "print('spam')"
   ]
  },
  {
   "cell_type": "raw",
   "id": "5442029b",
   "metadata": {},
   "source": [
    "Answer -\n",
    "\n",
    "Three blocks are - \n",
    "\n",
    "1) if spam == 10:\n",
    "print('eggs')\n",
    "\n",
    "2)\n",
    "if spam > 5:\n",
    "print('bacon')\n",
    "\n",
    "3)\n",
    "else:\n",
    "print('ham')\n",
    "print('spam')\n",
    "print('spam')\n"
   ]
  },
  {
   "cell_type": "raw",
   "id": "1912dc6c",
   "metadata": {},
   "source": [
    "Q8. Write code that prints Hello if 1 is stored in spam, prints Howdy if 2 is stored in spam, and prints\n",
    "Greetings! if anything else is stored in spam."
   ]
  },
  {
   "cell_type": "code",
   "execution_count": 3,
   "id": "94acb313",
   "metadata": {},
   "outputs": [
    {
     "name": "stdout",
     "output_type": "stream",
     "text": [
      "Hello\n"
     ]
    }
   ],
   "source": [
    "#Answer-\n",
    "spam=1\n",
    "\n",
    "if spam == 1:\n",
    "    print('Hello')\n",
    "elif spam == 2:\n",
    "    print('Howdy')\n",
    "else:\n",
    "    print('Greetings!')"
   ]
  },
  {
   "cell_type": "raw",
   "id": "f00e091c",
   "metadata": {},
   "source": [
    "Q9.If your programme is stuck in an endless loop, what keys you’ll press?"
   ]
  },
  {
   "cell_type": "raw",
   "id": "ef399af6",
   "metadata": {},
   "source": [
    "Answer -  Ctrl+C"
   ]
  },
  {
   "cell_type": "raw",
   "id": "1bc5fccc",
   "metadata": {},
   "source": [
    "Q10. How can you tell the difference between break and continue?"
   ]
  },
  {
   "cell_type": "raw",
   "id": "32ce1294",
   "metadata": {},
   "source": [
    "Answer - \n",
    "break - It is used to break the current loop and passes control to instruction after the loop\n",
    "continue - It is used to skip the execution  of current iteration of loop and passes control to next iteration\n"
   ]
  },
  {
   "cell_type": "raw",
   "id": "0035de8a",
   "metadata": {},
   "source": [
    "Q11. In a for loop, what is the difference between range(10), range(0, 10), and range(0, 10, 1)?"
   ]
  },
  {
   "cell_type": "raw",
   "id": "148dbacf",
   "metadata": {},
   "source": [
    "Answer-\n",
    "range(10) - It is used to create the loop starting from 0 till 10. Here by default starting value is\n",
    "always 0 and end value is 1 less than the number ( i.e. 9 in this case). By default increment is always 1 in each iteration.\n",
    "\n",
    "range(0,10) - It is used to create the loop starting from 0 till 9. Here staring value is given explicitly.We can change the staring value in this case e.g. from 0 to 1 or 2 nd value is 1 less than the number ( i.e. 9 in this case).By default increment is always 1 in each iteration.\n",
    "\n",
    "range(0, 10, 1) - It is used to create the loop starting from 0 till 9. Here staring value is given explicitly.We can change the staring value in this case e.g. from 0 to 1 or 2 nd value is 1 less than the number ( i.e. 9 in this case).Here increment is also given as 1 in each iteration.We can change\n",
    "the increment to another values in this case.\n",
    "\n",
    "\n"
   ]
  },
  {
   "cell_type": "raw",
   "id": "3a973377",
   "metadata": {},
   "source": [
    "Q12. Write a short program that prints the numbers 1 to 10 using a for loop. Then write an equivalent\n",
    "program that prints the numbers 1 to 10 using a while loop."
   ]
  },
  {
   "cell_type": "code",
   "execution_count": 5,
   "id": "5b7bfbfc",
   "metadata": {},
   "outputs": [
    {
     "name": "stdout",
     "output_type": "stream",
     "text": [
      "Printing numbers using for loop\n",
      "1  2  3  4  5  6  7  8  9  10  \n",
      "Printing numbers using while loop\n",
      "1  2  3  4  5  6  7  8  9  10  "
     ]
    }
   ],
   "source": [
    "#Answer-\n",
    "print('Printing numbers using for loop')\n",
    "for i in range(1,11):\n",
    "    print(i,end='  ')\n",
    "\n",
    "print('\\nPrinting numbers using while loop')\n",
    "j = 1\n",
    "\n",
    "while(j <= 10):\n",
    "    print(j,end='  ')\n",
    "    j=j+1\n"
   ]
  },
  {
   "cell_type": "raw",
   "id": "174c569a",
   "metadata": {},
   "source": [
    "Q13. If you had a function named bacon() inside a module named spam, how would you call it after\n",
    "importing spam?"
   ]
  },
  {
   "cell_type": "raw",
   "id": "f5c87b79",
   "metadata": {},
   "source": [
    "Answer-\n",
    "\n",
    "We have to call it using spam i.e. spam.bacon()"
   ]
  }
 ],
 "metadata": {
  "kernelspec": {
   "display_name": "Python 3 (ipykernel)",
   "language": "python",
   "name": "python3"
  },
  "language_info": {
   "codemirror_mode": {
    "name": "ipython",
    "version": 3
   },
   "file_extension": ".py",
   "mimetype": "text/x-python",
   "name": "python",
   "nbconvert_exporter": "python",
   "pygments_lexer": "ipython3",
   "version": "3.9.7"
  }
 },
 "nbformat": 4,
 "nbformat_minor": 5
}
