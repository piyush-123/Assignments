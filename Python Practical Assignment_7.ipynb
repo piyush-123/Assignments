{
 "cells": [
  {
   "cell_type": "markdown",
   "id": "d28dec6f",
   "metadata": {},
   "source": [
    "Q1. Write a Python Program to find sum of array?"
   ]
  },
  {
   "cell_type": "code",
   "execution_count": 1,
   "id": "bd0a23fe",
   "metadata": {},
   "outputs": [
    {
     "name": "stdout",
     "output_type": "stream",
     "text": [
      "Sum of the array elements are 45\n"
     ]
    }
   ],
   "source": [
    "arr = [1,2,3,4,5,6,7,8,9]\n",
    "sum = 0\n",
    "for i in arr:\n",
    "    sum = sum + i\n",
    "\n",
    "print(f\"Sum of the array elements are {sum}\")"
   ]
  },
  {
   "cell_type": "markdown",
   "id": "45f18407",
   "metadata": {},
   "source": [
    "Q2. Write a Python Program to find largest element in an array?"
   ]
  },
  {
   "cell_type": "code",
   "execution_count": 2,
   "id": "0135d352",
   "metadata": {},
   "outputs": [
    {
     "name": "stdout",
     "output_type": "stream",
     "text": [
      "largest element in array is 999\n"
     ]
    }
   ],
   "source": [
    "arr = [3,56,9,10,34,999,9,10]\n",
    "lrg = 0\n",
    "\n",
    "for i in arr:\n",
    "    if i > lrg:\n",
    "        lrg = i\n",
    "\n",
    "print(f\"largest element in array is {lrg}\")"
   ]
  },
  {
   "cell_type": "markdown",
   "id": "5162955a",
   "metadata": {},
   "source": [
    "Q3. Write a Python Program for array rotation?"
   ]
  },
  {
   "cell_type": "code",
   "execution_count": 3,
   "id": "2a9594f5",
   "metadata": {},
   "outputs": [
    {
     "name": "stdout",
     "output_type": "stream",
     "text": [
      "left rotated array is [34, 344, 23, 44, 56, 1, 23, 980]\n"
     ]
    }
   ],
   "source": [
    "arr = [23,44,56,1,23,980,34,344]\n",
    "\n",
    "arr2 = [0 for i in range(len(arr))]\n",
    "\n",
    "rot = 2\n",
    "direction = 'left'\n",
    "\n",
    "if direction == 'right':\n",
    "    arr2[0:len(arr2)-rot] = arr[rot:len(arr)]\n",
    "    arr2[len(arr2)-rot : len(arr2)] = arr[0:rot]\n",
    "    print(f\"right rotated array is {arr2}\")\n",
    "elif direction == 'left':\n",
    "    arr2[0:rot] = arr[len(arr)-rot:len(arr)]\n",
    "    arr2[rot:len(arr2)] = arr[0:len(arr)-rot]\n",
    "    print(f\"left rotated array is {arr2}\")\n",
    "\n",
    "\n"
   ]
  },
  {
   "cell_type": "markdown",
   "id": "8d6efd02",
   "metadata": {},
   "source": [
    "Q4. Write a Python Program to Split the array and add the first part to the end?"
   ]
  },
  {
   "cell_type": "code",
   "execution_count": 4,
   "id": "168b2005",
   "metadata": {},
   "outputs": [
    {
     "data": {
      "text/plain": [
       "[1, 2, 3, 6, 7, 8, 4, 29, 21, 78, 1, 2, 3, 6, 7]"
      ]
     },
     "execution_count": 4,
     "metadata": {},
     "output_type": "execute_result"
    }
   ],
   "source": [
    "arr = [1,2,3,6,7,8,4,29,21,78]\n",
    "\n",
    "i = int(len(arr) / 2)\n",
    "\n",
    "arr2 = [0 for i in range(len(arr)+i)]\n",
    "\n",
    "arr2[0:len(arr)] = arr\n",
    "\n",
    "arr2[len(arr):len(arr2)] = arr[0:i]\n",
    "\n",
    "arr2\n",
    "\n"
   ]
  },
  {
   "cell_type": "markdown",
   "id": "c5959ea3",
   "metadata": {},
   "source": [
    "Q5. Write a Python Program to check if given array is Monotonic?"
   ]
  },
  {
   "cell_type": "code",
   "execution_count": 5,
   "id": "18fbf37b",
   "metadata": {},
   "outputs": [
    {
     "name": "stdout",
     "output_type": "stream",
     "text": [
      "array is not monotonic\n"
     ]
    }
   ],
   "source": [
    "arr = [9,9,8,7,6,78]\n",
    "monti = True\n",
    "montd = True\n",
    "\n",
    "for i in range(len(arr)-1):\n",
    "    if arr[1] >= arr[0]:\n",
    "        if arr[i+1] < arr[i]:\n",
    "            monti = False\n",
    "            break\n",
    "            \n",
    "for i in range(len(arr)-1):\n",
    "    if arr[1] <= arr[0]:\n",
    "        if arr[i+1] > arr[i]:\n",
    "            montd = False\n",
    "            break\n",
    "            \n",
    "if monti or montd:\n",
    "    print(\"array is monotonic\")\n",
    "else:\n",
    "    print(\"array is not monotonic\")\n",
    "        \n",
    "        "
   ]
  }
 ],
 "metadata": {
  "kernelspec": {
   "display_name": "Python 3 (ipykernel)",
   "language": "python",
   "name": "python3"
  },
  "language_info": {
   "codemirror_mode": {
    "name": "ipython",
    "version": 3
   },
   "file_extension": ".py",
   "mimetype": "text/x-python",
   "name": "python",
   "nbconvert_exporter": "python",
   "pygments_lexer": "ipython3",
   "version": "3.9.7"
  }
 },
 "nbformat": 4,
 "nbformat_minor": 5
}
