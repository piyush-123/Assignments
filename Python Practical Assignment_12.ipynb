{
 "cells": [
  {
   "cell_type": "code",
   "execution_count": 1,
   "id": "f181c513",
   "metadata": {},
   "outputs": [
    {
     "name": "stdout",
     "output_type": "stream",
     "text": [
      "['hello', 'ineuron', [1, 2, 3, 4, 5]]\n"
     ]
    }
   ],
   "source": [
    "#Q1 - Write a Python program to Extract Unique values dictionary values?\n",
    "\n",
    "l = {'k1':'hello','k2':'ineuron','k3':1,'k4':1,'k5':3,'k6':[1,2,3,4,5],'k7':3,'k8':3}\n",
    "output_list = []\n",
    "opt_list = []\n",
    "for (keys,values) in l.items():\n",
    "    output_list.append(values)\n",
    "\n",
    "for j in output_list:\n",
    "    if output_list.count(j) == 1:\n",
    "            opt_list.append(j)\n",
    "    \n",
    "print(opt_list)"
   ]
  },
  {
   "cell_type": "code",
   "execution_count": 2,
   "id": "476c12dc",
   "metadata": {},
   "outputs": [
    {
     "name": "stdout",
     "output_type": "stream",
     "text": [
      "11\n"
     ]
    }
   ],
   "source": [
    "#Q2 - Write a Python program to find the sum of all items in a dictionary?\n",
    "sum = 0\n",
    "for (keys,values) in l.items():\n",
    "    if type(values) == int:\n",
    "        sum = sum + values\n",
    "\n",
    "print(sum)\n"
   ]
  },
  {
   "cell_type": "code",
   "execution_count": 3,
   "id": "8f21fd32",
   "metadata": {},
   "outputs": [
    {
     "data": {
      "text/plain": [
       "{'k1': 'abc',\n",
       " 'k2': 1,\n",
       " 'k3': (1, 2, 3),\n",
       " 'k4': [444, 45, 6, 6],\n",
       " 'k5': 'qwerty',\n",
       " 'k6': -12,\n",
       " 'k7': 55.55}"
      ]
     },
     "execution_count": 3,
     "metadata": {},
     "output_type": "execute_result"
    }
   ],
   "source": [
    "#Q3 - Write a Python program to Merging two Dictionaries?\n",
    "\n",
    "l1 = {'k1':'abc','k2':1,'k3':(1,2,3),'k4':[444,45,6,6]}\n",
    "\n",
    "l2 = {'k5':'qwerty','k6':-12,'k7':55.55}\n",
    "\n",
    "output_dict = {}\n",
    "\n",
    "output_dict = l1.copy()\n",
    "output_dict.update(l2)\n",
    "\n",
    "\n",
    "output_dict"
   ]
  },
  {
   "cell_type": "code",
   "execution_count": 4,
   "id": "e9260100",
   "metadata": {},
   "outputs": [
    {
     "data": {
      "text/plain": [
       "['k1',\n",
       " 'hello',\n",
       " 'k2',\n",
       " 'ineuron',\n",
       " 'k3',\n",
       " 1,\n",
       " 'k4',\n",
       " 1,\n",
       " 'k5',\n",
       " 3,\n",
       " 'k6',\n",
       " [1, 2, 3, 4, 5],\n",
       " 'k7',\n",
       " 3,\n",
       " 'k8',\n",
       " 3]"
      ]
     },
     "execution_count": 4,
     "metadata": {},
     "output_type": "execute_result"
    }
   ],
   "source": [
    "#Q4 - Write a Python program to convert key-values list to flat dictionary?\n",
    "\n",
    "opt_list = []\n",
    "for (key,values) in l.items():\n",
    "    opt_list.append(key)\n",
    "    opt_list.append(values)\n",
    "    \n",
    "opt_list\n",
    "    "
   ]
  },
  {
   "cell_type": "code",
   "execution_count": 5,
   "id": "3d964033",
   "metadata": {},
   "outputs": [
    {
     "data": {
      "text/plain": [
       "OrderedDict([('k3', 456), ('k1', 123), ('k2', 456)])"
      ]
     },
     "execution_count": 5,
     "metadata": {},
     "output_type": "execute_result"
    }
   ],
   "source": [
    "#Q5 - Write a Python program to insertion at the beginning in OrderedDict?\n",
    "\n",
    "from collections import OrderedDict\n",
    "\n",
    "new_dict = OrderedDict([('k1',123),('k2',456)])\n",
    "\n",
    "new_dict.update({'k3':456})\n",
    "new_dict.move_to_end('k3',last=False)\n",
    "\n",
    "new_dict"
   ]
  },
  {
   "cell_type": "code",
   "execution_count": 6,
   "id": "787a812c",
   "metadata": {},
   "outputs": [
    {
     "name": "stdout",
     "output_type": "stream",
     "text": [
      "order of min is not present in Python programming\n"
     ]
    }
   ],
   "source": [
    "#Q6 - Write a Python program to check order of character in string using OrderedDict()?\n",
    "from collections import OrderedDict\n",
    "input_string = \"Python programming\"\n",
    "test_string = \"min\"\n",
    "i = 0\n",
    "order=False\n",
    "new_dict = OrderedDict.fromkeys(input_string)\n",
    "for (key,values) in new_dict.items():\n",
    "    if key == test_string[i]:\n",
    "        i = i+1\n",
    "    if i == len(test_string):\n",
    "        order = True\n",
    "        break\n",
    "\n",
    "if order:\n",
    "    print(f\"order of {test_string} is present in {input_string}\")\n",
    "else:\n",
    "    print(f\"order of {test_string} is not present in {input_string}\")\n",
    "\n",
    "    \n",
    "    "
   ]
  },
  {
   "cell_type": "code",
   "execution_count": 7,
   "id": "83edc802",
   "metadata": {},
   "outputs": [
    {
     "name": "stdout",
     "output_type": "stream",
     "text": [
      "Sorted dictonary by keys:---> \n",
      " {'k1': -9877, 'k11': 3, 'k3': 1, 'k4': 1, 'k5': 3, 'k6': 44, 'k7': 30, 'k9': 3456}\n",
      "Sorted dictonary by values:---> \n",
      " {'k1': -9877, 'k3': 1, 'k4': 1, 'k5': 3, 'k11': 3, 'k7': 30, 'k6': 44, 'k9': 3456}\n"
     ]
    }
   ],
   "source": [
    "#Q7 - Write a Python program to sort Python Dictionaries by Key or Value?\n",
    "\n",
    "l = {'k1':-9877,'k9':3456,'k3':1,'k4':1,'k5':3,'k6':44,'k7':30,'k11':3}\n",
    "\n",
    "l1 = {}\n",
    "l2 = {}\n",
    "\n",
    "# sort by keys - \n",
    "for i in sorted(l):\n",
    "    l1[i] = l[i]\n",
    "print(\"Sorted dictonary by keys:---> \\n\",l1);\n",
    "\n",
    "#sort by values\n",
    "\n",
    "for i in sorted(l.values()):\n",
    "    for (keys,values) in l.items():\n",
    "        if i == values:\n",
    "            l2[keys] = i\n",
    "\n",
    "print(\"Sorted dictonary by values:---> \\n\",l2);            \n",
    "\n",
    "\n"
   ]
  }
 ],
 "metadata": {
  "kernelspec": {
   "display_name": "Python 3 (ipykernel)",
   "language": "python",
   "name": "python3"
  },
  "language_info": {
   "codemirror_mode": {
    "name": "ipython",
    "version": 3
   },
   "file_extension": ".py",
   "mimetype": "text/x-python",
   "name": "python",
   "nbconvert_exporter": "python",
   "pygments_lexer": "ipython3",
   "version": "3.9.7"
  }
 },
 "nbformat": 4,
 "nbformat_minor": 5
}
