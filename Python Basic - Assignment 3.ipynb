{
 "cells": [
  {
   "cell_type": "markdown",
   "id": "faa6be77",
   "metadata": {},
   "source": [
    "Q1. Why are functions advantageous to have in your programs?"
   ]
  },
  {
   "cell_type": "markdown",
   "id": "bd820f5e",
   "metadata": {},
   "source": [
    "Answer - \n",
    "Functions are used to reduce the redundance in the code. Whenever we have a requirement where we need to use the same peace of \n",
    "code multiple times than instead if writing it multiple times, function can be created. Then it can be called as and when required.\n",
    "It helps to maintain the code as well easily."
   ]
  },
  {
   "cell_type": "markdown",
   "id": "d7cc2c03",
   "metadata": {},
   "source": [
    "Q2. When does the code in a function run: when it&#39;s specified or when it&#39;s called?"
   ]
  },
  {
   "cell_type": "markdown",
   "id": "26a75203",
   "metadata": {},
   "source": [
    "Answer -\n",
    "Code in the function execute when it is called."
   ]
  },
  {
   "cell_type": "markdown",
   "id": "e0dfc402",
   "metadata": {},
   "source": [
    "Q3.What statement creates a function?"
   ]
  },
  {
   "cell_type": "markdown",
   "id": "6d008e5c",
   "metadata": {},
   "source": [
    "Answer-\n",
    "\n",
    "def keyword is used to create the function.  \n",
    "  \n",
    "e.g. def test():  \n",
    "    print(\"sample function\")  \n",
    "So, here we are defining the function test using def keyword and then the function name followed by brackets.\n"
   ]
  },
  {
   "cell_type": "markdown",
   "id": "dd9e3b0a",
   "metadata": {},
   "source": [
    "Q4.What is the difference between a function and a function call?"
   ]
  },
  {
   "cell_type": "markdown",
   "id": "d0818bf7",
   "metadata": {},
   "source": [
    "Answer-\n",
    "function is used to create to increase the reusability of the piece of code. Suppose a set of code is required to be executed\n",
    "at various places inside a program then instead of writing same piece of code multiple times, function can be created for it.\n",
    "\n",
    "And whenever required to execute that piece of code, function can be called by using the name folloed by brackets and pass the\n",
    "arguments if present."
   ]
  },
  {
   "cell_type": "markdown",
   "id": "3f763e37",
   "metadata": {},
   "source": [
    "Q5. How many global scopes are there in a Python program? How many local scopes?"
   ]
  },
  {
   "cell_type": "markdown",
   "id": "def96687",
   "metadata": {},
   "source": [
    "Answer-\n",
    "There is only one global scope in python program. SO, if a variable is declared in global scope it remain available throughout\n",
    "the program.\n",
    "\n",
    "Local scope can be any in python program. If a variable is defined in a function then it can be accessed only within that function and cannot be used outside that program.\n",
    "\n",
    "Now same variable name can be defined inside different functions and so those has scope inside only those functions.\n",
    "\n",
    "Also same variable name can be of global scope and local scope and so its usage.\n"
   ]
  },
  {
   "cell_type": "markdown",
   "id": "d39dde49",
   "metadata": {},
   "source": [
    "Q6.What happens to variables in a local scope when the function call returns?"
   ]
  },
  {
   "cell_type": "markdown",
   "id": "0fa2a319",
   "metadata": {},
   "source": [
    "Answer-\n",
    "Local variable scope is limited to the funnction in which it is defined. So it is not accessible outside the function and it is destroyed\n",
    "once the control comes out of fucntion."
   ]
  },
  {
   "cell_type": "markdown",
   "id": "82758c1f",
   "metadata": {},
   "source": [
    "Q7.What is the concept of a return value? Is it possible to have a return value in an expression?"
   ]
  },
  {
   "cell_type": "markdown",
   "id": "3bae11b6",
   "metadata": {},
   "source": [
    "Answer-\n",
    "\n",
    "When we define a function to process some data , sometimes it is expected to get the result from the function and then further\n",
    "processing is required based on the result of the function. Since the local variables cannot be accessed outside the function\n",
    "so return statement is used. It is used to pass the result of the function to the calling place.\n",
    "\n",
    "yes return value can be used in expression. e.g. if a function is doing some cimputation and returns a number than it can be used as below-\n",
    "\n",
    "\n",
    "\n"
   ]
  },
  {
   "cell_type": "code",
   "execution_count": 2,
   "id": "b2a23a48",
   "metadata": {},
   "outputs": [
    {
     "name": "stdout",
     "output_type": "stream",
     "text": [
      "100\n"
     ]
    }
   ],
   "source": [
    "\n",
    "\n",
    "def func1():\n",
    "    return 10\n",
    "    \n",
    "a = func1() * 10\n",
    "\n",
    "print(a)"
   ]
  },
  {
   "cell_type": "markdown",
   "id": "83105dce",
   "metadata": {},
   "source": [
    "Q8. If a function does not have a return statement, what is the return value of a call to that function?"
   ]
  },
  {
   "cell_type": "markdown",
   "id": "b3351c8d",
   "metadata": {},
   "source": [
    "Answer - \n",
    "If a function does not have a return statement then it returns None to the called place"
   ]
  },
  {
   "cell_type": "markdown",
   "id": "4b85f7ad",
   "metadata": {},
   "source": [
    "Q9. How do you make a function variable refer to the global variable?"
   ]
  },
  {
   "cell_type": "markdown",
   "id": "0b26e576",
   "metadata": {},
   "source": [
    "Answer-\n",
    "\n",
    "Variable name should be preceded by global keyword to make the varibale as global variable.  \n",
    "e.g. global a = 10"
   ]
  },
  {
   "cell_type": "markdown",
   "id": "0c49be21",
   "metadata": {},
   "source": [
    "Q10. What is the data type of None?"
   ]
  },
  {
   "cell_type": "markdown",
   "id": "a130bf1c",
   "metadata": {},
   "source": [
    "Answer-\n",
    "\n",
    "NoneType"
   ]
  },
  {
   "cell_type": "markdown",
   "id": "d15a5451",
   "metadata": {},
   "source": [
    "Q11 What does the sentence import areallyourpetsnamederic do?"
   ]
  },
  {
   "cell_type": "markdown",
   "id": "e677d079",
   "metadata": {},
   "source": [
    "Answer-\n",
    "import statement is used to import the existing module in current code.Since the modules are already prepared by someone with a functionality and we want to use same functionality in our code we can use import statement.\n",
    "\n",
    "So, here import areallyourpetsnamederic is used to import the functionalities present in areallyourpetsnamederic module to our code and use the functions/varibales present in this in our logic.\n"
   ]
  },
  {
   "cell_type": "markdown",
   "id": "7579fcf2",
   "metadata": {},
   "source": [
    "Q12.If you had a bacon() feature in a spam module, what would you call it after importing spam?"
   ]
  },
  {
   "cell_type": "markdown",
   "id": "d1ea8a51",
   "metadata": {},
   "source": [
    "Answer-\n",
    "\n",
    "we need to use the statement spam.bacon() to use this function in our code"
   ]
  },
  {
   "cell_type": "markdown",
   "id": "1eb5a5cb",
   "metadata": {},
   "source": [
    "Q13. What can you do to save a programme from crashing if it encounters an error?"
   ]
  },
  {
   "cell_type": "markdown",
   "id": "aa812de3",
   "metadata": {},
   "source": [
    "Answer-\n",
    "\n",
    "To save a program from crashing we can put the code in try except block and catch the exception and do the proper error handling\n",
    "\n",
    "Generally if there are certain conditions where the program can crash then that piece of code can be present in try block\n",
    "and except block can be written to handle the different exceptions which can be thrown by code present in try block."
   ]
  },
  {
   "cell_type": "markdown",
   "id": "c07eb5df",
   "metadata": {},
   "source": [
    "Q14.What is the purpose of the try clause? What is the purpose of the except clause?"
   ]
  },
  {
   "cell_type": "markdown",
   "id": "c7844849",
   "metadata": {},
   "source": [
    "Answer- Try clause is used to contain a piece of a code which can thron error during execution. \n",
    "if we do not use try block then program can terminate abnormally which can result in data or files in error state. \n",
    "so proper error handling can be done by putting the code in try block\n",
    "\n",
    "except clause is used to catch the exceptions which can be thrown by the code in try block. We can mention differnt type of exceptions\n",
    "in excelpt clause and can gracefully terminate the code"
   ]
  }
 ],
 "metadata": {
  "kernelspec": {
   "display_name": "Python 3 (ipykernel)",
   "language": "python",
   "name": "python3"
  },
  "language_info": {
   "codemirror_mode": {
    "name": "ipython",
    "version": 3
   },
   "file_extension": ".py",
   "mimetype": "text/x-python",
   "name": "python",
   "nbconvert_exporter": "python",
   "pygments_lexer": "ipython3",
   "version": "3.9.7"
  }
 },
 "nbformat": 4,
 "nbformat_minor": 5
}
