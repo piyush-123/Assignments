{
 "cells": [
  {
   "cell_type": "markdown",
   "id": "85fa324f",
   "metadata": {},
   "source": [
    "#Question1\n",
    "\n",
    "ineuron  \n",
    "ineuron   ineuron  \n",
    "ineuron   ineuron   ineuron  \n",
    "ineuron   ineuron   ineuron   ineuron  "
   ]
  },
  {
   "cell_type": "code",
   "execution_count": 1,
   "id": "261406eb",
   "metadata": {},
   "outputs": [
    {
     "name": "stdout",
     "output_type": "stream",
     "text": [
      "ineuron \n",
      "ineuron ineuron \n",
      "ineuron ineuron ineuron \n",
      "ineuron ineuron ineuron ineuron \n"
     ]
    }
   ],
   "source": [
    "n = 4\n",
    "\n",
    "for i in range(n):\n",
    "    for j in range(i+1):\n",
    "        print(\"ineuron\",end = \" \")\n",
    "    print()    "
   ]
  },
  {
   "cell_type": "raw",
   "id": "8ce92f36",
   "metadata": {},
   "source": [
    "#Question2\n",
    "\n",
    "           ineuron \n",
    "    ineuron         ineuron   \n",
    "ineuron     ineuron       ineuron \n",
    "    ineuron         ineuron  \n",
    "           ineuron "
   ]
  },
  {
   "cell_type": "code",
   "execution_count": 2,
   "id": "922bcce1",
   "metadata": {},
   "outputs": [
    {
     "name": "stdout",
     "output_type": "stream",
     "text": [
      "                        ineuron ineuron \n",
      "                ineuron ineuron ineuron ineuron \n",
      "        ineuron ineuron ineuron ineuron ineuron ineuron \n",
      "                ineuron ineuron ineuron ineuron \n",
      "                        ineuron ineuron \n"
     ]
    }
   ],
   "source": [
    "c = 5\n",
    "n = 5\n",
    "\n",
    "if c % 2 == 0:\n",
    "    k = int(c / 2)\n",
    "else:\n",
    "    k = int((c+1)/2)\n",
    "\n",
    "for i in range(1,n+1):\n",
    "    if i <= k:\n",
    "        for j in range(i,k+1):\n",
    "                print(\" \" * len(\"ineuron\"),end = \" \")\n",
    "        for y in range(2):\n",
    "                for j in range(i):\n",
    "                    print(\"ineuron\",end=\" \")\n",
    "        print()\n",
    "    elif i > k:\n",
    "        i = n - i + 1\n",
    "        for j in range(i,k+1):\n",
    "                print(\" \" * len(\"ineuron\"),end = \" \")\n",
    "        for y in range(2):\n",
    "                for j in range(i):\n",
    "                    print(\"ineuron\",end=\" \")\n",
    "        print()\n",
    "        \n",
    " \n"
   ]
  },
  {
   "cell_type": "code",
   "execution_count": 3,
   "id": "ae8040fe",
   "metadata": {},
   "outputs": [],
   "source": [
    "l = [[1,2,3,4],(2,3,4,5,6),(3,4,5,6,7),set([23,4,5,45,4,4,5,45,45,4,5]),{\"k1\":\"sudh\",\"k2\":\"ineuron\",\"k3\":\"kumar\",3:6,7:8},[\"ineuron\",\"data science \"]] "
   ]
  },
  {
   "cell_type": "code",
   "execution_count": 4,
   "id": "b727bb61",
   "metadata": {},
   "outputs": [
    {
     "data": {
      "text/plain": [
       "[[1, 2, 3, 4],\n",
       " (2, 3, 4, 5, 6),\n",
       " (3, 4, 5, 6, 7),\n",
       " {4, 5, 23, 45},\n",
       " {'k1': 'sudh', 'k2': 'ineuron', 'k3': 'kumar', 3: 6, 7: 8},\n",
       " ['ineuron', 'data science ']]"
      ]
     },
     "execution_count": 4,
     "metadata": {},
     "output_type": "execute_result"
    }
   ],
   "source": [
    "l"
   ]
  },
  {
   "cell_type": "code",
   "execution_count": 5,
   "id": "6794c450",
   "metadata": {},
   "outputs": [
    {
     "name": "stdout",
     "output_type": "stream",
     "text": [
      "[1, 2, 3, 4]\n",
      "['ineuron', 'data science ']\n"
     ]
    }
   ],
   "source": [
    "#try to extract all the list entity\n",
    "\n",
    "for i in l:\n",
    "    if type(i) == list:\n",
    "        print(i)"
   ]
  },
  {
   "cell_type": "code",
   "execution_count": 6,
   "id": "dcbbd064",
   "metadata": {},
   "outputs": [
    {
     "name": "stdout",
     "output_type": "stream",
     "text": [
      "{'k1': 'sudh', 'k2': 'ineuron', 'k3': 'kumar', 3: 6, 7: 8}\n"
     ]
    }
   ],
   "source": [
    "#try to extract all the dict entities\n",
    "for i in l:\n",
    "    if type(i) == dict:\n",
    "        print(i)"
   ]
  },
  {
   "cell_type": "code",
   "execution_count": 7,
   "id": "c96de476",
   "metadata": {},
   "outputs": [
    {
     "name": "stdout",
     "output_type": "stream",
     "text": [
      "(2, 3, 4, 5, 6)\n",
      "(3, 4, 5, 6, 7)\n"
     ]
    }
   ],
   "source": [
    "#q5 - try to extract all the tuple entities\n",
    "for i in l:\n",
    "    if type(i) == tuple:\n",
    "        print(i)\n"
   ]
  },
  {
   "cell_type": "code",
   "execution_count": 8,
   "id": "7d59d6eb",
   "metadata": {},
   "outputs": [
    {
     "data": {
      "text/plain": [
       "[[1, 2, 3, 4],\n",
       " (2, 3, 4, 5, 6),\n",
       " (3, 4, 5, 6, 7),\n",
       " {4, 5, 23, 45},\n",
       " {'k1': 'sudh', 'k2': 'ineuron', 'k3': 'kumar', 3: 6, 7: 8},\n",
       " ['ineuron', 'data science ']]"
      ]
     },
     "execution_count": 8,
     "metadata": {},
     "output_type": "execute_result"
    }
   ],
   "source": [
    "l"
   ]
  },
  {
   "cell_type": "code",
   "execution_count": 9,
   "id": "cf7c1879",
   "metadata": {},
   "outputs": [
    {
     "name": "stdout",
     "output_type": "stream",
     "text": [
      "1\n",
      "2\n",
      "3\n",
      "4\n",
      "2\n",
      "3\n",
      "4\n",
      "5\n",
      "6\n",
      "3\n",
      "4\n",
      "5\n",
      "6\n",
      "7\n",
      "45\n",
      "4\n",
      "5\n",
      "23\n",
      "(3, 6)\n",
      "(7, 8)\n"
     ]
    }
   ],
   "source": [
    "#q6 - try to extract all the numerical data - it may be a part of dictionary key and values\n",
    "for i in l:\n",
    "    if type(i) == list or type(i) == tuple or type(i) == set:\n",
    "        for j in i:\n",
    "            if type(j) == int:\n",
    "                print(j)\n",
    "    elif type(i) == dict:\n",
    "        for d in i.items():\n",
    "            if (type(d[0]) == int or type(d[1]) == int):\n",
    "                print(d)\n",
    "            \n"
   ]
  },
  {
   "cell_type": "code",
   "execution_count": 10,
   "id": "93820d59",
   "metadata": {},
   "outputs": [
    {
     "name": "stdout",
     "output_type": "stream",
     "text": [
      "156\n"
     ]
    }
   ],
   "source": [
    "#q7 - try to give a summation of all the numeric data\n",
    "sum = 0\n",
    "for i in l:\n",
    "    if type(i) == list or type(i) == tuple or type(i) == set:\n",
    "        for j in i:\n",
    "            if type(j) == int:\n",
    "                sum = sum + j\n",
    "    elif type(i) == dict:\n",
    "        for d in i.items():\n",
    "            if type(d[0]) == int:\n",
    "                sum = sum + d[0]\n",
    "            if type(d[1]) == int:\n",
    "                sum = sum + d[1]\n",
    "\n",
    "print(sum)\n",
    "            \n"
   ]
  },
  {
   "cell_type": "code",
   "execution_count": 11,
   "id": "0219327f",
   "metadata": {},
   "outputs": [
    {
     "name": "stdout",
     "output_type": "stream",
     "text": [
      "1\n",
      "3\n",
      "3\n",
      "5\n",
      "3\n",
      "5\n",
      "7\n",
      "45\n",
      "5\n",
      "23\n",
      "3\n",
      "7\n"
     ]
    }
   ],
   "source": [
    "#q8 - try to filter out all the odd values out of all numeric data which is part of a list\n",
    "\n",
    "for i in l:\n",
    "    if type(i) == list or type(i) == tuple or type(i) == set:\n",
    "        for j in i:\n",
    "            if type(j) == int:\n",
    "                if j % 2 != 0 :\n",
    "                    print(j)\n",
    "                    \n",
    "    elif type(i) == dict:\n",
    "        for d in i.items():\n",
    "            if type(d[0]) == int:\n",
    "                if d[0] % 2 != 0 :\n",
    "                    print(d[0])\n",
    "            if type(d[1]) == int:\n",
    "                if d[1] % 2 != 0 :\n",
    "                    print(d[1])\n"
   ]
  },
  {
   "cell_type": "code",
   "execution_count": 12,
   "id": "0ab5fd77",
   "metadata": {},
   "outputs": [
    {
     "data": {
      "text/plain": [
       "[[1, 2, 3, 4],\n",
       " (2, 3, 4, 5, 6),\n",
       " (3, 4, 5, 6, 7),\n",
       " {4, 5, 23, 45},\n",
       " {'k1': 'sudh', 'k2': 'ineuron', 'k3': 'kumar', 3: 6, 7: 8},\n",
       " ['ineuron', 'data science ']]"
      ]
     },
     "execution_count": 12,
     "metadata": {},
     "output_type": "execute_result"
    }
   ],
   "source": [
    "l"
   ]
  },
  {
   "cell_type": "code",
   "execution_count": 13,
   "id": "a45c968f",
   "metadata": {},
   "outputs": [
    {
     "name": "stdout",
     "output_type": "stream",
     "text": [
      "ineuron\n",
      "ineuron\n"
     ]
    }
   ],
   "source": [
    "#q9 - try to extract \"ineuron\" out of this data\n",
    "\n",
    "for i in l:\n",
    "    if type(i) == list or type(i) == tuple or type(i) == set:\n",
    "        for j in i:\n",
    "            if j == 'ineuron':\n",
    "                    print(j)\n",
    "                    \n",
    "    elif type(i) == dict:\n",
    "        for d in i.items():\n",
    "            if d[0] == 'ineuron':\n",
    "                    print(d[0])\n",
    "            if d[1] == 'ineuron':\n",
    "                    print(d[1])\n",
    "\n",
    "\n"
   ]
  },
  {
   "cell_type": "code",
   "execution_count": 14,
   "id": "9d9374dd",
   "metadata": {},
   "outputs": [
    {
     "data": {
      "text/plain": [
       "[[1, 2, 3, 4],\n",
       " (2, 3, 4, 5, 6),\n",
       " (3, 4, 5, 6, 7),\n",
       " {4, 5, 23, 45},\n",
       " {'k1': 'sudh', 'k2': 'ineuron', 'k3': 'kumar', 3: 6, 7: 8},\n",
       " ['ineuron', 'data science ']]"
      ]
     },
     "execution_count": 14,
     "metadata": {},
     "output_type": "execute_result"
    }
   ],
   "source": [
    "l"
   ]
  },
  {
   "cell_type": "code",
   "execution_count": 15,
   "id": "895d29bb",
   "metadata": {},
   "outputs": [
    {
     "name": "stdout",
     "output_type": "stream",
     "text": [
      "1 1\n",
      "2 2\n",
      "3 4\n",
      "4 4\n",
      "5 3\n",
      "6 3\n",
      "7 2\n",
      "8 1\n",
      "k3 1\n",
      "45 1\n",
      "kumar 1\n",
      "sudh 1\n",
      "23 1\n",
      "data science  1\n",
      "k1 1\n",
      "ineuron 2\n",
      "k2 1\n"
     ]
    }
   ],
   "source": [
    "#q10 - try to find out a number of occurences of all the data\n",
    "l1 = []\n",
    "for i in l:\n",
    "    if type(i) == list or type(i) == tuple or type(i) == set:\n",
    "        for j in i:\n",
    "            l1.append(j)\n",
    "                    \n",
    "    elif type(i) == dict:\n",
    "        for d in i.items():\n",
    "             l1.append(d[0])\n",
    "             l1.append(d[1])\n",
    "            \n",
    "for k in set(l1):\n",
    "    print(k,l1.count(k))"
   ]
  },
  {
   "cell_type": "code",
   "execution_count": 16,
   "id": "c5f148fa",
   "metadata": {},
   "outputs": [
    {
     "name": "stdout",
     "output_type": "stream",
     "text": [
      "k1\n",
      "k2\n",
      "k3\n",
      "3\n",
      "7\n"
     ]
    }
   ],
   "source": [
    "#q11 - try to find out number of keys in dictionary element\n",
    "for i in l:\n",
    "      if type(i) == dict:\n",
    "        for d in i.items():\n",
    "            print(d[0])\n"
   ]
  },
  {
   "cell_type": "code",
   "execution_count": 17,
   "id": "d97feb01",
   "metadata": {},
   "outputs": [
    {
     "name": "stdout",
     "output_type": "stream",
     "text": [
      "k1\n",
      "sudh\n",
      "k2\n",
      "ineuron\n",
      "k3\n",
      "kumar\n",
      "ineuron\n",
      "data science \n"
     ]
    }
   ],
   "source": [
    "#q12 - try to filter out all the string data\n",
    "for i in l:\n",
    "    if type(i) == list or type(i) == tuple or type(i) == set:\n",
    "        for j in i:\n",
    "            if type(j) == str:\n",
    "                    print(j)\n",
    "                    \n",
    "    elif type(i) == dict:\n",
    "        for d in i.items():\n",
    "            if type(d[0]) == str:\n",
    "                    print(d[0])\n",
    "            if type(d[1]) == str:\n",
    "                    print(d[1])"
   ]
  },
  {
   "cell_type": "code",
   "execution_count": 18,
   "id": "0b91434e",
   "metadata": {},
   "outputs": [
    {
     "name": "stdout",
     "output_type": "stream",
     "text": [
      "k1\n",
      "sudh\n",
      "k2\n",
      "ineuron\n",
      "k3\n",
      "kumar\n",
      "ineuron\n"
     ]
    }
   ],
   "source": [
    "#q13 - try to find out alphanumeric in data\n",
    "for i in l:\n",
    "    if type(i) == list or type(i) == tuple or type(i) == set:\n",
    "        for j in i:\n",
    "            if type(j) == str and j.isalnum():\n",
    "                    print(j)\n",
    "                    \n",
    "    elif type(i) == dict:\n",
    "        for d in i.items():\n",
    "            if type(d[0]) == str and d[0].isalnum():\n",
    "                    print(d[0])\n",
    "            if type(d[1]) == str and d[1].isalnum():\n",
    "                    print(d[1])\n"
   ]
  },
  {
   "cell_type": "code",
   "execution_count": 19,
   "id": "172e4c5a",
   "metadata": {},
   "outputs": [
    {
     "name": "stdout",
     "output_type": "stream",
     "text": [
      "24\n",
      "720\n",
      "2520\n",
      "20700\n",
      "1008\n"
     ]
    }
   ],
   "source": [
    "#q14 - try to find out multiplication of all numeric value in individual collections inside dataset\n",
    "mul = 1\n",
    "count = 0\n",
    "for i in l:\n",
    "    if type(i) == list or type(i) == tuple or type(i) == set:\n",
    "        for j in i:\n",
    "            if type(j) == int:\n",
    "                    count = count + 1\n",
    "                    mul = mul * j\n",
    "        if count > 0:\n",
    "            print(mul)\n",
    "        mul = 1\n",
    "        count = 0\n",
    "                    \n",
    "    elif type(i) == dict:\n",
    "        for d in i.items():\n",
    "            if type(d[0]) == int:\n",
    "                    mul = mul * d[0]\n",
    "                    count = count + 1\n",
    "            if type(d[1]) == int:\n",
    "                    mul = mul * d[1]\n",
    "                    count = count + 1\n",
    "        if count > 0:\n",
    "            print(mul)\n",
    "        mul = 1\n",
    "        count = 0\n",
    "\n"
   ]
  },
  {
   "cell_type": "code",
   "execution_count": 20,
   "id": "f392000b",
   "metadata": {},
   "outputs": [
    {
     "data": {
      "text/plain": [
       "[1,\n",
       " 2,\n",
       " 3,\n",
       " 4,\n",
       " 2,\n",
       " 3,\n",
       " 4,\n",
       " 5,\n",
       " 6,\n",
       " 3,\n",
       " 4,\n",
       " 5,\n",
       " 6,\n",
       " 7,\n",
       " 45,\n",
       " 4,\n",
       " 5,\n",
       " 23,\n",
       " 'k1',\n",
       " 'sudh',\n",
       " 'k2',\n",
       " 'ineuron',\n",
       " 'k3',\n",
       " 'kumar',\n",
       " 3,\n",
       " 6,\n",
       " 7,\n",
       " 8,\n",
       " 'ineuron',\n",
       " 'data science ']"
      ]
     },
     "execution_count": 20,
     "metadata": {},
     "output_type": "execute_result"
    }
   ],
   "source": [
    "#q15 - to unwrap all collections inside colections and create a flat list\n",
    "l1 = []\n",
    "for i in l:\n",
    "    if type(i) == list or type(i) == tuple or type(i) == set:\n",
    "        for j in i:\n",
    "            l1.append(j)\n",
    "                    \n",
    "    elif type(i) == dict:\n",
    "        for d in i.items():\n",
    "             l1.append(d[0])\n",
    "             l1.append(d[1])\n",
    "l1"
   ]
  }
 ],
 "metadata": {
  "kernelspec": {
   "display_name": "Python 3 (ipykernel)",
   "language": "python",
   "name": "python3"
  },
  "language_info": {
   "codemirror_mode": {
    "name": "ipython",
    "version": 3
   },
   "file_extension": ".py",
   "mimetype": "text/x-python",
   "name": "python",
   "nbconvert_exporter": "python",
   "pygments_lexer": "ipython3",
   "version": "3.9.7"
  }
 },
 "nbformat": 4,
 "nbformat_minor": 5
}
