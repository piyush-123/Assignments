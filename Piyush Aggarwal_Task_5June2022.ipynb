{
 "cells": [
  {
   "cell_type": "code",
   "execution_count": 1,
   "id": "843fd314",
   "metadata": {},
   "outputs": [
    {
     "name": "stdout",
     "output_type": "stream",
     "text": [
      "2\n",
      "3\n",
      "5\n",
      "7\n",
      "11\n",
      "13\n",
      "17\n",
      "19\n",
      "23\n",
      "29\n",
      "31\n",
      "37\n",
      "41\n",
      "43\n",
      "47\n",
      "53\n",
      "59\n",
      "61\n",
      "67\n",
      "71\n",
      "73\n",
      "79\n",
      "83\n",
      "89\n",
      "97\n",
      "101\n",
      "103\n",
      "107\n",
      "109\n",
      "113\n",
      "127\n",
      "131\n",
      "137\n",
      "139\n",
      "149\n",
      "151\n",
      "157\n",
      "163\n",
      "167\n",
      "173\n",
      "179\n",
      "181\n",
      "191\n",
      "193\n",
      "197\n",
      "199\n",
      "211\n",
      "223\n",
      "227\n",
      "229\n",
      "233\n",
      "239\n",
      "241\n",
      "251\n",
      "257\n",
      "263\n",
      "269\n",
      "271\n",
      "277\n",
      "281\n",
      "283\n",
      "293\n",
      "307\n",
      "311\n",
      "313\n",
      "317\n",
      "331\n",
      "337\n",
      "347\n",
      "349\n",
      "353\n",
      "359\n",
      "367\n",
      "373\n",
      "379\n",
      "383\n",
      "389\n",
      "397\n",
      "401\n",
      "409\n",
      "419\n",
      "421\n",
      "431\n",
      "433\n",
      "439\n",
      "443\n",
      "449\n",
      "457\n",
      "461\n",
      "463\n",
      "467\n",
      "479\n",
      "487\n",
      "491\n",
      "499\n",
      "503\n",
      "509\n",
      "521\n",
      "523\n",
      "541\n",
      "547\n",
      "557\n",
      "563\n",
      "569\n",
      "571\n",
      "577\n",
      "587\n",
      "593\n",
      "599\n",
      "601\n",
      "607\n",
      "613\n",
      "617\n",
      "619\n",
      "631\n",
      "641\n",
      "643\n",
      "647\n",
      "653\n",
      "659\n",
      "661\n",
      "673\n",
      "677\n",
      "683\n",
      "691\n",
      "701\n",
      "709\n",
      "719\n",
      "727\n",
      "733\n",
      "739\n",
      "743\n",
      "751\n",
      "757\n",
      "761\n",
      "769\n",
      "773\n",
      "787\n",
      "797\n",
      "809\n",
      "811\n",
      "821\n",
      "823\n",
      "827\n",
      "829\n",
      "839\n",
      "853\n",
      "857\n",
      "859\n",
      "863\n",
      "877\n",
      "881\n",
      "883\n",
      "887\n",
      "907\n",
      "911\n",
      "919\n",
      "929\n",
      "937\n",
      "941\n",
      "947\n",
      "953\n",
      "967\n",
      "971\n",
      "977\n",
      "983\n",
      "991\n",
      "997\n"
     ]
    }
   ],
   "source": [
    "#Q1:try to print a prime number in between 1 to 1000\n",
    "\n",
    "for i in range(2,1000):\n",
    "    prime = True\n",
    "    for j in range(2,i):\n",
    "        if i % j == 0:\n",
    "            prime = False\n",
    "            break\n",
    "    if prime:\n",
    "        print(i)\n",
    "            \n",
    "        "
   ]
  },
  {
   "cell_type": "code",
   "execution_count": 2,
   "id": "69f5fd51",
   "metadata": {},
   "outputs": [],
   "source": [
    "#Q2) try to write a function which is equivalent to print function in python\n",
    "import sys\n",
    "def print1(*a):\n",
    "    for i in a:\n",
    "        if type(i) != str:\n",
    "            i = str(i)\n",
    "        sys.stdout.write(i)\n",
    "        sys.stdout.write(\" \")\n",
    "        "
   ]
  },
  {
   "cell_type": "code",
   "execution_count": 3,
   "id": "58326e0e",
   "metadata": {},
   "outputs": [
    {
     "name": "stdout",
     "output_type": "stream",
     "text": [
      "hi (8, 9) helo "
     ]
    }
   ],
   "source": [
    "print1(\"hi\",(8,9),\"helo\")\n"
   ]
  },
  {
   "cell_type": "code",
   "execution_count": 4,
   "id": "743dcb34",
   "metadata": {},
   "outputs": [],
   "source": [
    "#Q3) try to write a function whic is replica of list append,extend and pop function\n",
    "\n",
    "def append1(l,a):\n",
    "    l1 = []\n",
    "    t = len(l) + 1\n",
    "    for m in range(t):\n",
    "        l1[m:1] = '0' \n",
    "    for i in range(len(l)):\n",
    "        l1[i] = l[i]\n",
    "    j = i+1\n",
    "    l1[j] = a\n",
    "    \n",
    "    return l1\n",
    "\n",
    "def extend1(l,a):\n",
    "    l1 = []\n",
    "    if type(a) == int or type(a) == float:\n",
    "        return \"error\"\n",
    "    if type(a) == set:\n",
    "        a = list(a)\n",
    "    if type(a) == dict:\n",
    "        a = list(a.keys())\n",
    "    t = len(l) + len(a)\n",
    "    for m in range(t):\n",
    "        l1[m:1] = '0'\n",
    "    for i in range(len(l)):\n",
    "        l1[i] = l[i]\n",
    "    j = i + 1\n",
    "    \n",
    "    for k in range(len(a)):\n",
    "        l1[j] = a[k]\n",
    "        j = j+1\n",
    "    return l1\n",
    "\n",
    "def pop1(l,a=-1):\n",
    "    \n",
    "    if len(l) > 0:\n",
    "        g = len(l) - 1\n",
    "        l = l[0:g]\n",
    "    return l\n",
    "    \n",
    "    \n",
    "    \n",
    "    "
   ]
  },
  {
   "cell_type": "code",
   "execution_count": 5,
   "id": "ad6fa6a7",
   "metadata": {},
   "outputs": [
    {
     "data": {
      "text/plain": [
       "[1, 2, 3, 4, 5, 6, 7, 8, 9, [0, 9]]"
      ]
     },
     "execution_count": 5,
     "metadata": {},
     "output_type": "execute_result"
    }
   ],
   "source": [
    "g = [1,2,3,4,5,6,7,8,9]\n",
    "b = append1(g,[0,9])\n",
    "b"
   ]
  },
  {
   "cell_type": "code",
   "execution_count": 6,
   "id": "28c226c9",
   "metadata": {},
   "outputs": [
    {
     "data": {
      "text/plain": [
       "[8, 9, 0, 6, '9']"
      ]
     },
     "execution_count": 6,
     "metadata": {},
     "output_type": "execute_result"
    }
   ],
   "source": [
    "a = [8,9,0,6]\n",
    "a = extend1(a,'9')\n",
    "a"
   ]
  },
  {
   "cell_type": "code",
   "execution_count": 7,
   "id": "87bcc870",
   "metadata": {},
   "outputs": [],
   "source": [
    "b = [1,2,3,4,5]"
   ]
  },
  {
   "cell_type": "code",
   "execution_count": 8,
   "id": "9e21adad",
   "metadata": {},
   "outputs": [
    {
     "data": {
      "text/plain": [
       "[1, 2, 3, 4]"
      ]
     },
     "execution_count": 8,
     "metadata": {},
     "output_type": "execute_result"
    }
   ],
   "source": [
    "b = pop1(b)\n",
    "b"
   ]
  },
  {
   "cell_type": "code",
   "execution_count": 9,
   "id": "8058638f",
   "metadata": {},
   "outputs": [],
   "source": [
    "#Q4 try to write a lambda function which can return a concatenation of all string which we will pass\n",
    "j = \"\"\n",
    "n = lambda a,b,c : a+b+c"
   ]
  },
  {
   "cell_type": "code",
   "execution_count": 10,
   "id": "40c9156f",
   "metadata": {},
   "outputs": [
    {
     "data": {
      "text/plain": [
       "'hihellogood'"
      ]
     },
     "execution_count": 10,
     "metadata": {},
     "output_type": "execute_result"
    }
   ],
   "source": [
    "n(\"hi\",\"hello\",\"good\")"
   ]
  },
  {
   "cell_type": "code",
   "execution_count": 11,
   "id": "b0c4090f",
   "metadata": {},
   "outputs": [],
   "source": [
    "#Q5 try to write a lambda function which can return list of squares of all data between 1 - 100\n",
    "\n",
    "sqr = lambda : [i ** 2 for i in range(1,101)]"
   ]
  },
  {
   "cell_type": "code",
   "execution_count": 12,
   "id": "9f41c6f2",
   "metadata": {},
   "outputs": [
    {
     "data": {
      "text/plain": [
       "[1,\n",
       " 4,\n",
       " 9,\n",
       " 16,\n",
       " 25,\n",
       " 36,\n",
       " 49,\n",
       " 64,\n",
       " 81,\n",
       " 100,\n",
       " 121,\n",
       " 144,\n",
       " 169,\n",
       " 196,\n",
       " 225,\n",
       " 256,\n",
       " 289,\n",
       " 324,\n",
       " 361,\n",
       " 400,\n",
       " 441,\n",
       " 484,\n",
       " 529,\n",
       " 576,\n",
       " 625,\n",
       " 676,\n",
       " 729,\n",
       " 784,\n",
       " 841,\n",
       " 900,\n",
       " 961,\n",
       " 1024,\n",
       " 1089,\n",
       " 1156,\n",
       " 1225,\n",
       " 1296,\n",
       " 1369,\n",
       " 1444,\n",
       " 1521,\n",
       " 1600,\n",
       " 1681,\n",
       " 1764,\n",
       " 1849,\n",
       " 1936,\n",
       " 2025,\n",
       " 2116,\n",
       " 2209,\n",
       " 2304,\n",
       " 2401,\n",
       " 2500,\n",
       " 2601,\n",
       " 2704,\n",
       " 2809,\n",
       " 2916,\n",
       " 3025,\n",
       " 3136,\n",
       " 3249,\n",
       " 3364,\n",
       " 3481,\n",
       " 3600,\n",
       " 3721,\n",
       " 3844,\n",
       " 3969,\n",
       " 4096,\n",
       " 4225,\n",
       " 4356,\n",
       " 4489,\n",
       " 4624,\n",
       " 4761,\n",
       " 4900,\n",
       " 5041,\n",
       " 5184,\n",
       " 5329,\n",
       " 5476,\n",
       " 5625,\n",
       " 5776,\n",
       " 5929,\n",
       " 6084,\n",
       " 6241,\n",
       " 6400,\n",
       " 6561,\n",
       " 6724,\n",
       " 6889,\n",
       " 7056,\n",
       " 7225,\n",
       " 7396,\n",
       " 7569,\n",
       " 7744,\n",
       " 7921,\n",
       " 8100,\n",
       " 8281,\n",
       " 8464,\n",
       " 8649,\n",
       " 8836,\n",
       " 9025,\n",
       " 9216,\n",
       " 9409,\n",
       " 9604,\n",
       " 9801,\n",
       " 10000]"
      ]
     },
     "execution_count": 12,
     "metadata": {},
     "output_type": "execute_result"
    }
   ],
   "source": [
    "sqr()"
   ]
  },
  {
   "cell_type": "code",
   "execution_count": 13,
   "id": "abc6893f",
   "metadata": {},
   "outputs": [],
   "source": [
    "#Q6 try to write 10 different example of lambda function\n",
    "\n",
    "f1 = lambda a,b : a+b\n",
    "\n",
    "f2 = lambda s : len(s) + 10\n",
    "    \n",
    "f3 = lambda : [i**2 for i in range(10)]\n",
    "\n",
    "f4 = lambda a,b:  a.extend(b)\n",
    "\n",
    "f5 = lambda : 'prime' * 5\n",
    "\n",
    "f6 = lambda f : f+10\n",
    "\n",
    "f7 = lambda x: x%2 == 0\n",
    "\n",
    "f8 = lambda a,b,c : a*b*c\n",
    "\n",
    "f9 = lambda **kwargs : [i  for i in kwargs.values()]\n",
    "\n",
    "f10 = lambda **kwargs : [i*10 for i in kwargs.values()]"
   ]
  },
  {
   "cell_type": "code",
   "execution_count": 14,
   "id": "9f2f1d75",
   "metadata": {},
   "outputs": [
    {
     "data": {
      "text/plain": [
       "13"
      ]
     },
     "execution_count": 14,
     "metadata": {},
     "output_type": "execute_result"
    }
   ],
   "source": [
    "f1(6,7)"
   ]
  },
  {
   "cell_type": "code",
   "execution_count": 15,
   "id": "4ed55042",
   "metadata": {},
   "outputs": [
    {
     "data": {
      "text/plain": [
       "15"
      ]
     },
     "execution_count": 15,
     "metadata": {},
     "output_type": "execute_result"
    }
   ],
   "source": [
    "f2(\"delhi\")"
   ]
  },
  {
   "cell_type": "code",
   "execution_count": 16,
   "id": "abb99999",
   "metadata": {},
   "outputs": [
    {
     "data": {
      "text/plain": [
       "[0, 1, 4, 9, 16, 25, 36, 49, 64, 81]"
      ]
     },
     "execution_count": 16,
     "metadata": {},
     "output_type": "execute_result"
    }
   ],
   "source": [
    "f3()"
   ]
  },
  {
   "cell_type": "code",
   "execution_count": 17,
   "id": "1cc4a1ab",
   "metadata": {},
   "outputs": [
    {
     "data": {
      "text/plain": [
       "[0.9, 7, 8]"
      ]
     },
     "execution_count": 17,
     "metadata": {},
     "output_type": "execute_result"
    }
   ],
   "source": [
    "a = [0.9]\n",
    "b = [7,8]\n",
    "f4(a,b)\n",
    "a"
   ]
  },
  {
   "cell_type": "code",
   "execution_count": 18,
   "id": "69497a60",
   "metadata": {},
   "outputs": [
    {
     "data": {
      "text/plain": [
       "'primeprimeprimeprimeprime'"
      ]
     },
     "execution_count": 18,
     "metadata": {},
     "output_type": "execute_result"
    }
   ],
   "source": [
    "f5()"
   ]
  },
  {
   "cell_type": "code",
   "execution_count": 19,
   "id": "10c04642",
   "metadata": {},
   "outputs": [
    {
     "data": {
      "text/plain": [
       "18"
      ]
     },
     "execution_count": 19,
     "metadata": {},
     "output_type": "execute_result"
    }
   ],
   "source": [
    "f6(8)"
   ]
  },
  {
   "cell_type": "code",
   "execution_count": 20,
   "id": "6551f712",
   "metadata": {},
   "outputs": [
    {
     "data": {
      "text/plain": [
       "False"
      ]
     },
     "execution_count": 20,
     "metadata": {},
     "output_type": "execute_result"
    }
   ],
   "source": [
    "f7(9)"
   ]
  },
  {
   "cell_type": "code",
   "execution_count": 21,
   "id": "b10f4a20",
   "metadata": {},
   "outputs": [
    {
     "data": {
      "text/plain": [
       "432"
      ]
     },
     "execution_count": 21,
     "metadata": {},
     "output_type": "execute_result"
    }
   ],
   "source": [
    "f8(6,8,9)"
   ]
  },
  {
   "cell_type": "code",
   "execution_count": 22,
   "id": "50fe3b6d",
   "metadata": {},
   "outputs": [
    {
     "data": {
      "text/plain": [
       "[1, 6, 'hello']"
      ]
     },
     "execution_count": 22,
     "metadata": {},
     "output_type": "execute_result"
    }
   ],
   "source": [
    "f9(k1= 1,k2= 6,k3 =\"hello\")"
   ]
  },
  {
   "cell_type": "code",
   "execution_count": 23,
   "id": "8e8d2138",
   "metadata": {},
   "outputs": [
    {
     "data": {
      "text/plain": [
       "[10, 60, 'hellohellohellohellohellohellohellohellohellohello']"
      ]
     },
     "execution_count": 23,
     "metadata": {},
     "output_type": "execute_result"
    }
   ],
   "source": [
    "f10(k1= 1,k2= 6,k3 =\"hello\")"
   ]
  },
  {
   "cell_type": "code",
   "execution_count": 24,
   "id": "01cb3325",
   "metadata": {},
   "outputs": [
    {
     "name": "stdout",
     "output_type": "stream",
     "text": [
      "hi,this is sample file\n",
      "this is python program to read file\n",
      "this is new program\n"
     ]
    }
   ],
   "source": [
    "#Q7) try to write a function which can perform a read operation from txt file\n",
    "\n",
    "with open('sample.txt','r') as f:\n",
    "    lines = f.read()\n",
    "    print(lines)"
   ]
  }
 ],
 "metadata": {
  "kernelspec": {
   "display_name": "Python 3 (ipykernel)",
   "language": "python",
   "name": "python3"
  },
  "language_info": {
   "codemirror_mode": {
    "name": "ipython",
    "version": 3
   },
   "file_extension": ".py",
   "mimetype": "text/x-python",
   "name": "python",
   "nbconvert_exporter": "python",
   "pygments_lexer": "ipython3",
   "version": "3.9.7"
  }
 },
 "nbformat": 4,
 "nbformat_minor": 5
}
