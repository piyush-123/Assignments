{
 "cells": [
  {
   "cell_type": "markdown",
   "id": "43d11691",
   "metadata": {},
   "source": [
    "Question 1\n",
    "Create a function that takes a list of non-negative integers and strings and return a new list\n",
    "without the strings.   \n",
    "Examples   \n",
    "filter_list([1, 2, \"a\", \"b\"]) ➞ [1, 2]  \n",
    "filter_list([1, \"a\", \"b\", 0, 15]) ➞ [1, 0, 15]  \n",
    "filter_list([1, 2, \"aasf\", \"1\", \"123\", 123]) ➞ [1, 2, 123]  "
   ]
  },
  {
   "cell_type": "code",
   "execution_count": 4,
   "id": "9369e35e",
   "metadata": {},
   "outputs": [],
   "source": [
    "def filter_list(l):\n",
    "    l1 = []\n",
    "    for i in l:\n",
    "        if type(i) != str:\n",
    "            l1.append(i)\n",
    "    return l1"
   ]
  },
  {
   "cell_type": "code",
   "execution_count": 6,
   "id": "b31327ce",
   "metadata": {},
   "outputs": [
    {
     "name": "stdout",
     "output_type": "stream",
     "text": [
      "[1, 2]\n",
      "[1, 0, 15]\n",
      "[1, 2, 123]\n"
     ]
    }
   ],
   "source": [
    "print(filter_list([1, 2, \"a\", \"b\"]))\n",
    "print(filter_list([1, \"a\", \"b\", 0, 15]))\n",
    "print(filter_list([1, 2, \"aasf\", \"1\", \"123\", 123]))"
   ]
  },
  {
   "cell_type": "markdown",
   "id": "5169982c",
   "metadata": {},
   "source": [
    "Question 2  \n",
    "The \"Reverser\" takes a string as input and returns that string in reverse order, with the \n",
    "opposite case.  \n",
    "Examples  \n",
    "reverse(\"Hello World\") ➞ \"DLROw OLLEh\"  \n",
    "reverse(\"ReVeRsE\") ➞ \"eSrEvEr\"   \n",
    "reverse(\"Radar\") ➞ \"RADAr\"  "
   ]
  },
  {
   "cell_type": "code",
   "execution_count": 7,
   "id": "5bc14593",
   "metadata": {},
   "outputs": [],
   "source": [
    "def reverser(input_string):\n",
    "    output_string = \"\"\n",
    "    temp = input_string[::-1]\n",
    "    output_string = temp.swapcase()\n",
    "    return output_string"
   ]
  },
  {
   "cell_type": "code",
   "execution_count": 9,
   "id": "156702aa",
   "metadata": {},
   "outputs": [
    {
     "name": "stdout",
     "output_type": "stream",
     "text": [
      "DLROw OLLEh\n",
      "eSrEvEr\n",
      "RADAr\n"
     ]
    }
   ],
   "source": [
    "print(reverser(\"Hello World\") )\n",
    "print(reverser(\"ReVeRsE\") )\n",
    "print(reverser(\"Radar\")  )"
   ]
  },
  {
   "cell_type": "markdown",
   "id": "a86d92c8",
   "metadata": {},
   "source": [
    "Question 3  \n",
    "You can assign variables from lists like this:  \n",
    "lst = [1, 2, 3, 4, 5, 6]  \n",
    "first = lst[0]   \n",
    "middle = lst[1:-1]\n",
    "last = lst[-1]      \n",
    "print(first) ➞ outputs 1  \n",
    "print(middle) ➞ outputs [2, 3, 4, 5]  \n",
    "print(last) ➞ outputs 6   \n",
    "With Python 3, you can assign variables from lists in a much more succinct way. Create  \n",
    "variables first, middle and last from the given list using destructuring assignment  \n",
    "(check the Resources tab for some examples), where:  \n",
    "first ➞ 1  \n",
    "middle ➞ [2, 3, 4, 5]  \n",
    "last ➞ 6  \n",
    "Your task is to unpack the list writeyourcodehere into three variables, being first,  \n",
    "middle, and last, with middle being everything in between the first and last element. Then  \n",
    "print all three variables.   \n",
    "\n"
   ]
  },
  {
   "cell_type": "code",
   "execution_count": 11,
   "id": "5a3492e2",
   "metadata": {},
   "outputs": [
    {
     "name": "stdout",
     "output_type": "stream",
     "text": [
      "1\n",
      "[2, 3, 4, 5]\n",
      "6\n"
     ]
    }
   ],
   "source": [
    "lst = [1, 2, 3, 4, 5, 6]\n",
    "first,middle,last = lst[0],lst[1:-1],lst[-1]\n",
    "print(first)\n",
    "print(middle)\n",
    "print(last)"
   ]
  },
  {
   "cell_type": "markdown",
   "id": "6e974b26",
   "metadata": {},
   "source": [
    "Question 4  \n",
    "Write a function that calculates the factorial of a number recursively.  \n",
    "Examples  \n",
    "factorial(5) ➞ 120  \n",
    "factorial(3) ➞ 6  \n",
    "factorial(1) ➞ 1  \n",
    "factorial(0) ➞ 1  "
   ]
  },
  {
   "cell_type": "code",
   "execution_count": 12,
   "id": "547b442c",
   "metadata": {},
   "outputs": [],
   "source": [
    "def factorial(num):\n",
    "    if num < 2:\n",
    "        return 1\n",
    "    \n",
    "    return num*factorial(num-1)\n",
    "    "
   ]
  },
  {
   "cell_type": "code",
   "execution_count": 16,
   "id": "374a9a9f",
   "metadata": {},
   "outputs": [
    {
     "name": "stdout",
     "output_type": "stream",
     "text": [
      "120\n",
      "6\n",
      "1\n",
      "1\n"
     ]
    }
   ],
   "source": [
    "print(factorial(5))\n",
    "print(factorial(3))\n",
    "print(factorial(1))\n",
    "print(factorial(0))"
   ]
  },
  {
   "cell_type": "markdown",
   "id": "1337da59",
   "metadata": {},
   "source": [
    "Question 5  \n",
    "Write a function that moves all elements of one type to the end of the list.  \n",
    "Examples  \n",
    "move_to_end([1, 3, 2, 4, 4, 1], 1) ➞ [3, 2, 4, 4, 1, 1]  \n",
    "Move all the 1s to the end of the array.   \n",
    "move_to_end([7, 8, 9, 1, 2, 3, 4], 9) ➞ [7, 8, 1, 2, 3, 4, 9]   \n",
    "move_to_end([\"a\", \"a\", \"a\", \";b\"], \"a\") ➞ [\"b\", \"a\", \"a\", \"a\"]"
   ]
  },
  {
   "cell_type": "code",
   "execution_count": 17,
   "id": "2677bc34",
   "metadata": {},
   "outputs": [],
   "source": [
    "def move_to_end(l,i):\n",
    "    l1 = []\n",
    "    l2 = []\n",
    "    for j in l:\n",
    "        if j == i:\n",
    "            l2.append(j)\n",
    "        else:\n",
    "            l1.append(j)\n",
    "            \n",
    "    l1 = l1 + l2\n",
    "    \n",
    "    return l1"
   ]
  },
  {
   "cell_type": "code",
   "execution_count": 20,
   "id": "4b1c2923",
   "metadata": {},
   "outputs": [
    {
     "name": "stdout",
     "output_type": "stream",
     "text": [
      "[3, 2, 4, 4, 1, 1]\n",
      "[7, 8, 1, 2, 3, 4, 9]\n",
      "['b', 'a', 'a', 'a']\n"
     ]
    }
   ],
   "source": [
    "print(move_to_end([1, 3, 2, 4, 4, 1], 1))\n",
    "print(move_to_end([7, 8, 9, 1, 2, 3, 4], 9))\n",
    "print(move_to_end([\"a\", \"a\", \"a\", \"b\"], \"a\"))\n"
   ]
  }
 ],
 "metadata": {
  "kernelspec": {
   "display_name": "Python 3 (ipykernel)",
   "language": "python",
   "name": "python3"
  },
  "language_info": {
   "codemirror_mode": {
    "name": "ipython",
    "version": 3
   },
   "file_extension": ".py",
   "mimetype": "text/x-python",
   "name": "python",
   "nbconvert_exporter": "python",
   "pygments_lexer": "ipython3",
   "version": "3.10.4"
  }
 },
 "nbformat": 4,
 "nbformat_minor": 5
}
