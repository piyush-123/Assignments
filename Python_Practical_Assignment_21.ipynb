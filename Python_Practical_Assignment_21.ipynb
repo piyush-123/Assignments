{
 "cells": [
  {
   "cell_type": "markdown",
   "id": "1ae90140",
   "metadata": {},
   "source": [
    "Question1  \n",
    "Write a function that takes a list and a number as arguments. Add the number to the end of  \n",
    "the list, then remove the first element of the list. The function should then return the updated  \n",
    "list.  \n",
    "Examples  \n",
    "next_in_line([5, 6, 7, 8, 9], 1) ➞ [6, 7, 8, 9, 1]  \n",
    "next_in_line([7, 6, 3, 23, 17], 10) ➞ [6, 3, 23, 17, 10]  \n",
    "next_in_line([1, 10, 20, 42 ], 6) ➞ [10, 20, 42, 6]  \n",
    "next_in_line([], 6) ➞ \"No list has been selected\";  "
   ]
  },
  {
   "cell_type": "code",
   "execution_count": 5,
   "id": "bb5c6a46",
   "metadata": {},
   "outputs": [],
   "source": [
    "def next_in_line(l,a):\n",
    "    if len(l) > 0:\n",
    "        l.append(a)\n",
    "        l.pop(0)\n",
    "        return l\n",
    "    else:\n",
    "        return \"No list has been selected\""
   ]
  },
  {
   "cell_type": "code",
   "execution_count": 6,
   "id": "f2cc46e4",
   "metadata": {},
   "outputs": [
    {
     "name": "stdout",
     "output_type": "stream",
     "text": [
      "[6, 7, 8, 9, 1]\n",
      "[6, 3, 23, 17, 10]\n",
      "[10, 20, 42, 6]\n",
      "No list has been selected\n"
     ]
    }
   ],
   "source": [
    "print(next_in_line([5, 6, 7, 8, 9], 1))\n",
    "print(next_in_line([7, 6, 3, 23, 17], 10))\n",
    "print(next_in_line([1, 10, 20, 42 ], 6))\n",
    "print(next_in_line([], 6) )"
   ]
  },
  {
   "cell_type": "markdown",
   "id": "76f057c3",
   "metadata": {},
   "source": [
    "Question2  \n",
    "Create the function that takes a list of dictionaries and returns the sum of peoples budgets.\n",
    "Examples\n",
    "get_budgets([\n",
    "{ \"name\": \"John\", \"age\": 21, \"budget\": 23000 },  \n",
    "{ \"name\": \"Steve\", \"age\": 32, \"budget\": 40000 },  \n",
    "{ \"name\": \"Martin\", \"age\": 16, \"budget\": 2700 }   \n",
    "]) ➞ 65700  \n",
    "get_budgets([  \n",
    "{\"name\": \"John\", \"age\": 21, \"budget\": 29000 },  \n",
    "{ \"name\": \"Steve\", \"age\": 32, \"budget\": 32000 },  \n",
    "{ \"name\": \"Martin\", \"age\": 16, \"budget\": 1600 }  \n",
    "]) ➞ 62600  "
   ]
  },
  {
   "cell_type": "code",
   "execution_count": 8,
   "id": "35a2945b",
   "metadata": {},
   "outputs": [],
   "source": [
    "def get_bugdets(d):\n",
    "    output = 0\n",
    "    for i in d:\n",
    "        for (key,value) in i.items():\n",
    "            if key == \"budget\":\n",
    "                output = output + value\n",
    "    return output"
   ]
  },
  {
   "cell_type": "code",
   "execution_count": 11,
   "id": "d782b63d",
   "metadata": {},
   "outputs": [
    {
     "name": "stdout",
     "output_type": "stream",
     "text": [
      "65700\n",
      "62600\n"
     ]
    }
   ],
   "source": [
    "print(get_bugdets([ { \"name\": \"John\", \"age\": 21, \"budget\": 23000 },\n",
    "{ \"name\": \"Steve\", \"age\": 32, \"budget\": 40000 },\n",
    "{ \"name\": \"Martin\", \"age\": 16, \"budget\": 2700 }\n",
    "]))\n",
    "\n",
    "print(get_bugdets([\n",
    "{\"name\": \"John\", \"age\": 21, \"budget\": 29000 },\n",
    "{ \"name\": \"Steve\", \"age\": 32, \"budget\": 32000 },\n",
    "{ \"name\": \"Martin\", \"age\": 16, \"budget\": 1600 }\n",
    "]))"
   ]
  },
  {
   "cell_type": "markdown",
   "id": "bfc716f3",
   "metadata": {},
   "source": [
    "Question3  \n",
    "Create a function that takes a string and returns a string with its letters in alphabetical order.  \n",
    "Examples     \n",
    "alphabet_soup(\"hello\") ➞ \"ehllo\"   \n",
    "alphabet_soup(\"edabit\") ➞ \"abdeit\"   \n",
    "alphabet_soup(\"hacker\") ➞\"acehkr\"   \n",
    "alphabet_soup(\"geek\" ➞ \"eegk\"   \n",
    "alphabet_soup(\"javascript\") ➞ \"aacijprstv\"   "
   ]
  },
  {
   "cell_type": "code",
   "execution_count": 14,
   "id": "c313e5c4",
   "metadata": {},
   "outputs": [],
   "source": [
    "def alphabet_soup(input_string):\n",
    "    out = sorted(input_string)\n",
    "    out = ''.join(out)\n",
    "    return out\n",
    "    "
   ]
  },
  {
   "cell_type": "code",
   "execution_count": 17,
   "id": "cca3223e",
   "metadata": {},
   "outputs": [
    {
     "name": "stdout",
     "output_type": "stream",
     "text": [
      "ehllo\n",
      "abdeit\n",
      "acehkr\n",
      "eegk\n",
      "aacijprstv\n"
     ]
    }
   ],
   "source": [
    "print(alphabet_soup(\"hello\") )\n",
    "print(alphabet_soup(\"edabit\") )\n",
    "print(alphabet_soup(\"hacker\") )\n",
    "print(alphabet_soup(\"geek\") )\n",
    "print(alphabet_soup(\"javascript\") )\n"
   ]
  },
  {
   "cell_type": "markdown",
   "id": "d60ae9fc",
   "metadata": {},
   "source": [
    "Question4  \n",
    "Suppose that you invest $10,000 for 10 years at an interest rate of 6% compounded monthly.  \n",
    "What will be the value of your investment at the end of the 10 year period?  \n",
    "Create a function that accepts the principal p, the term in years t, the interest rate r, and the  \n",
    "number of compounding periods per year n. The function returns the value at the end of term  \n",
    "rounded to the nearest cent.  \n",
    "For the example above:  \n",
    "compound_interest(10000, 10, 0.06, 12) ➞ 18193.97   \n",
    "Note that the interest rate is given as a decimal and n=12 because with monthly compounding  \n",
    "there are 12 periods per year. Compounding can also be done annually, quarterly, weekly, or  \n",
    "daily.  \n",
    "Examples  \n",
    "compound_interest(100, 1, 0.05, 1) ➞ 105.0  \n",
    "compound_interest(3500, 15, 0.1, 4) ➞ 15399.26  \n",
    "compound_interest(100000, 20, 0.15, 365) ➞ 2007316.26   "
   ]
  },
  {
   "cell_type": "code",
   "execution_count": 29,
   "id": "5868fca0",
   "metadata": {},
   "outputs": [],
   "source": [
    "def compound_interest(p,t,r,n):\n",
    "    result =  round((p * ((1+(r/n))**(t*n))),2) \n",
    "\n",
    "    return result"
   ]
  },
  {
   "cell_type": "code",
   "execution_count": 30,
   "id": "9b8a90ea",
   "metadata": {},
   "outputs": [
    {
     "name": "stdout",
     "output_type": "stream",
     "text": [
      "105.0\n",
      "15399.26\n",
      "2007316.26\n"
     ]
    }
   ],
   "source": [
    "print(compound_interest(100, 1, 0.05, 1))\n",
    "print(compound_interest(3500, 15, 0.1, 4))\n",
    "print(compound_interest(100000, 20, 0.15, 365))"
   ]
  },
  {
   "cell_type": "markdown",
   "id": "ffe1bcff",
   "metadata": {},
   "source": [
    "Question5  \n",
    "Write a function that takes a list of elements and returns only the integers.  \n",
    "return_only_integer([9, 2, \"space\", \"ca\", \"lion\", 16]) ➞ [9, 2, 16]"
   ]
  },
  {
   "cell_type": "code",
   "execution_count": 31,
   "id": "2bbb5fda",
   "metadata": {},
   "outputs": [],
   "source": [
    "def return_only_integer(l):\n",
    "    l1 = []\n",
    "    for i in l:\n",
    "        if type(i) != str:\n",
    "            l1.append(i)\n",
    "    return l1"
   ]
  },
  {
   "cell_type": "code",
   "execution_count": 34,
   "id": "e713a2b4",
   "metadata": {},
   "outputs": [
    {
     "name": "stdout",
     "output_type": "stream",
     "text": [
      "[9, 2, 16]\n",
      "[81, 123]\n",
      "[10, 56, 20, 3]\n"
     ]
    }
   ],
   "source": [
    "print(return_only_integer([9, 2, \"space\", \"ca\", \"lion\", 16]))\n",
    "print(return_only_integer([\"hello\", 81, \"basketball\", 123, \"fox\"])) \n",
    "print(return_only_integer([10, \"121\", 56, 20, \"car\", 3, \"lion\"]) )"
   ]
  },
  {
   "cell_type": "code",
   "execution_count": null,
   "id": "5b2ae0ac",
   "metadata": {},
   "outputs": [],
   "source": []
  }
 ],
 "metadata": {
  "kernelspec": {
   "display_name": "Python 3 (ipykernel)",
   "language": "python",
   "name": "python3"
  },
  "language_info": {
   "codemirror_mode": {
    "name": "ipython",
    "version": 3
   },
   "file_extension": ".py",
   "mimetype": "text/x-python",
   "name": "python",
   "nbconvert_exporter": "python",
   "pygments_lexer": "ipython3",
   "version": "3.10.4"
  }
 },
 "nbformat": 4,
 "nbformat_minor": 5
}
